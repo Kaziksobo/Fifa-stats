{
 "cells": [
  {
   "cell_type": "code",
   "execution_count": 25,
   "metadata": {},
   "outputs": [],
   "source": [
    "import json, os, re\n",
    "from pathlib import Path\n",
    "from matplotlib import pyplot as plt\n",
    "from matplotlib.lines import Line2D\n",
    "import pandas as pd\n",
    "import numpy as np\n",
    "import plotly.express as px\n",
    "import plotly.graph_objects as go\n",
    "\n",
    "from analysis_functions import loader, create_players_dataframe, player_id2player, team_id2team"
   ]
  },
  {
   "cell_type": "code",
   "execution_count": 26,
   "metadata": {},
   "outputs": [],
   "source": [
    "colour_dict = {\n",
    "    'GK': 'red',\n",
    "    'CB': 'orangered',\n",
    "    'LB': 'darkorange',\n",
    "    'RB': 'coral',\n",
    "    'CDM': 'gold',\n",
    "    'CM': 'yellow',\n",
    "    'RW': 'limegreen',\n",
    "    'LW': 'greenyellow',\n",
    "    'ST': 'green'\n",
    "}\n",
    "\n",
    "def stats_conv(stat: str) -> str:\n",
    "    if 'pp' in stat:\n",
    "        stat = stat.replace('pp', 'per % possession')\n",
    "    if 'pShot' in stat:\n",
    "        stat = stat.replace('pShot', ' per shot')\n",
    "    if 'p90' in stat:\n",
    "        stat = stat.replace('p90', ' per 90')\n",
    "    if 'xGC' in stat:\n",
    "        stat = stat.replace('xGC', 'Expected goal contributions')\n",
    "    if 'xG' in stat:\n",
    "        stat = stat.replace('xG', 'Expected goals')\n",
    "    if 'xA' in stat:\n",
    "        stat = stat.replace('xA', 'Expected assists')\n",
    "    stat = re.sub(r\"(\\w)([A-Z])\", r\"\\1 \\2\", stat)\n",
    "    stat = stat.lower().capitalize()\n",
    "    return stat"
   ]
  },
  {
   "cell_type": "code",
   "execution_count": 27,
   "metadata": {},
   "outputs": [],
   "source": [
    "version = 'summer_end'\n",
    "season = '25_26'\n",
    "players, matches, teams = loader(version, season)"
   ]
  },
  {
   "cell_type": "code",
   "execution_count": 28,
   "metadata": {},
   "outputs": [],
   "source": [
    "stats = [\"MinutesPlayed\", \"MatchRating\", \"GoalsConceded\", \"OwnGoals\", \"Goals\", \"Assists\", \"Shots\", \"ShotsOnTarget\", \"PenaltiesTaken\", \"PenaltiesScored\", \"PenaltiesConceded\", \"xG\", \"xA\", \"Passes\", \"PassesCompleted\", \"Possession\", \"PossessionWon\", \"PossessionLost\", \"YellowCards\", \"RedCards\"]\n",
    "gk_stats = [\"ShotsFaced\", \"Saves\", \"PenaltiesFaced\", \"PenaltiesSaved\"]\n",
    "for player in players:\n",
    "    player[\"Appearances\"] = 0\n",
    "    for stat in stats:\n",
    "        player[stat] = 0\n",
    "    for stat in gk_stats:\n",
    "        player[stat] = 0\n",
    "    for comp, matchs in matches.items():\n",
    "        for match in matchs:\n",
    "            for section in [match['Teams']['Barcelona']['Players']['Lineup'], match['Teams']['Barcelona']['Players']['Bench']]:\n",
    "                for person in section:\n",
    "                    if person['PlayerId'] == player['Id']:\n",
    "                        if player['MinutesPlayed'] > 0:\n",
    "                            player[\"Appearances\"] += 1\n",
    "                        for stat in stats:\n",
    "                            if person[stat]:\n",
    "                                player[stat] += person[stat]\n",
    "                        if person['Goalkeeping']:\n",
    "                            for stat in gk_stats:\n",
    "                                player[stat] += person[\"Goalkeeping\"][stat]\n",
    "    if player['Position'] != 'GK':\n",
    "        for stat in gk_stats:\n",
    "            player[stat] = None\n",
    "    for stat in stats:\n",
    "        statp90 = f'{stat}p90'\n",
    "        if player['MinutesPlayed'] != 0:\n",
    "            player[statp90] = round(((player[stat]/player['MinutesPlayed']) * 90), 2)\n",
    "        else:\n",
    "            player[statp90] = 0\n",
    "    if player['Position'] == 'GK':\n",
    "        for stat in gk_stats:\n",
    "            statp90 = f'{stat}p90'\n",
    "            if player['MinutesPlayed'] != 0:\n",
    "                player[statp90] = round(((player[stat]/player['MinutesPlayed']) * 90), 2)\n",
    "            else:\n",
    "                player[statp90] = 0\n",
    "    player['PassCompletion'] = 0\n",
    "    if player['Passes'] > 0:\n",
    "        player['PassCompletion'] = round((player['PassesCompleted'] / player['Passes']), 2)\n",
    "    player['ShotAccuracy'] = 0\n",
    "    if player['Shots'] > 0:\n",
    "        player['ShotAccuracy'] = round((player['ShotsOnTarget'] / player['Shots']), 2)\n",
    "    player['ShotConversion'] = 0\n",
    "    if player['Goals'] > 0:\n",
    "        player['ShotConversion'] = round((player['Goals'] / player['Shots']), 2)\n",
    "    player['xGpShot'] = 0\n",
    "    if player['xG'] > 0:\n",
    "        player['xGpShot'] = round((player['xG'] / player['Shots']), 2)\n",
    "    player['GC'] = player['Goals'] + player['Assists']\n",
    "    player['GCp90'] = 0\n",
    "    if player['MinutesPlayed'] != 0:\n",
    "        player['GCp90'] = round((player['GC'] / player['MinutesPlayed']) * 90, 2)\n",
    "    player['xGC'] = player['xG'] + player['xA']\n",
    "    player['xGCp90'] = 0\n",
    "    if player['xGC'] > 0:\n",
    "        player['xGCp90'] = round(((player['xGC'] / player['MinutesPlayed']) * 90), 2)\n",
    "    player['MinutesPlayedpg'] = 0\n",
    "    if player['MinutesPlayed'] > 0:\n",
    "        player['MinutesPlayedpg'] = round((player['MinutesPlayed'] / player['Appearances']), 2)\n",
    "    player['PossessionWonpp'] = 0\n",
    "    if player['Possession'] > 0:\n",
    "        player['PossessionWonpp'] = round((player['PossessionWon'] / player['Possession']), 2)\n",
    "    player['PossessionLostpp'] = 0\n",
    "    if player['Possession'] > 0:\n",
    "        player['PossessionLostpp'] = round((player['PossessionLost'] / player['Possession']), 2)\n",
    "    player['FullName'] = player['FirstName'] + ' ' + player['LastName']\n",
    "    player['Color'] = colour_dict[player['Position']]\n",
    "    if player['FullName'] == 'Pedro González':\n",
    "        player['FullName'] = 'Pedri'\n",
    "\n",
    "\n",
    "players_df = create_players_dataframe(players)"
   ]
  },
  {
   "cell_type": "code",
   "execution_count": 29,
   "metadata": {},
   "outputs": [],
   "source": [
    "def scatter_chart(x: str, y: str, size_stat='MinutesPlayed', height=800, width=800, gk=False, outfield=True, color_stat='Position', trendline=False, fixed_ratio=True):\n",
    "    global players_df, colour_dict\n",
    "    temp_df = players_df\n",
    "    if not gk:\n",
    "        temp_df = temp_df[~temp_df.Position.str.contains('GK')]\n",
    "    if not outfield:\n",
    "        for position in ['CB', 'LB', 'RB', 'CDM', 'CM', 'LW', 'RW', 'ST']:\n",
    "            temp_df = temp_df[~temp_df.Position.str.contains(position)]\n",
    "    df = temp_df[['FullName', x, y, size_stat, color_stat]].copy()\n",
    "    df = df[(df == 0).sum(1) < 2]\n",
    "    df = df.fillna(0)\n",
    "\n",
    "    color_map = colour_dict if color_stat == 'Position' else {}\n",
    "    if color_stat == 'Academy':\n",
    "        color_map = {True: 'green', False: 'red'}\n",
    "    \n",
    "    fig = px.scatter(\n",
    "        df, \n",
    "        x=x, \n",
    "        y=y, \n",
    "        color=color_stat, \n",
    "        color_discrete_map=color_map,\n",
    "        size=size_stat, \n",
    "        hover_data=['FullName'], \n",
    "        labels={\n",
    "            x: stats_conv(x),\n",
    "            y: stats_conv(y),\n",
    "            size_stat: stats_conv(size_stat),\n",
    "            'FullName': 'Name'\n",
    "        },\n",
    "        text='FullName',\n",
    "        trendline='ols' if trendline else None,\n",
    "        trendline_scope='overall'\n",
    "    )\n",
    "\n",
    "    annotation_size = f'Size of data point - {stats_conv(size_stat)}'\n",
    "\n",
    "    fig.update_traces(textposition='top center')\n",
    "    if fixed_ratio:\n",
    "        fig.update_xaxes(dtick=0.5, tick0=0, ticklabelstep=2, zeroline=True, zerolinewidth=2, zerolinecolor='Black', scaleanchor='y', scaleratio=1)\n",
    "        fig.update_yaxes(dtick=0.5, tick0=0, ticklabelstep=2, zeroline=True, zerolinewidth=2, zerolinecolor='Black', scaleanchor='x', scaleratio=1)\n",
    "    fig.add_annotation(\n",
    "        x=1,\n",
    "        y=-0.1,\n",
    "        text=annotation_size,\n",
    "        showarrow=False,\n",
    "        xref='paper',\n",
    "        yref='paper',\n",
    "        xanchor='right',\n",
    "        yanchor='auto',\n",
    "        xshift=0,\n",
    "        yshift=0\n",
    "    )\n",
    "    fig.update_layout(\n",
    "        width=width, \n",
    "        height=height,\n",
    "        title=f'{stats_conv(x)} vs {stats_conv(y)}',\n",
    "    )\n",
    "\n",
    "    fig.show()"
   ]
  },
  {
   "cell_type": "code",
   "execution_count": 30,
   "metadata": {},
   "outputs": [],
   "source": [
    "def diverging_bars(stat: str, xmin=1.0):\n",
    "    pd.options.mode.chained_assignment = None\n",
    "    df = players_df[players_df[stat] != 0]\n",
    "    df.sort_values(stat, inplace=True)\n",
    "    df.reset_index(inplace=True)\n",
    "\n",
    "    legend_lines = []\n",
    "    for position, colour in colour_dict.items():\n",
    "        line = Line2D([0], [0], color=colour, lw=4, label=position)\n",
    "        legend_lines.append(line)\n",
    "\n",
    "    plt.figure(figsize=(14, 10), dpi=80)\n",
    "    plt.hlines(y=df.index, xmin=xmin, xmax=df[stat], color=df.Color, alpha=0.8, linewidth=5)\n",
    "    plt.gca().set(ylabel='Player', xlabel=stats_conv(stat))\n",
    "    plt.yticks(df.index, df.FullName, fontsize=12)\n",
    "    plt.title(stats_conv(stat), fontdict={'size': 20})\n",
    "    plt.grid(linestyle='--', alpha=0.5)\n",
    "\n",
    "    plt.legend(handles=legend_lines, loc='lower right')\n",
    "    plt.show()"
   ]
  },
  {
   "cell_type": "code",
   "execution_count": 31,
   "metadata": {},
   "outputs": [],
   "source": [
    "def grouped_bar(stat1, stat2, height=600, width=1600):\n",
    "    temp_df = players_df\n",
    "    temp_df = temp_df[~temp_df.Position.str.contains('GK')]\n",
    "    df = temp_df[['FullName', stat1, stat2]].copy()\n",
    "    df = df[df[stat2] != 0]\n",
    "    df = df.fillna(0)\n",
    "    df.sort_values(stat1, inplace=True)\n",
    "    df = df.replace({r'\\s+$': '', r'^\\s+': ''}, regex=True).replace(' ',  '<br>', regex=True)\n",
    "    \n",
    "    fig = go.Figure(data=[\n",
    "        go.Bar(\n",
    "        name=stat1,\n",
    "        x=df['FullName'],\n",
    "        y=df[stat1],\n",
    "        text=df[stat1]\n",
    "    ),\n",
    "    go.Bar(\n",
    "        name=stat2,\n",
    "        x=df['FullName'],\n",
    "        y=df[stat2],\n",
    "        text=df[stat2]\n",
    "    )\n",
    "    ])\n",
    "    fig.update_layout(\n",
    "        barmode='group', \n",
    "        xaxis={'categoryorder': 'min descending'},\n",
    "        bargap=0.15,\n",
    "        bargroupgap=0.1,\n",
    "        height=height,\n",
    "        width=width,\n",
    "        title=f'{stats_conv(stat1)} vs {stats_conv(stat2)}',\n",
    "        xaxis_title='Players',\n",
    "        yaxis_title=f'{stats_conv(stat1)} & {stats_conv(stat2)}'\n",
    "    )\n",
    "    fig.update_traces(\n",
    "        textposition='outside',\n",
    "        textfont_size=10,\n",
    "        cliponaxis=False\n",
    "    )\n",
    "\n",
    "    fig.show()"
   ]
  },
  {
   "cell_type": "code",
   "execution_count": 32,
   "metadata": {},
   "outputs": [],
   "source": [
    "def pie_chart(stat: str, pull_out=None, pull_distance=0.15, show_percent=True):\n",
    "    temp_df = players_df[players_df[stat] != 0]\n",
    "    df = temp_df[['FullName', stat]].copy()\n",
    "    df.sort_values(stat, inplace=True, ascending=False)\n",
    "    labels = df['FullName']\n",
    "    values = df[stat]\n",
    "    pull = labels.tolist()\n",
    "\n",
    "    if type(pull_out) == list:\n",
    "        for pullo in pull_out:\n",
    "            if pullo in pull:\n",
    "                for i in range(len(pull)):\n",
    "                    if pull[i] == pullo:\n",
    "                        pull[i] = pull_distance\n",
    "\n",
    "            elif type(pullo) == int:\n",
    "                for i in range(len(pull)):\n",
    "                    if i == (pullo - 1):\n",
    "                        pull[i] = pull_distance\n",
    "\n",
    "        for i in range(len(pull)):\n",
    "            if pull[i] != pull_distance:\n",
    "                pull[i] = 0\n",
    "    else:\n",
    "        for i in range(len(pull)):\n",
    "            pull[i] = pull_distance if pull[i] == pull_out else 0\n",
    "\n",
    "        if type(pull_out) == int:\n",
    "            pull[i] == pull_distance if (i - 1) == pull_out else 0\n",
    "\n",
    "    textinfo = 'label + percent' if show_percent else 'label'\n",
    "    \n",
    "    fig = go.Figure(data=[go.Pie(\n",
    "        labels=labels,\n",
    "        values=values,\n",
    "        pull=pull,\n",
    "        textinfo=textinfo,\n",
    "    )])\n",
    "\n",
    "    fig.update_layout(\n",
    "        height=800,\n",
    "        width=800\n",
    "    )\n",
    "\n",
    "    fig.show()"
   ]
  },
  {
   "cell_type": "code",
   "execution_count": 33,
   "metadata": {},
   "outputs": [
    {
     "data": {
      "application/vnd.plotly.v1+json": {
       "config": {
        "plotlyServerURL": "https://plot.ly"
       },
       "data": [
        {
         "labels": [
          "Victor Osimhen",
          "Karim Adeyemi",
          "Pablo Gavi",
          "Pedri",
          "Luciano Couto",
          "Frenkie de Jong",
          "Ferran Torres",
          "Muhamed Zukic",
          "Ansu Fati",
          "Felix Davey",
          "Noni Madueke"
         ],
         "pull": [
          0,
          0,
          0,
          0,
          0,
          0,
          0,
          0,
          0,
          0,
          0
         ],
         "textinfo": "label+percent",
         "type": "pie",
         "values": [
          17,
          14,
          7,
          6,
          4,
          4,
          4,
          4,
          2,
          1,
          1
         ]
        }
       ],
       "layout": {
        "height": 800,
        "template": {
         "data": {
          "bar": [
           {
            "error_x": {
             "color": "#2a3f5f"
            },
            "error_y": {
             "color": "#2a3f5f"
            },
            "marker": {
             "line": {
              "color": "#E5ECF6",
              "width": 0.5
             },
             "pattern": {
              "fillmode": "overlay",
              "size": 10,
              "solidity": 0.2
             }
            },
            "type": "bar"
           }
          ],
          "barpolar": [
           {
            "marker": {
             "line": {
              "color": "#E5ECF6",
              "width": 0.5
             },
             "pattern": {
              "fillmode": "overlay",
              "size": 10,
              "solidity": 0.2
             }
            },
            "type": "barpolar"
           }
          ],
          "carpet": [
           {
            "aaxis": {
             "endlinecolor": "#2a3f5f",
             "gridcolor": "white",
             "linecolor": "white",
             "minorgridcolor": "white",
             "startlinecolor": "#2a3f5f"
            },
            "baxis": {
             "endlinecolor": "#2a3f5f",
             "gridcolor": "white",
             "linecolor": "white",
             "minorgridcolor": "white",
             "startlinecolor": "#2a3f5f"
            },
            "type": "carpet"
           }
          ],
          "choropleth": [
           {
            "colorbar": {
             "outlinewidth": 0,
             "ticks": ""
            },
            "type": "choropleth"
           }
          ],
          "contour": [
           {
            "colorbar": {
             "outlinewidth": 0,
             "ticks": ""
            },
            "colorscale": [
             [
              0,
              "#0d0887"
             ],
             [
              0.1111111111111111,
              "#46039f"
             ],
             [
              0.2222222222222222,
              "#7201a8"
             ],
             [
              0.3333333333333333,
              "#9c179e"
             ],
             [
              0.4444444444444444,
              "#bd3786"
             ],
             [
              0.5555555555555556,
              "#d8576b"
             ],
             [
              0.6666666666666666,
              "#ed7953"
             ],
             [
              0.7777777777777778,
              "#fb9f3a"
             ],
             [
              0.8888888888888888,
              "#fdca26"
             ],
             [
              1,
              "#f0f921"
             ]
            ],
            "type": "contour"
           }
          ],
          "contourcarpet": [
           {
            "colorbar": {
             "outlinewidth": 0,
             "ticks": ""
            },
            "type": "contourcarpet"
           }
          ],
          "heatmap": [
           {
            "colorbar": {
             "outlinewidth": 0,
             "ticks": ""
            },
            "colorscale": [
             [
              0,
              "#0d0887"
             ],
             [
              0.1111111111111111,
              "#46039f"
             ],
             [
              0.2222222222222222,
              "#7201a8"
             ],
             [
              0.3333333333333333,
              "#9c179e"
             ],
             [
              0.4444444444444444,
              "#bd3786"
             ],
             [
              0.5555555555555556,
              "#d8576b"
             ],
             [
              0.6666666666666666,
              "#ed7953"
             ],
             [
              0.7777777777777778,
              "#fb9f3a"
             ],
             [
              0.8888888888888888,
              "#fdca26"
             ],
             [
              1,
              "#f0f921"
             ]
            ],
            "type": "heatmap"
           }
          ],
          "heatmapgl": [
           {
            "colorbar": {
             "outlinewidth": 0,
             "ticks": ""
            },
            "colorscale": [
             [
              0,
              "#0d0887"
             ],
             [
              0.1111111111111111,
              "#46039f"
             ],
             [
              0.2222222222222222,
              "#7201a8"
             ],
             [
              0.3333333333333333,
              "#9c179e"
             ],
             [
              0.4444444444444444,
              "#bd3786"
             ],
             [
              0.5555555555555556,
              "#d8576b"
             ],
             [
              0.6666666666666666,
              "#ed7953"
             ],
             [
              0.7777777777777778,
              "#fb9f3a"
             ],
             [
              0.8888888888888888,
              "#fdca26"
             ],
             [
              1,
              "#f0f921"
             ]
            ],
            "type": "heatmapgl"
           }
          ],
          "histogram": [
           {
            "marker": {
             "pattern": {
              "fillmode": "overlay",
              "size": 10,
              "solidity": 0.2
             }
            },
            "type": "histogram"
           }
          ],
          "histogram2d": [
           {
            "colorbar": {
             "outlinewidth": 0,
             "ticks": ""
            },
            "colorscale": [
             [
              0,
              "#0d0887"
             ],
             [
              0.1111111111111111,
              "#46039f"
             ],
             [
              0.2222222222222222,
              "#7201a8"
             ],
             [
              0.3333333333333333,
              "#9c179e"
             ],
             [
              0.4444444444444444,
              "#bd3786"
             ],
             [
              0.5555555555555556,
              "#d8576b"
             ],
             [
              0.6666666666666666,
              "#ed7953"
             ],
             [
              0.7777777777777778,
              "#fb9f3a"
             ],
             [
              0.8888888888888888,
              "#fdca26"
             ],
             [
              1,
              "#f0f921"
             ]
            ],
            "type": "histogram2d"
           }
          ],
          "histogram2dcontour": [
           {
            "colorbar": {
             "outlinewidth": 0,
             "ticks": ""
            },
            "colorscale": [
             [
              0,
              "#0d0887"
             ],
             [
              0.1111111111111111,
              "#46039f"
             ],
             [
              0.2222222222222222,
              "#7201a8"
             ],
             [
              0.3333333333333333,
              "#9c179e"
             ],
             [
              0.4444444444444444,
              "#bd3786"
             ],
             [
              0.5555555555555556,
              "#d8576b"
             ],
             [
              0.6666666666666666,
              "#ed7953"
             ],
             [
              0.7777777777777778,
              "#fb9f3a"
             ],
             [
              0.8888888888888888,
              "#fdca26"
             ],
             [
              1,
              "#f0f921"
             ]
            ],
            "type": "histogram2dcontour"
           }
          ],
          "mesh3d": [
           {
            "colorbar": {
             "outlinewidth": 0,
             "ticks": ""
            },
            "type": "mesh3d"
           }
          ],
          "parcoords": [
           {
            "line": {
             "colorbar": {
              "outlinewidth": 0,
              "ticks": ""
             }
            },
            "type": "parcoords"
           }
          ],
          "pie": [
           {
            "automargin": true,
            "type": "pie"
           }
          ],
          "scatter": [
           {
            "fillpattern": {
             "fillmode": "overlay",
             "size": 10,
             "solidity": 0.2
            },
            "type": "scatter"
           }
          ],
          "scatter3d": [
           {
            "line": {
             "colorbar": {
              "outlinewidth": 0,
              "ticks": ""
             }
            },
            "marker": {
             "colorbar": {
              "outlinewidth": 0,
              "ticks": ""
             }
            },
            "type": "scatter3d"
           }
          ],
          "scattercarpet": [
           {
            "marker": {
             "colorbar": {
              "outlinewidth": 0,
              "ticks": ""
             }
            },
            "type": "scattercarpet"
           }
          ],
          "scattergeo": [
           {
            "marker": {
             "colorbar": {
              "outlinewidth": 0,
              "ticks": ""
             }
            },
            "type": "scattergeo"
           }
          ],
          "scattergl": [
           {
            "marker": {
             "colorbar": {
              "outlinewidth": 0,
              "ticks": ""
             }
            },
            "type": "scattergl"
           }
          ],
          "scattermapbox": [
           {
            "marker": {
             "colorbar": {
              "outlinewidth": 0,
              "ticks": ""
             }
            },
            "type": "scattermapbox"
           }
          ],
          "scatterpolar": [
           {
            "marker": {
             "colorbar": {
              "outlinewidth": 0,
              "ticks": ""
             }
            },
            "type": "scatterpolar"
           }
          ],
          "scatterpolargl": [
           {
            "marker": {
             "colorbar": {
              "outlinewidth": 0,
              "ticks": ""
             }
            },
            "type": "scatterpolargl"
           }
          ],
          "scatterternary": [
           {
            "marker": {
             "colorbar": {
              "outlinewidth": 0,
              "ticks": ""
             }
            },
            "type": "scatterternary"
           }
          ],
          "surface": [
           {
            "colorbar": {
             "outlinewidth": 0,
             "ticks": ""
            },
            "colorscale": [
             [
              0,
              "#0d0887"
             ],
             [
              0.1111111111111111,
              "#46039f"
             ],
             [
              0.2222222222222222,
              "#7201a8"
             ],
             [
              0.3333333333333333,
              "#9c179e"
             ],
             [
              0.4444444444444444,
              "#bd3786"
             ],
             [
              0.5555555555555556,
              "#d8576b"
             ],
             [
              0.6666666666666666,
              "#ed7953"
             ],
             [
              0.7777777777777778,
              "#fb9f3a"
             ],
             [
              0.8888888888888888,
              "#fdca26"
             ],
             [
              1,
              "#f0f921"
             ]
            ],
            "type": "surface"
           }
          ],
          "table": [
           {
            "cells": {
             "fill": {
              "color": "#EBF0F8"
             },
             "line": {
              "color": "white"
             }
            },
            "header": {
             "fill": {
              "color": "#C8D4E3"
             },
             "line": {
              "color": "white"
             }
            },
            "type": "table"
           }
          ]
         },
         "layout": {
          "annotationdefaults": {
           "arrowcolor": "#2a3f5f",
           "arrowhead": 0,
           "arrowwidth": 1
          },
          "autotypenumbers": "strict",
          "coloraxis": {
           "colorbar": {
            "outlinewidth": 0,
            "ticks": ""
           }
          },
          "colorscale": {
           "diverging": [
            [
             0,
             "#8e0152"
            ],
            [
             0.1,
             "#c51b7d"
            ],
            [
             0.2,
             "#de77ae"
            ],
            [
             0.3,
             "#f1b6da"
            ],
            [
             0.4,
             "#fde0ef"
            ],
            [
             0.5,
             "#f7f7f7"
            ],
            [
             0.6,
             "#e6f5d0"
            ],
            [
             0.7,
             "#b8e186"
            ],
            [
             0.8,
             "#7fbc41"
            ],
            [
             0.9,
             "#4d9221"
            ],
            [
             1,
             "#276419"
            ]
           ],
           "sequential": [
            [
             0,
             "#0d0887"
            ],
            [
             0.1111111111111111,
             "#46039f"
            ],
            [
             0.2222222222222222,
             "#7201a8"
            ],
            [
             0.3333333333333333,
             "#9c179e"
            ],
            [
             0.4444444444444444,
             "#bd3786"
            ],
            [
             0.5555555555555556,
             "#d8576b"
            ],
            [
             0.6666666666666666,
             "#ed7953"
            ],
            [
             0.7777777777777778,
             "#fb9f3a"
            ],
            [
             0.8888888888888888,
             "#fdca26"
            ],
            [
             1,
             "#f0f921"
            ]
           ],
           "sequentialminus": [
            [
             0,
             "#0d0887"
            ],
            [
             0.1111111111111111,
             "#46039f"
            ],
            [
             0.2222222222222222,
             "#7201a8"
            ],
            [
             0.3333333333333333,
             "#9c179e"
            ],
            [
             0.4444444444444444,
             "#bd3786"
            ],
            [
             0.5555555555555556,
             "#d8576b"
            ],
            [
             0.6666666666666666,
             "#ed7953"
            ],
            [
             0.7777777777777778,
             "#fb9f3a"
            ],
            [
             0.8888888888888888,
             "#fdca26"
            ],
            [
             1,
             "#f0f921"
            ]
           ]
          },
          "colorway": [
           "#636efa",
           "#EF553B",
           "#00cc96",
           "#ab63fa",
           "#FFA15A",
           "#19d3f3",
           "#FF6692",
           "#B6E880",
           "#FF97FF",
           "#FECB52"
          ],
          "font": {
           "color": "#2a3f5f"
          },
          "geo": {
           "bgcolor": "white",
           "lakecolor": "white",
           "landcolor": "#E5ECF6",
           "showlakes": true,
           "showland": true,
           "subunitcolor": "white"
          },
          "hoverlabel": {
           "align": "left"
          },
          "hovermode": "closest",
          "mapbox": {
           "style": "light"
          },
          "paper_bgcolor": "white",
          "plot_bgcolor": "#E5ECF6",
          "polar": {
           "angularaxis": {
            "gridcolor": "white",
            "linecolor": "white",
            "ticks": ""
           },
           "bgcolor": "#E5ECF6",
           "radialaxis": {
            "gridcolor": "white",
            "linecolor": "white",
            "ticks": ""
           }
          },
          "scene": {
           "xaxis": {
            "backgroundcolor": "#E5ECF6",
            "gridcolor": "white",
            "gridwidth": 2,
            "linecolor": "white",
            "showbackground": true,
            "ticks": "",
            "zerolinecolor": "white"
           },
           "yaxis": {
            "backgroundcolor": "#E5ECF6",
            "gridcolor": "white",
            "gridwidth": 2,
            "linecolor": "white",
            "showbackground": true,
            "ticks": "",
            "zerolinecolor": "white"
           },
           "zaxis": {
            "backgroundcolor": "#E5ECF6",
            "gridcolor": "white",
            "gridwidth": 2,
            "linecolor": "white",
            "showbackground": true,
            "ticks": "",
            "zerolinecolor": "white"
           }
          },
          "shapedefaults": {
           "line": {
            "color": "#2a3f5f"
           }
          },
          "ternary": {
           "aaxis": {
            "gridcolor": "white",
            "linecolor": "white",
            "ticks": ""
           },
           "baxis": {
            "gridcolor": "white",
            "linecolor": "white",
            "ticks": ""
           },
           "bgcolor": "#E5ECF6",
           "caxis": {
            "gridcolor": "white",
            "linecolor": "white",
            "ticks": ""
           }
          },
          "title": {
           "x": 0.05
          },
          "xaxis": {
           "automargin": true,
           "gridcolor": "white",
           "linecolor": "white",
           "ticks": "",
           "title": {
            "standoff": 15
           },
           "zerolinecolor": "white",
           "zerolinewidth": 2
          },
          "yaxis": {
           "automargin": true,
           "gridcolor": "white",
           "linecolor": "white",
           "ticks": "",
           "title": {
            "standoff": 15
           },
           "zerolinecolor": "white",
           "zerolinewidth": 2
          }
         }
        },
        "width": 800
       }
      }
     },
     "metadata": {},
     "output_type": "display_data"
    }
   ],
   "source": [
    "pie_chart('Goals')"
   ]
  },
  {
   "cell_type": "code",
   "execution_count": 40,
   "metadata": {},
   "outputs": [
    {
     "data": {
      "image/png": "[encoded data removed]",
      "text/plain": [
       "<Figure size 1120x800 with 1 Axes>"
      ]
     },
     "metadata": {},
     "output_type": "display_data"
    }
   ],
   "source": [
    "diverging_bars('xAp90')"
   ]
  },
  {
   "cell_type": "code",
   "execution_count": 35,
   "metadata": {},
   "outputs": [
    {
     "data": {
      "application/vnd.plotly.v1+json": {
       "config": {
        "plotlyServerURL": "https://plot.ly"
       },
       "data": [
        {
         "customdata": [
          [
           "Álejandro Balde"
          ],
          [
           "Henrik Hahn"
          ]
         ],
         "hovertemplate": "Position=LB<br>Expected assists per 90=%{x}<br>Expected goals per 90=%{y}<br>Minutes played=%{marker.size}<br>Name=%{customdata[0]}<extra></extra>",
         "legendgroup": "LB",
         "marker": {
          "color": "darkorange",
          "size": [
           634,
           642
          ],
          "sizemode": "area",
          "sizeref": 3.4475,
          "symbol": "circle"
         },
         "mode": "markers+text",
         "name": "LB",
         "orientation": "v",
         "showlegend": true,
         "text": [
          "Álejandro Balde",
          "Henrik Hahn"
         ],
         "textposition": "top center",
         "type": "scatter",
         "x": [
          0.47,
          0.63
         ],
         "xaxis": "x",
         "y": [
          0.01,
          0
         ],
         "yaxis": "y"
        },
        {
         "customdata": [
          [
           "Jean-Clair Todibo"
          ],
          [
           "Joško Gvardiol"
          ],
          [
           "Ronald Araujo"
          ]
         ],
         "hovertemplate": "Position=CB<br>Expected assists per 90=%{x}<br>Expected goals per 90=%{y}<br>Minutes played=%{marker.size}<br>Name=%{customdata[0]}<extra></extra>",
         "legendgroup": "CB",
         "marker": {
          "color": "orangered",
          "size": [
           552,
           1116,
           1379
          ],
          "sizemode": "area",
          "sizeref": 3.4475,
          "symbol": "circle"
         },
         "mode": "markers+text",
         "name": "CB",
         "orientation": "v",
         "showlegend": true,
         "text": [
          "Jean-Clair Todibo",
          "Joško Gvardiol",
          "Ronald Araujo"
         ],
         "textposition": "top center",
         "type": "scatter",
         "x": [
          0,
          0.03,
          0.08
         ],
         "xaxis": "x",
         "y": [
          0.31,
          0.02,
          0.22
         ],
         "yaxis": "y"
        },
        {
         "customdata": [
          [
           "Reece James"
          ],
          [
           "Brais Verdejo"
          ]
         ],
         "hovertemplate": "Position=RB<br>Expected assists per 90=%{x}<br>Expected goals per 90=%{y}<br>Minutes played=%{marker.size}<br>Name=%{customdata[0]}<extra></extra>",
         "legendgroup": "RB",
         "marker": {
          "color": "coral",
          "size": [
           857,
           616
          ],
          "sizemode": "area",
          "sizeref": 3.4475,
          "symbol": "circle"
         },
         "mode": "markers+text",
         "name": "RB",
         "orientation": "v",
         "showlegend": true,
         "text": [
          "Reece James",
          "Brais Verdejo"
         ],
         "textposition": "top center",
         "type": "scatter",
         "x": [
          0.8,
          0.35
         ],
         "xaxis": "x",
         "y": [
          0.02,
          0.1
         ],
         "yaxis": "y"
        },
        {
         "customdata": [
          [
           "Aurélien Tchouaméni"
          ],
          [
           "Nico González"
          ]
         ],
         "hovertemplate": "Position=CDM<br>Expected assists per 90=%{x}<br>Expected goals per 90=%{y}<br>Minutes played=%{marker.size}<br>Name=%{customdata[0]}<extra></extra>",
         "legendgroup": "CDM",
         "marker": {
          "color": "gold",
          "size": [
           722,
           755
          ],
          "sizemode": "area",
          "sizeref": 3.4475,
          "symbol": "circle"
         },
         "mode": "markers+text",
         "name": "CDM",
         "orientation": "v",
         "showlegend": true,
         "text": [
          "Aurélien Tchouaméni",
          "Nico González"
         ],
         "textposition": "top center",
         "type": "scatter",
         "x": [
          1.13,
          0.86
         ],
         "xaxis": "x",
         "y": [
          0.12,
          0.07
         ],
         "yaxis": "y"
        },
        {
         "customdata": [
          [
           "Luciano Couto"
          ],
          [
           "Pablo Gavi"
          ],
          [
           "Pedri"
          ],
          [
           "Frenkie de Jong"
          ]
         ],
         "hovertemplate": "Position=CM<br>Expected assists per 90=%{x}<br>Expected goals per 90=%{y}<br>Minutes played=%{marker.size}<br>Name=%{customdata[0]}<extra></extra>",
         "legendgroup": "CM",
         "marker": {
          "color": "yellow",
          "size": [
           427,
           780,
           859,
           878
          ],
          "sizemode": "area",
          "sizeref": 3.4475,
          "symbol": "circle"
         },
         "mode": "markers+text",
         "name": "CM",
         "orientation": "v",
         "showlegend": true,
         "text": [
          "Luciano Couto",
          "Pablo Gavi",
          "Pedri",
          "Frenkie de Jong"
         ],
         "textposition": "top center",
         "type": "scatter",
         "x": [
          2.13,
          1.47,
          2.45,
          1.72
         ],
         "xaxis": "x",
         "y": [
          1.1,
          1.2,
          0.89,
          0.7
         ],
         "yaxis": "y"
        },
        {
         "customdata": [
          [
           "Felix Davey"
          ],
          [
           "Noni Madueke"
          ]
         ],
         "hovertemplate": "Position=LW<br>Expected assists per 90=%{x}<br>Expected goals per 90=%{y}<br>Minutes played=%{marker.size}<br>Name=%{customdata[0]}<extra></extra>",
         "legendgroup": "LW",
         "marker": {
          "color": "greenyellow",
          "size": [
           591,
           673
          ],
          "sizemode": "area",
          "sizeref": 3.4475,
          "symbol": "circle"
         },
         "mode": "markers+text",
         "name": "LW",
         "orientation": "v",
         "showlegend": true,
         "text": [
          "Felix Davey",
          "Noni Madueke"
         ],
         "textposition": "top center",
         "type": "scatter",
         "x": [
          1.54,
          1.1
         ],
         "xaxis": "x",
         "y": [
          0.52,
          0.9
         ],
         "yaxis": "y"
        },
        {
         "customdata": [
          [
           "Ansu Fati"
          ],
          [
           "Ferran Torres"
          ]
         ],
         "hovertemplate": "Position=RW<br>Expected assists per 90=%{x}<br>Expected goals per 90=%{y}<br>Minutes played=%{marker.size}<br>Name=%{customdata[0]}<extra></extra>",
         "legendgroup": "RW",
         "marker": {
          "color": "limegreen",
          "size": [
           713,
           748
          ],
          "sizemode": "area",
          "sizeref": 3.4475,
          "symbol": "circle"
         },
         "mode": "markers+text",
         "name": "RW",
         "orientation": "v",
         "showlegend": true,
         "text": [
          "Ansu Fati",
          "Ferran Torres"
         ],
         "textposition": "top center",
         "type": "scatter",
         "x": [
          2.44,
          1.78
         ],
         "xaxis": "x",
         "y": [
          0.86,
          0.91
         ],
         "yaxis": "y"
        },
        {
         "customdata": [
          [
           "Muhamed Zukic"
          ],
          [
           "Karim Adeyemi"
          ],
          [
           "Victor Osimhen"
          ]
         ],
         "hovertemplate": "Position=ST<br>Expected assists per 90=%{x}<br>Expected goals per 90=%{y}<br>Minutes played=%{marker.size}<br>Name=%{customdata[0]}<extra></extra>",
         "legendgroup": "ST",
         "marker": {
          "color": "green",
          "size": [
           222,
           548,
           916
          ],
          "sizemode": "area",
          "sizeref": 3.4475,
          "symbol": "circle"
         },
         "mode": "markers+text",
         "name": "ST",
         "orientation": "v",
         "showlegend": true,
         "text": [
          "Muhamed Zukic",
          "Karim Adeyemi",
          "Victor Osimhen"
         ],
         "textposition": "top center",
         "type": "scatter",
         "x": [
          1.62,
          2.43,
          1.6
         ],
         "xaxis": "x",
         "y": [
          1.95,
          2.43,
          3.17
         ],
         "yaxis": "y"
        }
       ],
       "layout": {
        "annotations": [
         {
          "showarrow": false,
          "text": "Size of data point - Minutes played",
          "x": 1,
          "xanchor": "right",
          "xref": "paper",
          "xshift": 0,
          "y": -0.1,
          "yanchor": "auto",
          "yref": "paper",
          "yshift": 0
         }
        ],
        "height": 800,
        "legend": {
         "itemsizing": "constant",
         "title": {
          "text": "Position"
         },
         "tracegroupgap": 0
        },
        "margin": {
         "t": 60
        },
        "template": {
         "data": {
          "bar": [
           {
            "error_x": {
             "color": "#2a3f5f"
            },
            "error_y": {
             "color": "#2a3f5f"
            },
            "marker": {
             "line": {
              "color": "#E5ECF6",
              "width": 0.5
             },
             "pattern": {
              "fillmode": "overlay",
              "size": 10,
              "solidity": 0.2
             }
            },
            "type": "bar"
           }
          ],
          "barpolar": [
           {
            "marker": {
             "line": {
              "color": "#E5ECF6",
              "width": 0.5
             },
             "pattern": {
              "fillmode": "overlay",
              "size": 10,
              "solidity": 0.2
             }
            },
            "type": "barpolar"
           }
          ],
          "carpet": [
           {
            "aaxis": {
             "endlinecolor": "#2a3f5f",
             "gridcolor": "white",
             "linecolor": "white",
             "minorgridcolor": "white",
             "startlinecolor": "#2a3f5f"
            },
            "baxis": {
             "endlinecolor": "#2a3f5f",
             "gridcolor": "white",
             "linecolor": "white",
             "minorgridcolor": "white",
             "startlinecolor": "#2a3f5f"
            },
            "type": "carpet"
           }
          ],
          "choropleth": [
           {
            "colorbar": {
             "outlinewidth": 0,
             "ticks": ""
            },
            "type": "choropleth"
           }
          ],
          "contour": [
           {
            "colorbar": {
             "outlinewidth": 0,
             "ticks": ""
            },
            "colorscale": [
             [
              0,
              "#0d0887"
             ],
             [
              0.1111111111111111,
              "#46039f"
             ],
             [
              0.2222222222222222,
              "#7201a8"
             ],
             [
              0.3333333333333333,
              "#9c179e"
             ],
             [
              0.4444444444444444,
              "#bd3786"
             ],
             [
              0.5555555555555556,
              "#d8576b"
             ],
             [
              0.6666666666666666,
              "#ed7953"
             ],
             [
              0.7777777777777778,
              "#fb9f3a"
             ],
             [
              0.8888888888888888,
              "#fdca26"
             ],
             [
              1,
              "#f0f921"
             ]
            ],
            "type": "contour"
           }
          ],
          "contourcarpet": [
           {
            "colorbar": {
             "outlinewidth": 0,
             "ticks": ""
            },
            "type": "contourcarpet"
           }
          ],
          "heatmap": [
           {
            "colorbar": {
             "outlinewidth": 0,
             "ticks": ""
            },
            "colorscale": [
             [
              0,
              "#0d0887"
             ],
             [
              0.1111111111111111,
              "#46039f"
             ],
             [
              0.2222222222222222,
              "#7201a8"
             ],
             [
              0.3333333333333333,
              "#9c179e"
             ],
             [
              0.4444444444444444,
              "#bd3786"
             ],
             [
              0.5555555555555556,
              "#d8576b"
             ],
             [
              0.6666666666666666,
              "#ed7953"
             ],
             [
              0.7777777777777778,
              "#fb9f3a"
             ],
             [
              0.8888888888888888,
              "#fdca26"
             ],
             [
              1,
              "#f0f921"
             ]
            ],
            "type": "heatmap"
           }
          ],
          "heatmapgl": [
           {
            "colorbar": {
             "outlinewidth": 0,
             "ticks": ""
            },
            "colorscale": [
             [
              0,
              "#0d0887"
             ],
             [
              0.1111111111111111,
              "#46039f"
             ],
             [
              0.2222222222222222,
              "#7201a8"
             ],
             [
              0.3333333333333333,
              "#9c179e"
             ],
             [
              0.4444444444444444,
              "#bd3786"
             ],
             [
              0.5555555555555556,
              "#d8576b"
             ],
             [
              0.6666666666666666,
              "#ed7953"
             ],
             [
              0.7777777777777778,
              "#fb9f3a"
             ],
             [
              0.8888888888888888,
              "#fdca26"
             ],
             [
              1,
              "#f0f921"
             ]
            ],
            "type": "heatmapgl"
           }
          ],
          "histogram": [
           {
            "marker": {
             "pattern": {
              "fillmode": "overlay",
              "size": 10,
              "solidity": 0.2
             }
            },
            "type": "histogram"
           }
          ],
          "histogram2d": [
           {
            "colorbar": {
             "outlinewidth": 0,
             "ticks": ""
            },
            "colorscale": [
             [
              0,
              "#0d0887"
             ],
             [
              0.1111111111111111,
              "#46039f"
             ],
             [
              0.2222222222222222,
              "#7201a8"
             ],
             [
              0.3333333333333333,
              "#9c179e"
             ],
             [
              0.4444444444444444,
              "#bd3786"
             ],
             [
              0.5555555555555556,
              "#d8576b"
             ],
             [
              0.6666666666666666,
              "#ed7953"
             ],
             [
              0.7777777777777778,
              "#fb9f3a"
             ],
             [
              0.8888888888888888,
              "#fdca26"
             ],
             [
              1,
              "#f0f921"
             ]
            ],
            "type": "histogram2d"
           }
          ],
          "histogram2dcontour": [
           {
            "colorbar": {
             "outlinewidth": 0,
             "ticks": ""
            },
            "colorscale": [
             [
              0,
              "#0d0887"
             ],
             [
              0.1111111111111111,
              "#46039f"
             ],
             [
              0.2222222222222222,
              "#7201a8"
             ],
             [
              0.3333333333333333,
              "#9c179e"
             ],
             [
              0.4444444444444444,
              "#bd3786"
             ],
             [
              0.5555555555555556,
              "#d8576b"
             ],
             [
              0.6666666666666666,
              "#ed7953"
             ],
             [
              0.7777777777777778,
              "#fb9f3a"
             ],
             [
              0.8888888888888888,
              "#fdca26"
             ],
             [
              1,
              "#f0f921"
             ]
            ],
            "type": "histogram2dcontour"
           }
          ],
          "mesh3d": [
           {
            "colorbar": {
             "outlinewidth": 0,
             "ticks": ""
            },
            "type": "mesh3d"
           }
          ],
          "parcoords": [
           {
            "line": {
             "colorbar": {
              "outlinewidth": 0,
              "ticks": ""
             }
            },
            "type": "parcoords"
           }
          ],
          "pie": [
           {
            "automargin": true,
            "type": "pie"
           }
          ],
          "scatter": [
           {
            "fillpattern": {
             "fillmode": "overlay",
             "size": 10,
             "solidity": 0.2
            },
            "type": "scatter"
           }
          ],
          "scatter3d": [
           {
            "line": {
             "colorbar": {
              "outlinewidth": 0,
              "ticks": ""
             }
            },
            "marker": {
             "colorbar": {
              "outlinewidth": 0,
              "ticks": ""
             }
            },
            "type": "scatter3d"
           }
          ],
          "scattercarpet": [
           {
            "marker": {
             "colorbar": {
              "outlinewidth": 0,
              "ticks": ""
             }
            },
            "type": "scattercarpet"
           }
          ],
          "scattergeo": [
           {
            "marker": {
             "colorbar": {
              "outlinewidth": 0,
              "ticks": ""
             }
            },
            "type": "scattergeo"
           }
          ],
          "scattergl": [
           {
            "marker": {
             "colorbar": {
              "outlinewidth": 0,
              "ticks": ""
             }
            },
            "type": "scattergl"
           }
          ],
          "scattermapbox": [
           {
            "marker": {
             "colorbar": {
              "outlinewidth": 0,
              "ticks": ""
             }
            },
            "type": "scattermapbox"
           }
          ],
          "scatterpolar": [
           {
            "marker": {
             "colorbar": {
              "outlinewidth": 0,
              "ticks": ""
             }
            },
            "type": "scatterpolar"
           }
          ],
          "scatterpolargl": [
           {
            "marker": {
             "colorbar": {
              "outlinewidth": 0,
              "ticks": ""
             }
            },
            "type": "scatterpolargl"
           }
          ],
          "scatterternary": [
           {
            "marker": {
             "colorbar": {
              "outlinewidth": 0,
              "ticks": ""
             }
            },
            "type": "scatterternary"
           }
          ],
          "surface": [
           {
            "colorbar": {
             "outlinewidth": 0,
             "ticks": ""
            },
            "colorscale": [
             [
              0,
              "#0d0887"
             ],
             [
              0.1111111111111111,
              "#46039f"
             ],
             [
              0.2222222222222222,
              "#7201a8"
             ],
             [
              0.3333333333333333,
              "#9c179e"
             ],
             [
              0.4444444444444444,
              "#bd3786"
             ],
             [
              0.5555555555555556,
              "#d8576b"
             ],
             [
              0.6666666666666666,
              "#ed7953"
             ],
             [
              0.7777777777777778,
              "#fb9f3a"
             ],
             [
              0.8888888888888888,
              "#fdca26"
             ],
             [
              1,
              "#f0f921"
             ]
            ],
            "type": "surface"
           }
          ],
          "table": [
           {
            "cells": {
             "fill": {
              "color": "#EBF0F8"
             },
             "line": {
              "color": "white"
             }
            },
            "header": {
             "fill": {
              "color": "#C8D4E3"
             },
             "line": {
              "color": "white"
             }
            },
            "type": "table"
           }
          ]
         },
         "layout": {
          "annotationdefaults": {
           "arrowcolor": "#2a3f5f",
           "arrowhead": 0,
           "arrowwidth": 1
          },
          "autotypenumbers": "strict",
          "coloraxis": {
           "colorbar": {
            "outlinewidth": 0,
            "ticks": ""
           }
          },
          "colorscale": {
           "diverging": [
            [
             0,
             "#8e0152"
            ],
            [
             0.1,
             "#c51b7d"
            ],
            [
             0.2,
             "#de77ae"
            ],
            [
             0.3,
             "#f1b6da"
            ],
            [
             0.4,
             "#fde0ef"
            ],
            [
             0.5,
             "#f7f7f7"
            ],
            [
             0.6,
             "#e6f5d0"
            ],
            [
             0.7,
             "#b8e186"
            ],
            [
             0.8,
             "#7fbc41"
            ],
            [
             0.9,
             "#4d9221"
            ],
            [
             1,
             "#276419"
            ]
           ],
           "sequential": [
            [
             0,
             "#0d0887"
            ],
            [
             0.1111111111111111,
             "#46039f"
            ],
            [
             0.2222222222222222,
             "#7201a8"
            ],
            [
             0.3333333333333333,
             "#9c179e"
            ],
            [
             0.4444444444444444,
             "#bd3786"
            ],
            [
             0.5555555555555556,
             "#d8576b"
            ],
            [
             0.6666666666666666,
             "#ed7953"
            ],
            [
             0.7777777777777778,
             "#fb9f3a"
            ],
            [
             0.8888888888888888,
             "#fdca26"
            ],
            [
             1,
             "#f0f921"
            ]
           ],
           "sequentialminus": [
            [
             0,
             "#0d0887"
            ],
            [
             0.1111111111111111,
             "#46039f"
            ],
            [
             0.2222222222222222,
             "#7201a8"
            ],
            [
             0.3333333333333333,
             "#9c179e"
            ],
            [
             0.4444444444444444,
             "#bd3786"
            ],
            [
             0.5555555555555556,
             "#d8576b"
            ],
            [
             0.6666666666666666,
             "#ed7953"
            ],
            [
             0.7777777777777778,
             "#fb9f3a"
            ],
            [
             0.8888888888888888,
             "#fdca26"
            ],
            [
             1,
             "#f0f921"
            ]
           ]
          },
          "colorway": [
           "#636efa",
           "#EF553B",
           "#00cc96",
           "#ab63fa",
           "#FFA15A",
           "#19d3f3",
           "#FF6692",
           "#B6E880",
           "#FF97FF",
           "#FECB52"
          ],
          "font": {
           "color": "#2a3f5f"
          },
          "geo": {
           "bgcolor": "white",
           "lakecolor": "white",
           "landcolor": "#E5ECF6",
           "showlakes": true,
           "showland": true,
           "subunitcolor": "white"
          },
          "hoverlabel": {
           "align": "left"
          },
          "hovermode": "closest",
          "mapbox": {
           "style": "light"
          },
          "paper_bgcolor": "white",
          "plot_bgcolor": "#E5ECF6",
          "polar": {
           "angularaxis": {
            "gridcolor": "white",
            "linecolor": "white",
            "ticks": ""
           },
           "bgcolor": "#E5ECF6",
           "radialaxis": {
            "gridcolor": "white",
            "linecolor": "white",
            "ticks": ""
           }
          },
          "scene": {
           "xaxis": {
            "backgroundcolor": "#E5ECF6",
            "gridcolor": "white",
            "gridwidth": 2,
            "linecolor": "white",
            "showbackground": true,
            "ticks": "",
            "zerolinecolor": "white"
           },
           "yaxis": {
            "backgroundcolor": "#E5ECF6",
            "gridcolor": "white",
            "gridwidth": 2,
            "linecolor": "white",
            "showbackground": true,
            "ticks": "",
            "zerolinecolor": "white"
           },
           "zaxis": {
            "backgroundcolor": "#E5ECF6",
            "gridcolor": "white",
            "gridwidth": 2,
            "linecolor": "white",
            "showbackground": true,
            "ticks": "",
            "zerolinecolor": "white"
           }
          },
          "shapedefaults": {
           "line": {
            "color": "#2a3f5f"
           }
          },
          "ternary": {
           "aaxis": {
            "gridcolor": "white",
            "linecolor": "white",
            "ticks": ""
           },
           "baxis": {
            "gridcolor": "white",
            "linecolor": "white",
            "ticks": ""
           },
           "bgcolor": "#E5ECF6",
           "caxis": {
            "gridcolor": "white",
            "linecolor": "white",
            "ticks": ""
           }
          },
          "title": {
           "x": 0.05
          },
          "xaxis": {
           "automargin": true,
           "gridcolor": "white",
           "linecolor": "white",
           "ticks": "",
           "title": {
            "standoff": 15
           },
           "zerolinecolor": "white",
           "zerolinewidth": 2
          },
          "yaxis": {
           "automargin": true,
           "gridcolor": "white",
           "linecolor": "white",
           "ticks": "",
           "title": {
            "standoff": 15
           },
           "zerolinecolor": "white",
           "zerolinewidth": 2
          }
         }
        },
        "title": {
         "text": "Expected assists per 90 vs Expected goals per 90"
        },
        "width": 800,
        "xaxis": {
         "anchor": "y",
         "domain": [
          0,
          1
         ],
         "dtick": 0.5,
         "scaleanchor": "y",
         "scaleratio": 1,
         "tick0": 0,
         "ticklabelstep": 2,
         "title": {
          "text": "Expected assists per 90"
         },
         "zeroline": true,
         "zerolinecolor": "Black",
         "zerolinewidth": 2
        },
        "yaxis": {
         "anchor": "x",
         "domain": [
          0,
          1
         ],
         "dtick": 0.5,
         "scaleanchor": "x",
         "scaleratio": 1,
         "tick0": 0,
         "ticklabelstep": 2,
         "title": {
          "text": "Expected goals per 90"
         },
         "zeroline": true,
         "zerolinecolor": "Black",
         "zerolinewidth": 2
        }
       }
      }
     },
     "metadata": {},
     "output_type": "display_data"
    },
    {
     "data": {
      "application/vnd.plotly.v1+json": {
       "config": {
        "plotlyServerURL": "https://plot.ly"
       },
       "data": [
        {
         "customdata": [
          [
           "Álejandro Balde"
          ],
          [
           "Henrik Hahn"
          ]
         ],
         "hovertemplate": "Position=LB<br>Possession won per 90=%{x}<br>Possession lost per 90=%{y}<br>Minutes played=%{marker.size}<br>Name=%{customdata[0]}<extra></extra>",
         "legendgroup": "LB",
         "marker": {
          "color": "darkorange",
          "size": [
           634,
           642
          ],
          "sizemode": "area",
          "sizeref": 3.4475,
          "symbol": "circle"
         },
         "mode": "markers+text",
         "name": "LB",
         "orientation": "v",
         "showlegend": true,
         "text": [
          "Álejandro Balde",
          "Henrik Hahn"
         ],
         "textposition": "top center",
         "type": "scatter",
         "x": [
          1.99,
          1.96
         ],
         "xaxis": "x",
         "y": [
          1.28,
          0.84
         ],
         "yaxis": "y"
        },
        {
         "customdata": [
          [
           "Jean-Clair Todibo"
          ],
          [
           "Joško Gvardiol"
          ],
          [
           "Ronald Araujo"
          ]
         ],
         "hovertemplate": "Position=CB<br>Possession won per 90=%{x}<br>Possession lost per 90=%{y}<br>Minutes played=%{marker.size}<br>Name=%{customdata[0]}<extra></extra>",
         "legendgroup": "CB",
         "marker": {
          "color": "orangered",
          "size": [
           552,
           1116,
           1379
          ],
          "sizemode": "area",
          "sizeref": 3.4475,
          "symbol": "circle"
         },
         "mode": "markers+text",
         "name": "CB",
         "orientation": "v",
         "showlegend": true,
         "text": [
          "Jean-Clair Todibo",
          "Joško Gvardiol",
          "Ronald Araujo"
         ],
         "textposition": "top center",
         "type": "scatter",
         "x": [
          3.1,
          3.87,
          5.03
         ],
         "xaxis": "x",
         "y": [
          0.65,
          0.32,
          0.39
         ],
         "yaxis": "y"
        },
        {
         "customdata": [
          [
           "Reece James"
          ],
          [
           "Brais Verdejo"
          ]
         ],
         "hovertemplate": "Position=RB<br>Possession won per 90=%{x}<br>Possession lost per 90=%{y}<br>Minutes played=%{marker.size}<br>Name=%{customdata[0]}<extra></extra>",
         "legendgroup": "RB",
         "marker": {
          "color": "coral",
          "size": [
           857,
           616
          ],
          "sizemode": "area",
          "sizeref": 3.4475,
          "symbol": "circle"
         },
         "mode": "markers+text",
         "name": "RB",
         "orientation": "v",
         "showlegend": true,
         "text": [
          "Reece James",
          "Brais Verdejo"
         ],
         "textposition": "top center",
         "type": "scatter",
         "x": [
          2.42,
          4.24
         ],
         "xaxis": "x",
         "y": [
          1.16,
          1.61
         ],
         "yaxis": "y"
        },
        {
         "customdata": [
          [
           "Aurélien Tchouaméni"
          ],
          [
           "Nico González"
          ]
         ],
         "hovertemplate": "Position=CDM<br>Possession won per 90=%{x}<br>Possession lost per 90=%{y}<br>Minutes played=%{marker.size}<br>Name=%{customdata[0]}<extra></extra>",
         "legendgroup": "CDM",
         "marker": {
          "color": "gold",
          "size": [
           722,
           755
          ],
          "sizemode": "area",
          "sizeref": 3.4475,
          "symbol": "circle"
         },
         "mode": "markers+text",
         "name": "CDM",
         "orientation": "v",
         "showlegend": true,
         "text": [
          "Aurélien Tchouaméni",
          "Nico González"
         ],
         "textposition": "top center",
         "type": "scatter",
         "x": [
          2.37,
          3.58
         ],
         "xaxis": "x",
         "y": [
          1.12,
          1.43
         ],
         "yaxis": "y"
        },
        {
         "customdata": [
          [
           "Luciano Couto"
          ],
          [
           "Pablo Gavi"
          ],
          [
           "Pedri"
          ],
          [
           "Frenkie de Jong"
          ]
         ],
         "hovertemplate": "Position=CM<br>Possession won per 90=%{x}<br>Possession lost per 90=%{y}<br>Minutes played=%{marker.size}<br>Name=%{customdata[0]}<extra></extra>",
         "legendgroup": "CM",
         "marker": {
          "color": "yellow",
          "size": [
           427,
           780,
           859,
           878
          ],
          "sizemode": "area",
          "sizeref": 3.4475,
          "symbol": "circle"
         },
         "mode": "markers+text",
         "name": "CM",
         "orientation": "v",
         "showlegend": true,
         "text": [
          "Luciano Couto",
          "Pablo Gavi",
          "Pedri",
          "Frenkie de Jong"
         ],
         "textposition": "top center",
         "type": "scatter",
         "x": [
          1.69,
          1.5,
          1.47,
          2.67
         ],
         "xaxis": "x",
         "y": [
          3.79,
          2.88,
          2.62,
          2.56
         ],
         "yaxis": "y"
        },
        {
         "customdata": [
          [
           "Felix Davey"
          ],
          [
           "Noni Madueke"
          ]
         ],
         "hovertemplate": "Position=LW<br>Possession won per 90=%{x}<br>Possession lost per 90=%{y}<br>Minutes played=%{marker.size}<br>Name=%{customdata[0]}<extra></extra>",
         "legendgroup": "LW",
         "marker": {
          "color": "greenyellow",
          "size": [
           591,
           673
          ],
          "sizemode": "area",
          "sizeref": 3.4475,
          "symbol": "circle"
         },
         "mode": "markers+text",
         "name": "LW",
         "orientation": "v",
         "showlegend": true,
         "text": [
          "Felix Davey",
          "Noni Madueke"
         ],
         "textposition": "top center",
         "type": "scatter",
         "x": [
          1.07,
          1.2
         ],
         "xaxis": "x",
         "y": [
          3.81,
          2.67
         ],
         "yaxis": "y"
        },
        {
         "customdata": [
          [
           "Ansu Fati"
          ],
          [
           "Ferran Torres"
          ]
         ],
         "hovertemplate": "Position=RW<br>Possession won per 90=%{x}<br>Possession lost per 90=%{y}<br>Minutes played=%{marker.size}<br>Name=%{customdata[0]}<extra></extra>",
         "legendgroup": "RW",
         "marker": {
          "color": "limegreen",
          "size": [
           713,
           748
          ],
          "sizemode": "area",
          "sizeref": 3.4475,
          "symbol": "circle"
         },
         "mode": "markers+text",
         "name": "RW",
         "orientation": "v",
         "showlegend": true,
         "text": [
          "Ansu Fati",
          "Ferran Torres"
         ],
         "textposition": "top center",
         "type": "scatter",
         "x": [
          1.51,
          0.6
         ],
         "xaxis": "x",
         "y": [
          3.91,
          2.17
         ],
         "yaxis": "y"
        },
        {
         "customdata": [
          [
           "Muhamed Zukic"
          ],
          [
           "Karim Adeyemi"
          ],
          [
           "Victor Osimhen"
          ]
         ],
         "hovertemplate": "Position=ST<br>Possession won per 90=%{x}<br>Possession lost per 90=%{y}<br>Minutes played=%{marker.size}<br>Name=%{customdata[0]}<extra></extra>",
         "legendgroup": "ST",
         "marker": {
          "color": "green",
          "size": [
           222,
           548,
           916
          ],
          "sizemode": "area",
          "sizeref": 3.4475,
          "symbol": "circle"
         },
         "mode": "markers+text",
         "name": "ST",
         "orientation": "v",
         "showlegend": true,
         "text": [
          "Muhamed Zukic",
          "Karim Adeyemi",
          "Victor Osimhen"
         ],
         "textposition": "top center",
         "type": "scatter",
         "x": [
          0,
          1.15,
          0.88
         ],
         "xaxis": "x",
         "y": [
          4.86,
          4.11,
          5.31
         ],
         "yaxis": "y"
        }
       ],
       "layout": {
        "annotations": [
         {
          "showarrow": false,
          "text": "Size of data point - Minutes played",
          "x": 1,
          "xanchor": "right",
          "xref": "paper",
          "xshift": 0,
          "y": -0.1,
          "yanchor": "auto",
          "yref": "paper",
          "yshift": 0
         }
        ],
        "height": 800,
        "legend": {
         "itemsizing": "constant",
         "title": {
          "text": "Position"
         },
         "tracegroupgap": 0
        },
        "margin": {
         "t": 60
        },
        "template": {
         "data": {
          "bar": [
           {
            "error_x": {
             "color": "#2a3f5f"
            },
            "error_y": {
             "color": "#2a3f5f"
            },
            "marker": {
             "line": {
              "color": "#E5ECF6",
              "width": 0.5
             },
             "pattern": {
              "fillmode": "overlay",
              "size": 10,
              "solidity": 0.2
             }
            },
            "type": "bar"
           }
          ],
          "barpolar": [
           {
            "marker": {
             "line": {
              "color": "#E5ECF6",
              "width": 0.5
             },
             "pattern": {
              "fillmode": "overlay",
              "size": 10,
              "solidity": 0.2
             }
            },
            "type": "barpolar"
           }
          ],
          "carpet": [
           {
            "aaxis": {
             "endlinecolor": "#2a3f5f",
             "gridcolor": "white",
             "linecolor": "white",
             "minorgridcolor": "white",
             "startlinecolor": "#2a3f5f"
            },
            "baxis": {
             "endlinecolor": "#2a3f5f",
             "gridcolor": "white",
             "linecolor": "white",
             "minorgridcolor": "white",
             "startlinecolor": "#2a3f5f"
            },
            "type": "carpet"
           }
          ],
          "choropleth": [
           {
            "colorbar": {
             "outlinewidth": 0,
             "ticks": ""
            },
            "type": "choropleth"
           }
          ],
          "contour": [
           {
            "colorbar": {
             "outlinewidth": 0,
             "ticks": ""
            },
            "colorscale": [
             [
              0,
              "#0d0887"
             ],
             [
              0.1111111111111111,
              "#46039f"
             ],
             [
              0.2222222222222222,
              "#7201a8"
             ],
             [
              0.3333333333333333,
              "#9c179e"
             ],
             [
              0.4444444444444444,
              "#bd3786"
             ],
             [
              0.5555555555555556,
              "#d8576b"
             ],
             [
              0.6666666666666666,
              "#ed7953"
             ],
             [
              0.7777777777777778,
              "#fb9f3a"
             ],
             [
              0.8888888888888888,
              "#fdca26"
             ],
             [
              1,
              "#f0f921"
             ]
            ],
            "type": "contour"
           }
          ],
          "contourcarpet": [
           {
            "colorbar": {
             "outlinewidth": 0,
             "ticks": ""
            },
            "type": "contourcarpet"
           }
          ],
          "heatmap": [
           {
            "colorbar": {
             "outlinewidth": 0,
             "ticks": ""
            },
            "colorscale": [
             [
              0,
              "#0d0887"
             ],
             [
              0.1111111111111111,
              "#46039f"
             ],
             [
              0.2222222222222222,
              "#7201a8"
             ],
             [
              0.3333333333333333,
              "#9c179e"
             ],
             [
              0.4444444444444444,
              "#bd3786"
             ],
             [
              0.5555555555555556,
              "#d8576b"
             ],
             [
              0.6666666666666666,
              "#ed7953"
             ],
             [
              0.7777777777777778,
              "#fb9f3a"
             ],
             [
              0.8888888888888888,
              "#fdca26"
             ],
             [
              1,
              "#f0f921"
             ]
            ],
            "type": "heatmap"
           }
          ],
          "heatmapgl": [
           {
            "colorbar": {
             "outlinewidth": 0,
             "ticks": ""
            },
            "colorscale": [
             [
              0,
              "#0d0887"
             ],
             [
              0.1111111111111111,
              "#46039f"
             ],
             [
              0.2222222222222222,
              "#7201a8"
             ],
             [
              0.3333333333333333,
              "#9c179e"
             ],
             [
              0.4444444444444444,
              "#bd3786"
             ],
             [
              0.5555555555555556,
              "#d8576b"
             ],
             [
              0.6666666666666666,
              "#ed7953"
             ],
             [
              0.7777777777777778,
              "#fb9f3a"
             ],
             [
              0.8888888888888888,
              "#fdca26"
             ],
             [
              1,
              "#f0f921"
             ]
            ],
            "type": "heatmapgl"
           }
          ],
          "histogram": [
           {
            "marker": {
             "pattern": {
              "fillmode": "overlay",
              "size": 10,
              "solidity": 0.2
             }
            },
            "type": "histogram"
           }
          ],
          "histogram2d": [
           {
            "colorbar": {
             "outlinewidth": 0,
             "ticks": ""
            },
            "colorscale": [
             [
              0,
              "#0d0887"
             ],
             [
              0.1111111111111111,
              "#46039f"
             ],
             [
              0.2222222222222222,
              "#7201a8"
             ],
             [
              0.3333333333333333,
              "#9c179e"
             ],
             [
              0.4444444444444444,
              "#bd3786"
             ],
             [
              0.5555555555555556,
              "#d8576b"
             ],
             [
              0.6666666666666666,
              "#ed7953"
             ],
             [
              0.7777777777777778,
              "#fb9f3a"
             ],
             [
              0.8888888888888888,
              "#fdca26"
             ],
             [
              1,
              "#f0f921"
             ]
            ],
            "type": "histogram2d"
           }
          ],
          "histogram2dcontour": [
           {
            "colorbar": {
             "outlinewidth": 0,
             "ticks": ""
            },
            "colorscale": [
             [
              0,
              "#0d0887"
             ],
             [
              0.1111111111111111,
              "#46039f"
             ],
             [
              0.2222222222222222,
              "#7201a8"
             ],
             [
              0.3333333333333333,
              "#9c179e"
             ],
             [
              0.4444444444444444,
              "#bd3786"
             ],
             [
              0.5555555555555556,
              "#d8576b"
             ],
             [
              0.6666666666666666,
              "#ed7953"
             ],
             [
              0.7777777777777778,
              "#fb9f3a"
             ],
             [
              0.8888888888888888,
              "#fdca26"
             ],
             [
              1,
              "#f0f921"
             ]
            ],
            "type": "histogram2dcontour"
           }
          ],
          "mesh3d": [
           {
            "colorbar": {
             "outlinewidth": 0,
             "ticks": ""
            },
            "type": "mesh3d"
           }
          ],
          "parcoords": [
           {
            "line": {
             "colorbar": {
              "outlinewidth": 0,
              "ticks": ""
             }
            },
            "type": "parcoords"
           }
          ],
          "pie": [
           {
            "automargin": true,
            "type": "pie"
           }
          ],
          "scatter": [
           {
            "fillpattern": {
             "fillmode": "overlay",
             "size": 10,
             "solidity": 0.2
            },
            "type": "scatter"
           }
          ],
          "scatter3d": [
           {
            "line": {
             "colorbar": {
              "outlinewidth": 0,
              "ticks": ""
             }
            },
            "marker": {
             "colorbar": {
              "outlinewidth": 0,
              "ticks": ""
             }
            },
            "type": "scatter3d"
           }
          ],
          "scattercarpet": [
           {
            "marker": {
             "colorbar": {
              "outlinewidth": 0,
              "ticks": ""
             }
            },
            "type": "scattercarpet"
           }
          ],
          "scattergeo": [
           {
            "marker": {
             "colorbar": {
              "outlinewidth": 0,
              "ticks": ""
             }
            },
            "type": "scattergeo"
           }
          ],
          "scattergl": [
           {
            "marker": {
             "colorbar": {
              "outlinewidth": 0,
              "ticks": ""
             }
            },
            "type": "scattergl"
           }
          ],
          "scattermapbox": [
           {
            "marker": {
             "colorbar": {
              "outlinewidth": 0,
              "ticks": ""
             }
            },
            "type": "scattermapbox"
           }
          ],
          "scatterpolar": [
           {
            "marker": {
             "colorbar": {
              "outlinewidth": 0,
              "ticks": ""
             }
            },
            "type": "scatterpolar"
           }
          ],
          "scatterpolargl": [
           {
            "marker": {
             "colorbar": {
              "outlinewidth": 0,
              "ticks": ""
             }
            },
            "type": "scatterpolargl"
           }
          ],
          "scatterternary": [
           {
            "marker": {
             "colorbar": {
              "outlinewidth": 0,
              "ticks": ""
             }
            },
            "type": "scatterternary"
           }
          ],
          "surface": [
           {
            "colorbar": {
             "outlinewidth": 0,
             "ticks": ""
            },
            "colorscale": [
             [
              0,
              "#0d0887"
             ],
             [
              0.1111111111111111,
              "#46039f"
             ],
             [
              0.2222222222222222,
              "#7201a8"
             ],
             [
              0.3333333333333333,
              "#9c179e"
             ],
             [
              0.4444444444444444,
              "#bd3786"
             ],
             [
              0.5555555555555556,
              "#d8576b"
             ],
             [
              0.6666666666666666,
              "#ed7953"
             ],
             [
              0.7777777777777778,
              "#fb9f3a"
             ],
             [
              0.8888888888888888,
              "#fdca26"
             ],
             [
              1,
              "#f0f921"
             ]
            ],
            "type": "surface"
           }
          ],
          "table": [
           {
            "cells": {
             "fill": {
              "color": "#EBF0F8"
             },
             "line": {
              "color": "white"
             }
            },
            "header": {
             "fill": {
              "color": "#C8D4E3"
             },
             "line": {
              "color": "white"
             }
            },
            "type": "table"
           }
          ]
         },
         "layout": {
          "annotationdefaults": {
           "arrowcolor": "#2a3f5f",
           "arrowhead": 0,
           "arrowwidth": 1
          },
          "autotypenumbers": "strict",
          "coloraxis": {
           "colorbar": {
            "outlinewidth": 0,
            "ticks": ""
           }
          },
          "colorscale": {
           "diverging": [
            [
             0,
             "#8e0152"
            ],
            [
             0.1,
             "#c51b7d"
            ],
            [
             0.2,
             "#de77ae"
            ],
            [
             0.3,
             "#f1b6da"
            ],
            [
             0.4,
             "#fde0ef"
            ],
            [
             0.5,
             "#f7f7f7"
            ],
            [
             0.6,
             "#e6f5d0"
            ],
            [
             0.7,
             "#b8e186"
            ],
            [
             0.8,
             "#7fbc41"
            ],
            [
             0.9,
             "#4d9221"
            ],
            [
             1,
             "#276419"
            ]
           ],
           "sequential": [
            [
             0,
             "#0d0887"
            ],
            [
             0.1111111111111111,
             "#46039f"
            ],
            [
             0.2222222222222222,
             "#7201a8"
            ],
            [
             0.3333333333333333,
             "#9c179e"
            ],
            [
             0.4444444444444444,
             "#bd3786"
            ],
            [
             0.5555555555555556,
             "#d8576b"
            ],
            [
             0.6666666666666666,
             "#ed7953"
            ],
            [
             0.7777777777777778,
             "#fb9f3a"
            ],
            [
             0.8888888888888888,
             "#fdca26"
            ],
            [
             1,
             "#f0f921"
            ]
           ],
           "sequentialminus": [
            [
             0,
             "#0d0887"
            ],
            [
             0.1111111111111111,
             "#46039f"
            ],
            [
             0.2222222222222222,
             "#7201a8"
            ],
            [
             0.3333333333333333,
             "#9c179e"
            ],
            [
             0.4444444444444444,
             "#bd3786"
            ],
            [
             0.5555555555555556,
             "#d8576b"
            ],
            [
             0.6666666666666666,
             "#ed7953"
            ],
            [
             0.7777777777777778,
             "#fb9f3a"
            ],
            [
             0.8888888888888888,
             "#fdca26"
            ],
            [
             1,
             "#f0f921"
            ]
           ]
          },
          "colorway": [
           "#636efa",
           "#EF553B",
           "#00cc96",
           "#ab63fa",
           "#FFA15A",
           "#19d3f3",
           "#FF6692",
           "#B6E880",
           "#FF97FF",
           "#FECB52"
          ],
          "font": {
           "color": "#2a3f5f"
          },
          "geo": {
           "bgcolor": "white",
           "lakecolor": "white",
           "landcolor": "#E5ECF6",
           "showlakes": true,
           "showland": true,
           "subunitcolor": "white"
          },
          "hoverlabel": {
           "align": "left"
          },
          "hovermode": "closest",
          "mapbox": {
           "style": "light"
          },
          "paper_bgcolor": "white",
          "plot_bgcolor": "#E5ECF6",
          "polar": {
           "angularaxis": {
            "gridcolor": "white",
            "linecolor": "white",
            "ticks": ""
           },
           "bgcolor": "#E5ECF6",
           "radialaxis": {
            "gridcolor": "white",
            "linecolor": "white",
            "ticks": ""
           }
          },
          "scene": {
           "xaxis": {
            "backgroundcolor": "#E5ECF6",
            "gridcolor": "white",
            "gridwidth": 2,
            "linecolor": "white",
            "showbackground": true,
            "ticks": "",
            "zerolinecolor": "white"
           },
           "yaxis": {
            "backgroundcolor": "#E5ECF6",
            "gridcolor": "white",
            "gridwidth": 2,
            "linecolor": "white",
            "showbackground": true,
            "ticks": "",
            "zerolinecolor": "white"
           },
           "zaxis": {
            "backgroundcolor": "#E5ECF6",
            "gridcolor": "white",
            "gridwidth": 2,
            "linecolor": "white",
            "showbackground": true,
            "ticks": "",
            "zerolinecolor": "white"
           }
          },
          "shapedefaults": {
           "line": {
            "color": "#2a3f5f"
           }
          },
          "ternary": {
           "aaxis": {
            "gridcolor": "white",
            "linecolor": "white",
            "ticks": ""
           },
           "baxis": {
            "gridcolor": "white",
            "linecolor": "white",
            "ticks": ""
           },
           "bgcolor": "#E5ECF6",
           "caxis": {
            "gridcolor": "white",
            "linecolor": "white",
            "ticks": ""
           }
          },
          "title": {
           "x": 0.05
          },
          "xaxis": {
           "automargin": true,
           "gridcolor": "white",
           "linecolor": "white",
           "ticks": "",
           "title": {
            "standoff": 15
           },
           "zerolinecolor": "white",
           "zerolinewidth": 2
          },
          "yaxis": {
           "automargin": true,
           "gridcolor": "white",
           "linecolor": "white",
           "ticks": "",
           "title": {
            "standoff": 15
           },
           "zerolinecolor": "white",
           "zerolinewidth": 2
          }
         }
        },
        "title": {
         "text": "Possession won per 90 vs Possession lost per 90"
        },
        "width": 800,
        "xaxis": {
         "anchor": "y",
         "domain": [
          0,
          1
         ],
         "dtick": 0.5,
         "scaleanchor": "y",
         "scaleratio": 1,
         "tick0": 0,
         "ticklabelstep": 2,
         "title": {
          "text": "Possession won per 90"
         },
         "zeroline": true,
         "zerolinecolor": "Black",
         "zerolinewidth": 2
        },
        "yaxis": {
         "anchor": "x",
         "domain": [
          0,
          1
         ],
         "dtick": 0.5,
         "scaleanchor": "x",
         "scaleratio": 1,
         "tick0": 0,
         "ticklabelstep": 2,
         "title": {
          "text": "Possession lost per 90"
         },
         "zeroline": true,
         "zerolinecolor": "Black",
         "zerolinewidth": 2
        }
       }
      }
     },
     "metadata": {},
     "output_type": "display_data"
    },
    {
     "data": {
      "application/vnd.plotly.v1+json": {
       "config": {
        "plotlyServerURL": "https://plot.ly"
       },
       "data": [
        {
         "customdata": [
          [
           "Álejandro Balde"
          ],
          [
           "Henrik Hahn"
          ]
         ],
         "hovertemplate": "Position=LB<br>Possession won per 90=%{x}<br>Expected goal contributions per 90=%{y}<br>Minutes played=%{marker.size}<br>Name=%{customdata[0]}<extra></extra>",
         "legendgroup": "LB",
         "marker": {
          "color": "darkorange",
          "size": [
           634,
           642
          ],
          "sizemode": "area",
          "sizeref": 3.4475,
          "symbol": "circle"
         },
         "mode": "markers+text",
         "name": "LB",
         "orientation": "v",
         "showlegend": true,
         "text": [
          "Álejandro Balde",
          "Henrik Hahn"
         ],
         "textposition": "top center",
         "type": "scatter",
         "x": [
          1.99,
          1.96
         ],
         "xaxis": "x",
         "y": [
          0.48,
          0.63
         ],
         "yaxis": "y"
        },
        {
         "customdata": [
          [
           "Jean-Clair Todibo"
          ],
          [
           "Joško Gvardiol"
          ],
          [
           "Ronald Araujo"
          ]
         ],
         "hovertemplate": "Position=CB<br>Possession won per 90=%{x}<br>Expected goal contributions per 90=%{y}<br>Minutes played=%{marker.size}<br>Name=%{customdata[0]}<extra></extra>",
         "legendgroup": "CB",
         "marker": {
          "color": "orangered",
          "size": [
           552,
           1116,
           1379
          ],
          "sizemode": "area",
          "sizeref": 3.4475,
          "symbol": "circle"
         },
         "mode": "markers+text",
         "name": "CB",
         "orientation": "v",
         "showlegend": true,
         "text": [
          "Jean-Clair Todibo",
          "Joško Gvardiol",
          "Ronald Araujo"
         ],
         "textposition": "top center",
         "type": "scatter",
         "x": [
          3.1,
          3.87,
          5.03
         ],
         "xaxis": "x",
         "y": [
          0.31,
          0.06,
          0.3
         ],
         "yaxis": "y"
        },
        {
         "customdata": [
          [
           "Reece James"
          ],
          [
           "Brais Verdejo"
          ]
         ],
         "hovertemplate": "Position=RB<br>Possession won per 90=%{x}<br>Expected goal contributions per 90=%{y}<br>Minutes played=%{marker.size}<br>Name=%{customdata[0]}<extra></extra>",
         "legendgroup": "RB",
         "marker": {
          "color": "coral",
          "size": [
           857,
           616
          ],
          "sizemode": "area",
          "sizeref": 3.4475,
          "symbol": "circle"
         },
         "mode": "markers+text",
         "name": "RB",
         "orientation": "v",
         "showlegend": true,
         "text": [
          "Reece James",
          "Brais Verdejo"
         ],
         "textposition": "top center",
         "type": "scatter",
         "x": [
          2.42,
          4.24
         ],
         "xaxis": "x",
         "y": [
          0.82,
          0.45
         ],
         "yaxis": "y"
        },
        {
         "customdata": [
          [
           "Aurélien Tchouaméni"
          ],
          [
           "Nico González"
          ]
         ],
         "hovertemplate": "Position=CDM<br>Possession won per 90=%{x}<br>Expected goal contributions per 90=%{y}<br>Minutes played=%{marker.size}<br>Name=%{customdata[0]}<extra></extra>",
         "legendgroup": "CDM",
         "marker": {
          "color": "gold",
          "size": [
           722,
           755
          ],
          "sizemode": "area",
          "sizeref": 3.4475,
          "symbol": "circle"
         },
         "mode": "markers+text",
         "name": "CDM",
         "orientation": "v",
         "showlegend": true,
         "text": [
          "Aurélien Tchouaméni",
          "Nico González"
         ],
         "textposition": "top center",
         "type": "scatter",
         "x": [
          2.37,
          3.58
         ],
         "xaxis": "x",
         "y": [
          1.26,
          0.93
         ],
         "yaxis": "y"
        },
        {
         "customdata": [
          [
           "Luciano Couto"
          ],
          [
           "Pablo Gavi"
          ],
          [
           "Pedri"
          ],
          [
           "Frenkie de Jong"
          ]
         ],
         "hovertemplate": "Position=CM<br>Possession won per 90=%{x}<br>Expected goal contributions per 90=%{y}<br>Minutes played=%{marker.size}<br>Name=%{customdata[0]}<extra></extra>",
         "legendgroup": "CM",
         "marker": {
          "color": "yellow",
          "size": [
           427,
           780,
           859,
           878
          ],
          "sizemode": "area",
          "sizeref": 3.4475,
          "symbol": "circle"
         },
         "mode": "markers+text",
         "name": "CM",
         "orientation": "v",
         "showlegend": true,
         "text": [
          "Luciano Couto",
          "Pablo Gavi",
          "Pedri",
          "Frenkie de Jong"
         ],
         "textposition": "top center",
         "type": "scatter",
         "x": [
          1.69,
          1.5,
          1.47,
          2.67
         ],
         "xaxis": "x",
         "y": [
          3.22,
          2.67,
          3.34,
          2.42
         ],
         "yaxis": "y"
        },
        {
         "customdata": [
          [
           "Felix Davey"
          ],
          [
           "Noni Madueke"
          ]
         ],
         "hovertemplate": "Position=LW<br>Possession won per 90=%{x}<br>Expected goal contributions per 90=%{y}<br>Minutes played=%{marker.size}<br>Name=%{customdata[0]}<extra></extra>",
         "legendgroup": "LW",
         "marker": {
          "color": "greenyellow",
          "size": [
           591,
           673
          ],
          "sizemode": "area",
          "sizeref": 3.4475,
          "symbol": "circle"
         },
         "mode": "markers+text",
         "name": "LW",
         "orientation": "v",
         "showlegend": true,
         "text": [
          "Felix Davey",
          "Noni Madueke"
         ],
         "textposition": "top center",
         "type": "scatter",
         "x": [
          1.07,
          1.2
         ],
         "xaxis": "x",
         "y": [
          2.06,
          1.99
         ],
         "yaxis": "y"
        },
        {
         "customdata": [
          [
           "Ansu Fati"
          ],
          [
           "Ferran Torres"
          ]
         ],
         "hovertemplate": "Position=RW<br>Possession won per 90=%{x}<br>Expected goal contributions per 90=%{y}<br>Minutes played=%{marker.size}<br>Name=%{customdata[0]}<extra></extra>",
         "legendgroup": "RW",
         "marker": {
          "color": "limegreen",
          "size": [
           713,
           748
          ],
          "sizemode": "area",
          "sizeref": 3.4475,
          "symbol": "circle"
         },
         "mode": "markers+text",
         "name": "RW",
         "orientation": "v",
         "showlegend": true,
         "text": [
          "Ansu Fati",
          "Ferran Torres"
         ],
         "textposition": "top center",
         "type": "scatter",
         "x": [
          1.51,
          0.6
         ],
         "xaxis": "x",
         "y": [
          3.29,
          2.7
         ],
         "yaxis": "y"
        },
        {
         "customdata": [
          [
           "Muhamed Zukic"
          ],
          [
           "Karim Adeyemi"
          ],
          [
           "Victor Osimhen"
          ]
         ],
         "hovertemplate": "Position=ST<br>Possession won per 90=%{x}<br>Expected goal contributions per 90=%{y}<br>Minutes played=%{marker.size}<br>Name=%{customdata[0]}<extra></extra>",
         "legendgroup": "ST",
         "marker": {
          "color": "green",
          "size": [
           222,
           548,
           916
          ],
          "sizemode": "area",
          "sizeref": 3.4475,
          "symbol": "circle"
         },
         "mode": "markers+text",
         "name": "ST",
         "orientation": "v",
         "showlegend": true,
         "text": [
          "Muhamed Zukic",
          "Karim Adeyemi",
          "Victor Osimhen"
         ],
         "textposition": "top center",
         "type": "scatter",
         "x": [
          0,
          1.15,
          0.88
         ],
         "xaxis": "x",
         "y": [
          3.57,
          4.86,
          4.78
         ],
         "yaxis": "y"
        }
       ],
       "layout": {
        "annotations": [
         {
          "showarrow": false,
          "text": "Size of data point - Minutes played",
          "x": 1,
          "xanchor": "right",
          "xref": "paper",
          "xshift": 0,
          "y": -0.1,
          "yanchor": "auto",
          "yref": "paper",
          "yshift": 0
         }
        ],
        "height": 800,
        "legend": {
         "itemsizing": "constant",
         "title": {
          "text": "Position"
         },
         "tracegroupgap": 0
        },
        "margin": {
         "t": 60
        },
        "template": {
         "data": {
          "bar": [
           {
            "error_x": {
             "color": "#2a3f5f"
            },
            "error_y": {
             "color": "#2a3f5f"
            },
            "marker": {
             "line": {
              "color": "#E5ECF6",
              "width": 0.5
             },
             "pattern": {
              "fillmode": "overlay",
              "size": 10,
              "solidity": 0.2
             }
            },
            "type": "bar"
           }
          ],
          "barpolar": [
           {
            "marker": {
             "line": {
              "color": "#E5ECF6",
              "width": 0.5
             },
             "pattern": {
              "fillmode": "overlay",
              "size": 10,
              "solidity": 0.2
             }
            },
            "type": "barpolar"
           }
          ],
          "carpet": [
           {
            "aaxis": {
             "endlinecolor": "#2a3f5f",
             "gridcolor": "white",
             "linecolor": "white",
             "minorgridcolor": "white",
             "startlinecolor": "#2a3f5f"
            },
            "baxis": {
             "endlinecolor": "#2a3f5f",
             "gridcolor": "white",
             "linecolor": "white",
             "minorgridcolor": "white",
             "startlinecolor": "#2a3f5f"
            },
            "type": "carpet"
           }
          ],
          "choropleth": [
           {
            "colorbar": {
             "outlinewidth": 0,
             "ticks": ""
            },
            "type": "choropleth"
           }
          ],
          "contour": [
           {
            "colorbar": {
             "outlinewidth": 0,
             "ticks": ""
            },
            "colorscale": [
             [
              0,
              "#0d0887"
             ],
             [
              0.1111111111111111,
              "#46039f"
             ],
             [
              0.2222222222222222,
              "#7201a8"
             ],
             [
              0.3333333333333333,
              "#9c179e"
             ],
             [
              0.4444444444444444,
              "#bd3786"
             ],
             [
              0.5555555555555556,
              "#d8576b"
             ],
             [
              0.6666666666666666,
              "#ed7953"
             ],
             [
              0.7777777777777778,
              "#fb9f3a"
             ],
             [
              0.8888888888888888,
              "#fdca26"
             ],
             [
              1,
              "#f0f921"
             ]
            ],
            "type": "contour"
           }
          ],
          "contourcarpet": [
           {
            "colorbar": {
             "outlinewidth": 0,
             "ticks": ""
            },
            "type": "contourcarpet"
           }
          ],
          "heatmap": [
           {
            "colorbar": {
             "outlinewidth": 0,
             "ticks": ""
            },
            "colorscale": [
             [
              0,
              "#0d0887"
             ],
             [
              0.1111111111111111,
              "#46039f"
             ],
             [
              0.2222222222222222,
              "#7201a8"
             ],
             [
              0.3333333333333333,
              "#9c179e"
             ],
             [
              0.4444444444444444,
              "#bd3786"
             ],
             [
              0.5555555555555556,
              "#d8576b"
             ],
             [
              0.6666666666666666,
              "#ed7953"
             ],
             [
              0.7777777777777778,
              "#fb9f3a"
             ],
             [
              0.8888888888888888,
              "#fdca26"
             ],
             [
              1,
              "#f0f921"
             ]
            ],
            "type": "heatmap"
           }
          ],
          "heatmapgl": [
           {
            "colorbar": {
             "outlinewidth": 0,
             "ticks": ""
            },
            "colorscale": [
             [
              0,
              "#0d0887"
             ],
             [
              0.1111111111111111,
              "#46039f"
             ],
             [
              0.2222222222222222,
              "#7201a8"
             ],
             [
              0.3333333333333333,
              "#9c179e"
             ],
             [
              0.4444444444444444,
              "#bd3786"
             ],
             [
              0.5555555555555556,
              "#d8576b"
             ],
             [
              0.6666666666666666,
              "#ed7953"
             ],
             [
              0.7777777777777778,
              "#fb9f3a"
             ],
             [
              0.8888888888888888,
              "#fdca26"
             ],
             [
              1,
              "#f0f921"
             ]
            ],
            "type": "heatmapgl"
           }
          ],
          "histogram": [
           {
            "marker": {
             "pattern": {
              "fillmode": "overlay",
              "size": 10,
              "solidity": 0.2
             }
            },
            "type": "histogram"
           }
          ],
          "histogram2d": [
           {
            "colorbar": {
             "outlinewidth": 0,
             "ticks": ""
            },
            "colorscale": [
             [
              0,
              "#0d0887"
             ],
             [
              0.1111111111111111,
              "#46039f"
             ],
             [
              0.2222222222222222,
              "#7201a8"
             ],
             [
              0.3333333333333333,
              "#9c179e"
             ],
             [
              0.4444444444444444,
              "#bd3786"
             ],
             [
              0.5555555555555556,
              "#d8576b"
             ],
             [
              0.6666666666666666,
              "#ed7953"
             ],
             [
              0.7777777777777778,
              "#fb9f3a"
             ],
             [
              0.8888888888888888,
              "#fdca26"
             ],
             [
              1,
              "#f0f921"
             ]
            ],
            "type": "histogram2d"
           }
          ],
          "histogram2dcontour": [
           {
            "colorbar": {
             "outlinewidth": 0,
             "ticks": ""
            },
            "colorscale": [
             [
              0,
              "#0d0887"
             ],
             [
              0.1111111111111111,
              "#46039f"
             ],
             [
              0.2222222222222222,
              "#7201a8"
             ],
             [
              0.3333333333333333,
              "#9c179e"
             ],
             [
              0.4444444444444444,
              "#bd3786"
             ],
             [
              0.5555555555555556,
              "#d8576b"
             ],
             [
              0.6666666666666666,
              "#ed7953"
             ],
             [
              0.7777777777777778,
              "#fb9f3a"
             ],
             [
              0.8888888888888888,
              "#fdca26"
             ],
             [
              1,
              "#f0f921"
             ]
            ],
            "type": "histogram2dcontour"
           }
          ],
          "mesh3d": [
           {
            "colorbar": {
             "outlinewidth": 0,
             "ticks": ""
            },
            "type": "mesh3d"
           }
          ],
          "parcoords": [
           {
            "line": {
             "colorbar": {
              "outlinewidth": 0,
              "ticks": ""
             }
            },
            "type": "parcoords"
           }
          ],
          "pie": [
           {
            "automargin": true,
            "type": "pie"
           }
          ],
          "scatter": [
           {
            "fillpattern": {
             "fillmode": "overlay",
             "size": 10,
             "solidity": 0.2
            },
            "type": "scatter"
           }
          ],
          "scatter3d": [
           {
            "line": {
             "colorbar": {
              "outlinewidth": 0,
              "ticks": ""
             }
            },
            "marker": {
             "colorbar": {
              "outlinewidth": 0,
              "ticks": ""
             }
            },
            "type": "scatter3d"
           }
          ],
          "scattercarpet": [
           {
            "marker": {
             "colorbar": {
              "outlinewidth": 0,
              "ticks": ""
             }
            },
            "type": "scattercarpet"
           }
          ],
          "scattergeo": [
           {
            "marker": {
             "colorbar": {
              "outlinewidth": 0,
              "ticks": ""
             }
            },
            "type": "scattergeo"
           }
          ],
          "scattergl": [
           {
            "marker": {
             "colorbar": {
              "outlinewidth": 0,
              "ticks": ""
             }
            },
            "type": "scattergl"
           }
          ],
          "scattermapbox": [
           {
            "marker": {
             "colorbar": {
              "outlinewidth": 0,
              "ticks": ""
             }
            },
            "type": "scattermapbox"
           }
          ],
          "scatterpolar": [
           {
            "marker": {
             "colorbar": {
              "outlinewidth": 0,
              "ticks": ""
             }
            },
            "type": "scatterpolar"
           }
          ],
          "scatterpolargl": [
           {
            "marker": {
             "colorbar": {
              "outlinewidth": 0,
              "ticks": ""
             }
            },
            "type": "scatterpolargl"
           }
          ],
          "scatterternary": [
           {
            "marker": {
             "colorbar": {
              "outlinewidth": 0,
              "ticks": ""
             }
            },
            "type": "scatterternary"
           }
          ],
          "surface": [
           {
            "colorbar": {
             "outlinewidth": 0,
             "ticks": ""
            },
            "colorscale": [
             [
              0,
              "#0d0887"
             ],
             [
              0.1111111111111111,
              "#46039f"
             ],
             [
              0.2222222222222222,
              "#7201a8"
             ],
             [
              0.3333333333333333,
              "#9c179e"
             ],
             [
              0.4444444444444444,
              "#bd3786"
             ],
             [
              0.5555555555555556,
              "#d8576b"
             ],
             [
              0.6666666666666666,
              "#ed7953"
             ],
             [
              0.7777777777777778,
              "#fb9f3a"
             ],
             [
              0.8888888888888888,
              "#fdca26"
             ],
             [
              1,
              "#f0f921"
             ]
            ],
            "type": "surface"
           }
          ],
          "table": [
           {
            "cells": {
             "fill": {
              "color": "#EBF0F8"
             },
             "line": {
              "color": "white"
             }
            },
            "header": {
             "fill": {
              "color": "#C8D4E3"
             },
             "line": {
              "color": "white"
             }
            },
            "type": "table"
           }
          ]
         },
         "layout": {
          "annotationdefaults": {
           "arrowcolor": "#2a3f5f",
           "arrowhead": 0,
           "arrowwidth": 1
          },
          "autotypenumbers": "strict",
          "coloraxis": {
           "colorbar": {
            "outlinewidth": 0,
            "ticks": ""
           }
          },
          "colorscale": {
           "diverging": [
            [
             0,
             "#8e0152"
            ],
            [
             0.1,
             "#c51b7d"
            ],
            [
             0.2,
             "#de77ae"
            ],
            [
             0.3,
             "#f1b6da"
            ],
            [
             0.4,
             "#fde0ef"
            ],
            [
             0.5,
             "#f7f7f7"
            ],
            [
             0.6,
             "#e6f5d0"
            ],
            [
             0.7,
             "#b8e186"
            ],
            [
             0.8,
             "#7fbc41"
            ],
            [
             0.9,
             "#4d9221"
            ],
            [
             1,
             "#276419"
            ]
           ],
           "sequential": [
            [
             0,
             "#0d0887"
            ],
            [
             0.1111111111111111,
             "#46039f"
            ],
            [
             0.2222222222222222,
             "#7201a8"
            ],
            [
             0.3333333333333333,
             "#9c179e"
            ],
            [
             0.4444444444444444,
             "#bd3786"
            ],
            [
             0.5555555555555556,
             "#d8576b"
            ],
            [
             0.6666666666666666,
             "#ed7953"
            ],
            [
             0.7777777777777778,
             "#fb9f3a"
            ],
            [
             0.8888888888888888,
             "#fdca26"
            ],
            [
             1,
             "#f0f921"
            ]
           ],
           "sequentialminus": [
            [
             0,
             "#0d0887"
            ],
            [
             0.1111111111111111,
             "#46039f"
            ],
            [
             0.2222222222222222,
             "#7201a8"
            ],
            [
             0.3333333333333333,
             "#9c179e"
            ],
            [
             0.4444444444444444,
             "#bd3786"
            ],
            [
             0.5555555555555556,
             "#d8576b"
            ],
            [
             0.6666666666666666,
             "#ed7953"
            ],
            [
             0.7777777777777778,
             "#fb9f3a"
            ],
            [
             0.8888888888888888,
             "#fdca26"
            ],
            [
             1,
             "#f0f921"
            ]
           ]
          },
          "colorway": [
           "#636efa",
           "#EF553B",
           "#00cc96",
           "#ab63fa",
           "#FFA15A",
           "#19d3f3",
           "#FF6692",
           "#B6E880",
           "#FF97FF",
           "#FECB52"
          ],
          "font": {
           "color": "#2a3f5f"
          },
          "geo": {
           "bgcolor": "white",
           "lakecolor": "white",
           "landcolor": "#E5ECF6",
           "showlakes": true,
           "showland": true,
           "subunitcolor": "white"
          },
          "hoverlabel": {
           "align": "left"
          },
          "hovermode": "closest",
          "mapbox": {
           "style": "light"
          },
          "paper_bgcolor": "white",
          "plot_bgcolor": "#E5ECF6",
          "polar": {
           "angularaxis": {
            "gridcolor": "white",
            "linecolor": "white",
            "ticks": ""
           },
           "bgcolor": "#E5ECF6",
           "radialaxis": {
            "gridcolor": "white",
            "linecolor": "white",
            "ticks": ""
           }
          },
          "scene": {
           "xaxis": {
            "backgroundcolor": "#E5ECF6",
            "gridcolor": "white",
            "gridwidth": 2,
            "linecolor": "white",
            "showbackground": true,
            "ticks": "",
            "zerolinecolor": "white"
           },
           "yaxis": {
            "backgroundcolor": "#E5ECF6",
            "gridcolor": "white",
            "gridwidth": 2,
            "linecolor": "white",
            "showbackground": true,
            "ticks": "",
            "zerolinecolor": "white"
           },
           "zaxis": {
            "backgroundcolor": "#E5ECF6",
            "gridcolor": "white",
            "gridwidth": 2,
            "linecolor": "white",
            "showbackground": true,
            "ticks": "",
            "zerolinecolor": "white"
           }
          },
          "shapedefaults": {
           "line": {
            "color": "#2a3f5f"
           }
          },
          "ternary": {
           "aaxis": {
            "gridcolor": "white",
            "linecolor": "white",
            "ticks": ""
           },
           "baxis": {
            "gridcolor": "white",
            "linecolor": "white",
            "ticks": ""
           },
           "bgcolor": "#E5ECF6",
           "caxis": {
            "gridcolor": "white",
            "linecolor": "white",
            "ticks": ""
           }
          },
          "title": {
           "x": 0.05
          },
          "xaxis": {
           "automargin": true,
           "gridcolor": "white",
           "linecolor": "white",
           "ticks": "",
           "title": {
            "standoff": 15
           },
           "zerolinecolor": "white",
           "zerolinewidth": 2
          },
          "yaxis": {
           "automargin": true,
           "gridcolor": "white",
           "linecolor": "white",
           "ticks": "",
           "title": {
            "standoff": 15
           },
           "zerolinecolor": "white",
           "zerolinewidth": 2
          }
         }
        },
        "title": {
         "text": "Possession won per 90 vs Expected goal contributions per 90"
        },
        "width": 800,
        "xaxis": {
         "anchor": "y",
         "domain": [
          0,
          1
         ],
         "dtick": 0.5,
         "scaleanchor": "y",
         "scaleratio": 1,
         "tick0": 0,
         "ticklabelstep": 2,
         "title": {
          "text": "Possession won per 90"
         },
         "zeroline": true,
         "zerolinecolor": "Black",
         "zerolinewidth": 2
        },
        "yaxis": {
         "anchor": "x",
         "domain": [
          0,
          1
         ],
         "dtick": 0.5,
         "scaleanchor": "x",
         "scaleratio": 1,
         "tick0": 0,
         "ticklabelstep": 2,
         "title": {
          "text": "Expected goal contributions per 90"
         },
         "zeroline": true,
         "zerolinecolor": "Black",
         "zerolinewidth": 2
        }
       }
      }
     },
     "metadata": {},
     "output_type": "display_data"
    }
   ],
   "source": [
    "scatter_chart('xAp90', 'xGp90')\n",
    "scatter_chart('PossessionWonp90', 'PossessionLostp90')\n",
    "scatter_chart('PossessionWonp90', 'xGCp90')"
   ]
  },
  {
   "cell_type": "code",
   "execution_count": 37,
   "metadata": {},
   "outputs": [
    {
     "data": {
      "application/vnd.plotly.v1+json": {
       "config": {
        "plotlyServerURL": "https://plot.ly"
       },
       "data": [
        {
         "cliponaxis": false,
         "name": "Assistsp90",
         "text": [
          0,
          0,
          0,
          0,
          0.11,
          0.12,
          0.24,
          0.29,
          0.39,
          0.4,
          0.41,
          0.42,
          0.62,
          0.81,
          0.81,
          0.88,
          0.91,
          0.94,
          0.99
         ],
         "textfont": {
          "size": 10
         },
         "textposition": "outside",
         "type": "bar",
         "x": [
          "Álejandro<br>Balde",
          "Henrik<br>Hahn",
          "Joško<br>Gvardiol",
          "Ronald<br>Araujo",
          "Reece<br>James",
          "Ferran<br>Torres",
          "Nico<br>González",
          "Brais<br>Verdejo",
          "Victor<br>Osimhen",
          "Noni<br>Madueke",
          "Frenkie<br>de<br>Jong",
          "Luciano<br>Couto",
          "Aurélien<br>Tchouaméni",
          "Muhamed<br>Zukic",
          "Pablo<br>Gavi",
          "Ansu<br>Fati",
          "Felix<br>Davey",
          "Pedri",
          "Karim<br>Adeyemi"
         ],
         "y": [
          0,
          0,
          0,
          0,
          0.11,
          0.12,
          0.24,
          0.29,
          0.39,
          0.4,
          0.41,
          0.42,
          0.62,
          0.81,
          0.81,
          0.88,
          0.91,
          0.94,
          0.99
         ]
        },
        {
         "cliponaxis": false,
         "name": "xAp90",
         "text": [
          0.47,
          0.63,
          0.03,
          0.08,
          0.8,
          1.78,
          0.86,
          0.35,
          1.6,
          1.1,
          1.72,
          2.13,
          1.13,
          1.62,
          1.47,
          2.44,
          1.54,
          2.45,
          2.43
         ],
         "textfont": {
          "size": 10
         },
         "textposition": "outside",
         "type": "bar",
         "x": [
          "Álejandro<br>Balde",
          "Henrik<br>Hahn",
          "Joško<br>Gvardiol",
          "Ronald<br>Araujo",
          "Reece<br>James",
          "Ferran<br>Torres",
          "Nico<br>González",
          "Brais<br>Verdejo",
          "Victor<br>Osimhen",
          "Noni<br>Madueke",
          "Frenkie<br>de<br>Jong",
          "Luciano<br>Couto",
          "Aurélien<br>Tchouaméni",
          "Muhamed<br>Zukic",
          "Pablo<br>Gavi",
          "Ansu<br>Fati",
          "Felix<br>Davey",
          "Pedri",
          "Karim<br>Adeyemi"
         ],
         "y": [
          0.47,
          0.63,
          0.03,
          0.08,
          0.8,
          1.78,
          0.86,
          0.35,
          1.6,
          1.1,
          1.72,
          2.13,
          1.13,
          1.62,
          1.47,
          2.44,
          1.54,
          2.45,
          2.43
         ]
        }
       ],
       "layout": {
        "bargap": 0.15,
        "bargroupgap": 0.1,
        "barmode": "group",
        "height": 600,
        "template": {
         "data": {
          "bar": [
           {
            "error_x": {
             "color": "#2a3f5f"
            },
            "error_y": {
             "color": "#2a3f5f"
            },
            "marker": {
             "line": {
              "color": "#E5ECF6",
              "width": 0.5
             },
             "pattern": {
              "fillmode": "overlay",
              "size": 10,
              "solidity": 0.2
             }
            },
            "type": "bar"
           }
          ],
          "barpolar": [
           {
            "marker": {
             "line": {
              "color": "#E5ECF6",
              "width": 0.5
             },
             "pattern": {
              "fillmode": "overlay",
              "size": 10,
              "solidity": 0.2
             }
            },
            "type": "barpolar"
           }
          ],
          "carpet": [
           {
            "aaxis": {
             "endlinecolor": "#2a3f5f",
             "gridcolor": "white",
             "linecolor": "white",
             "minorgridcolor": "white",
             "startlinecolor": "#2a3f5f"
            },
            "baxis": {
             "endlinecolor": "#2a3f5f",
             "gridcolor": "white",
             "linecolor": "white",
             "minorgridcolor": "white",
             "startlinecolor": "#2a3f5f"
            },
            "type": "carpet"
           }
          ],
          "choropleth": [
           {
            "colorbar": {
             "outlinewidth": 0,
             "ticks": ""
            },
            "type": "choropleth"
           }
          ],
          "contour": [
           {
            "colorbar": {
             "outlinewidth": 0,
             "ticks": ""
            },
            "colorscale": [
             [
              0,
              "#0d0887"
             ],
             [
              0.1111111111111111,
              "#46039f"
             ],
             [
              0.2222222222222222,
              "#7201a8"
             ],
             [
              0.3333333333333333,
              "#9c179e"
             ],
             [
              0.4444444444444444,
              "#bd3786"
             ],
             [
              0.5555555555555556,
              "#d8576b"
             ],
             [
              0.6666666666666666,
              "#ed7953"
             ],
             [
              0.7777777777777778,
              "#fb9f3a"
             ],
             [
              0.8888888888888888,
              "#fdca26"
             ],
             [
              1,
              "#f0f921"
             ]
            ],
            "type": "contour"
           }
          ],
          "contourcarpet": [
           {
            "colorbar": {
             "outlinewidth": 0,
             "ticks": ""
            },
            "type": "contourcarpet"
           }
          ],
          "heatmap": [
           {
            "colorbar": {
             "outlinewidth": 0,
             "ticks": ""
            },
            "colorscale": [
             [
              0,
              "#0d0887"
             ],
             [
              0.1111111111111111,
              "#46039f"
             ],
             [
              0.2222222222222222,
              "#7201a8"
             ],
             [
              0.3333333333333333,
              "#9c179e"
             ],
             [
              0.4444444444444444,
              "#bd3786"
             ],
             [
              0.5555555555555556,
              "#d8576b"
             ],
             [
              0.6666666666666666,
              "#ed7953"
             ],
             [
              0.7777777777777778,
              "#fb9f3a"
             ],
             [
              0.8888888888888888,
              "#fdca26"
             ],
             [
              1,
              "#f0f921"
             ]
            ],
            "type": "heatmap"
           }
          ],
          "heatmapgl": [
           {
            "colorbar": {
             "outlinewidth": 0,
             "ticks": ""
            },
            "colorscale": [
             [
              0,
              "#0d0887"
             ],
             [
              0.1111111111111111,
              "#46039f"
             ],
             [
              0.2222222222222222,
              "#7201a8"
             ],
             [
              0.3333333333333333,
              "#9c179e"
             ],
             [
              0.4444444444444444,
              "#bd3786"
             ],
             [
              0.5555555555555556,
              "#d8576b"
             ],
             [
              0.6666666666666666,
              "#ed7953"
             ],
             [
              0.7777777777777778,
              "#fb9f3a"
             ],
             [
              0.8888888888888888,
              "#fdca26"
             ],
             [
              1,
              "#f0f921"
             ]
            ],
            "type": "heatmapgl"
           }
          ],
          "histogram": [
           {
            "marker": {
             "pattern": {
              "fillmode": "overlay",
              "size": 10,
              "solidity": 0.2
             }
            },
            "type": "histogram"
           }
          ],
          "histogram2d": [
           {
            "colorbar": {
             "outlinewidth": 0,
             "ticks": ""
            },
            "colorscale": [
             [
              0,
              "#0d0887"
             ],
             [
              0.1111111111111111,
              "#46039f"
             ],
             [
              0.2222222222222222,
              "#7201a8"
             ],
             [
              0.3333333333333333,
              "#9c179e"
             ],
             [
              0.4444444444444444,
              "#bd3786"
             ],
             [
              0.5555555555555556,
              "#d8576b"
             ],
             [
              0.6666666666666666,
              "#ed7953"
             ],
             [
              0.7777777777777778,
              "#fb9f3a"
             ],
             [
              0.8888888888888888,
              "#fdca26"
             ],
             [
              1,
              "#f0f921"
             ]
            ],
            "type": "histogram2d"
           }
          ],
          "histogram2dcontour": [
           {
            "colorbar": {
             "outlinewidth": 0,
             "ticks": ""
            },
            "colorscale": [
             [
              0,
              "#0d0887"
             ],
             [
              0.1111111111111111,
              "#46039f"
             ],
             [
              0.2222222222222222,
              "#7201a8"
             ],
             [
              0.3333333333333333,
              "#9c179e"
             ],
             [
              0.4444444444444444,
              "#bd3786"
             ],
             [
              0.5555555555555556,
              "#d8576b"
             ],
             [
              0.6666666666666666,
              "#ed7953"
             ],
             [
              0.7777777777777778,
              "#fb9f3a"
             ],
             [
              0.8888888888888888,
              "#fdca26"
             ],
             [
              1,
              "#f0f921"
             ]
            ],
            "type": "histogram2dcontour"
           }
          ],
          "mesh3d": [
           {
            "colorbar": {
             "outlinewidth": 0,
             "ticks": ""
            },
            "type": "mesh3d"
           }
          ],
          "parcoords": [
           {
            "line": {
             "colorbar": {
              "outlinewidth": 0,
              "ticks": ""
             }
            },
            "type": "parcoords"
           }
          ],
          "pie": [
           {
            "automargin": true,
            "type": "pie"
           }
          ],
          "scatter": [
           {
            "fillpattern": {
             "fillmode": "overlay",
             "size": 10,
             "solidity": 0.2
            },
            "type": "scatter"
           }
          ],
          "scatter3d": [
           {
            "line": {
             "colorbar": {
              "outlinewidth": 0,
              "ticks": ""
             }
            },
            "marker": {
             "colorbar": {
              "outlinewidth": 0,
              "ticks": ""
             }
            },
            "type": "scatter3d"
           }
          ],
          "scattercarpet": [
           {
            "marker": {
             "colorbar": {
              "outlinewidth": 0,
              "ticks": ""
             }
            },
            "type": "scattercarpet"
           }
          ],
          "scattergeo": [
           {
            "marker": {
             "colorbar": {
              "outlinewidth": 0,
              "ticks": ""
             }
            },
            "type": "scattergeo"
           }
          ],
          "scattergl": [
           {
            "marker": {
             "colorbar": {
              "outlinewidth": 0,
              "ticks": ""
             }
            },
            "type": "scattergl"
           }
          ],
          "scattermapbox": [
           {
            "marker": {
             "colorbar": {
              "outlinewidth": 0,
              "ticks": ""
             }
            },
            "type": "scattermapbox"
           }
          ],
          "scatterpolar": [
           {
            "marker": {
             "colorbar": {
              "outlinewidth": 0,
              "ticks": ""
             }
            },
            "type": "scatterpolar"
           }
          ],
          "scatterpolargl": [
           {
            "marker": {
             "colorbar": {
              "outlinewidth": 0,
              "ticks": ""
             }
            },
            "type": "scatterpolargl"
           }
          ],
          "scatterternary": [
           {
            "marker": {
             "colorbar": {
              "outlinewidth": 0,
              "ticks": ""
             }
            },
            "type": "scatterternary"
           }
          ],
          "surface": [
           {
            "colorbar": {
             "outlinewidth": 0,
             "ticks": ""
            },
            "colorscale": [
             [
              0,
              "#0d0887"
             ],
             [
              0.1111111111111111,
              "#46039f"
             ],
             [
              0.2222222222222222,
              "#7201a8"
             ],
             [
              0.3333333333333333,
              "#9c179e"
             ],
             [
              0.4444444444444444,
              "#bd3786"
             ],
             [
              0.5555555555555556,
              "#d8576b"
             ],
             [
              0.6666666666666666,
              "#ed7953"
             ],
             [
              0.7777777777777778,
              "#fb9f3a"
             ],
             [
              0.8888888888888888,
              "#fdca26"
             ],
             [
              1,
              "#f0f921"
             ]
            ],
            "type": "surface"
           }
          ],
          "table": [
           {
            "cells": {
             "fill": {
              "color": "#EBF0F8"
             },
             "line": {
              "color": "white"
             }
            },
            "header": {
             "fill": {
              "color": "#C8D4E3"
             },
             "line": {
              "color": "white"
             }
            },
            "type": "table"
           }
          ]
         },
         "layout": {
          "annotationdefaults": {
           "arrowcolor": "#2a3f5f",
           "arrowhead": 0,
           "arrowwidth": 1
          },
          "autotypenumbers": "strict",
          "coloraxis": {
           "colorbar": {
            "outlinewidth": 0,
            "ticks": ""
           }
          },
          "colorscale": {
           "diverging": [
            [
             0,
             "#8e0152"
            ],
            [
             0.1,
             "#c51b7d"
            ],
            [
             0.2,
             "#de77ae"
            ],
            [
             0.3,
             "#f1b6da"
            ],
            [
             0.4,
             "#fde0ef"
            ],
            [
             0.5,
             "#f7f7f7"
            ],
            [
             0.6,
             "#e6f5d0"
            ],
            [
             0.7,
             "#b8e186"
            ],
            [
             0.8,
             "#7fbc41"
            ],
            [
             0.9,
             "#4d9221"
            ],
            [
             1,
             "#276419"
            ]
           ],
           "sequential": [
            [
             0,
             "#0d0887"
            ],
            [
             0.1111111111111111,
             "#46039f"
            ],
            [
             0.2222222222222222,
             "#7201a8"
            ],
            [
             0.3333333333333333,
             "#9c179e"
            ],
            [
             0.4444444444444444,
             "#bd3786"
            ],
            [
             0.5555555555555556,
             "#d8576b"
            ],
            [
             0.6666666666666666,
             "#ed7953"
            ],
            [
             0.7777777777777778,
             "#fb9f3a"
            ],
            [
             0.8888888888888888,
             "#fdca26"
            ],
            [
             1,
             "#f0f921"
            ]
           ],
           "sequentialminus": [
            [
             0,
             "#0d0887"
            ],
            [
             0.1111111111111111,
             "#46039f"
            ],
            [
             0.2222222222222222,
             "#7201a8"
            ],
            [
             0.3333333333333333,
             "#9c179e"
            ],
            [
             0.4444444444444444,
             "#bd3786"
            ],
            [
             0.5555555555555556,
             "#d8576b"
            ],
            [
             0.6666666666666666,
             "#ed7953"
            ],
            [
             0.7777777777777778,
             "#fb9f3a"
            ],
            [
             0.8888888888888888,
             "#fdca26"
            ],
            [
             1,
             "#f0f921"
            ]
           ]
          },
          "colorway": [
           "#636efa",
           "#EF553B",
           "#00cc96",
           "#ab63fa",
           "#FFA15A",
           "#19d3f3",
           "#FF6692",
           "#B6E880",
           "#FF97FF",
           "#FECB52"
          ],
          "font": {
           "color": "#2a3f5f"
          },
          "geo": {
           "bgcolor": "white",
           "lakecolor": "white",
           "landcolor": "#E5ECF6",
           "showlakes": true,
           "showland": true,
           "subunitcolor": "white"
          },
          "hoverlabel": {
           "align": "left"
          },
          "hovermode": "closest",
          "mapbox": {
           "style": "light"
          },
          "paper_bgcolor": "white",
          "plot_bgcolor": "#E5ECF6",
          "polar": {
           "angularaxis": {
            "gridcolor": "white",
            "linecolor": "white",
            "ticks": ""
           },
           "bgcolor": "#E5ECF6",
           "radialaxis": {
            "gridcolor": "white",
            "linecolor": "white",
            "ticks": ""
           }
          },
          "scene": {
           "xaxis": {
            "backgroundcolor": "#E5ECF6",
            "gridcolor": "white",
            "gridwidth": 2,
            "linecolor": "white",
            "showbackground": true,
            "ticks": "",
            "zerolinecolor": "white"
           },
           "yaxis": {
            "backgroundcolor": "#E5ECF6",
            "gridcolor": "white",
            "gridwidth": 2,
            "linecolor": "white",
            "showbackground": true,
            "ticks": "",
            "zerolinecolor": "white"
           },
           "zaxis": {
            "backgroundcolor": "#E5ECF6",
            "gridcolor": "white",
            "gridwidth": 2,
            "linecolor": "white",
            "showbackground": true,
            "ticks": "",
            "zerolinecolor": "white"
           }
          },
          "shapedefaults": {
           "line": {
            "color": "#2a3f5f"
           }
          },
          "ternary": {
           "aaxis": {
            "gridcolor": "white",
            "linecolor": "white",
            "ticks": ""
           },
           "baxis": {
            "gridcolor": "white",
            "linecolor": "white",
            "ticks": ""
           },
           "bgcolor": "#E5ECF6",
           "caxis": {
            "gridcolor": "white",
            "linecolor": "white",
            "ticks": ""
           }
          },
          "title": {
           "x": 0.05
          },
          "xaxis": {
           "automargin": true,
           "gridcolor": "white",
           "linecolor": "white",
           "ticks": "",
           "title": {
            "standoff": 15
           },
           "zerolinecolor": "white",
           "zerolinewidth": 2
          },
          "yaxis": {
           "automargin": true,
           "gridcolor": "white",
           "linecolor": "white",
           "ticks": "",
           "title": {
            "standoff": 15
           },
           "zerolinecolor": "white",
           "zerolinewidth": 2
          }
         }
        },
        "title": {
         "text": "Assists per 90 vs Expected assists per 90"
        },
        "width": 1600,
        "xaxis": {
         "categoryorder": "min descending",
         "title": {
          "text": "Players"
         }
        },
        "yaxis": {
         "title": {
          "text": "Assists per 90 & Expected assists per 90"
         }
        }
       }
      }
     },
     "metadata": {},
     "output_type": "display_data"
    }
   ],
   "source": [
    "grouped_bar('Assistsp90', 'xAp90')"
   ]
  }
 ],
 "metadata": {
  "kernelspec": {
   "display_name": "Python 3.9.9 64-bit",
   "language": "python",
   "name": "python3"
  },
  "language_info": {
   "codemirror_mode": {
    "name": "ipython",
    "version": 3
   },
   "file_extension": ".py",
   "mimetype": "text/x-python",
   "name": "python",
   "nbconvert_exporter": "python",
   "pygments_lexer": "ipython3",
   "version": "3.9.9"
  },
  "orig_nbformat": 4,
  "vscode": {
   "interpreter": {
    "hash": "11938c6bc6919ae2720b4d5011047913343b08a43b18698fd82dedb0d4417594"
   }
  }
 },
 "nbformat": 4,
 "nbformat_minor": 2
}

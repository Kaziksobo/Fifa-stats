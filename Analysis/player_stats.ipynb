{
 "cells": [
  {
   "attachments": {},
   "cell_type": "markdown",
   "metadata": {},
   "source": [
    "# Player analysis\n",
    "Here I am doing analysis on player's match stats"
   ]
  },
  {
   "attachments": {},
   "cell_type": "markdown",
   "metadata": {},
   "source": [
    "## Data Formatting"
   ]
  },
  {
   "attachments": {},
   "cell_type": "markdown",
   "metadata": {},
   "source": [
    "### Imports\n",
    "First I import the necessary libraries, including custom functions"
   ]
  },
  {
   "cell_type": "code",
   "execution_count": 1,
   "metadata": {},
   "outputs": [],
   "source": [
    "from pathlib import Path\n",
    "\n",
    "import numpy as np\n",
    "import pandas as pd\n",
    "import plotly.express as px\n",
    "import plotly.graph_objects as go\n",
    "from analysis_functions import (create_players_dataframe, loader,\n",
    "                                player_id2player, stats_conv, team_id2team)\n",
    "from matplotlib import pyplot as plt\n",
    "from matplotlib.lines import Line2D"
   ]
  },
  {
   "attachments": {},
   "cell_type": "markdown",
   "metadata": {},
   "source": [
    "### Positions to colours\n",
    "Then I create a dictionary relating positions to colours, for use in graphs later"
   ]
  },
  {
   "cell_type": "code",
   "execution_count": 2,
   "metadata": {},
   "outputs": [],
   "source": [
    "colour_dict = {\n",
    "    'GK': 'red',\n",
    "    'CB': 'orangered',\n",
    "    'LB': 'darkorange',\n",
    "    'RB': 'coral',\n",
    "    'CDM': 'gold',\n",
    "    'CM': 'yellow',\n",
    "    'RW': 'limegreen',\n",
    "    'LW': 'greenyellow',\n",
    "    'ST': 'green'\n",
    "}"
   ]
  },
  {
   "attachments": {},
   "cell_type": "markdown",
   "metadata": {},
   "source": [
    "### Importing data\n",
    "Here I import the data, using custom functions to load the match, player and team data from the csv files into python dictionaries"
   ]
  },
  {
   "cell_type": "code",
   "execution_count": 3,
   "metadata": {},
   "outputs": [],
   "source": [
    "version = 'summer_end'\n",
    "season = '25_26'\n",
    "players, matches, teams = loader(version, season)"
   ]
  },
  {
   "attachments": {},
   "cell_type": "markdown",
   "metadata": {},
   "source": [
    "### Creating stats dictionary and dataframe\n",
    "Here I add each player's match data to their dictionary of stats, including calculating some new stats using existing ones"
   ]
  },
  {
   "cell_type": "code",
   "execution_count": 4,
   "metadata": {},
   "outputs": [],
   "source": [
    "# match stats to be recorded\n",
    "stats = [\"MinutesPlayed\", \"MatchRating\", \"GoalsConceded\", \"OwnGoals\", \"Goals\", \"Assists\", \"Shots\", \"ShotsOnTarget\", \"PenaltiesTaken\", \"PenaltiesScored\", \"PenaltiesConceded\", \"xG\", \"xA\", \"Passes\", \"PassesCompleted\", \"Possession\", \"PossessionWon\", \"PossessionLost\", \"YellowCards\", \"RedCards\"]\n",
    "# gk match stats to be recorded\n",
    "gk_stats = [\"ShotsFaced\", \"Saves\", \"PenaltiesFaced\", \"PenaltiesSaved\"]\n",
    "# iterating through every player in the player data\n",
    "for player in players:\n",
    "    player[\"Appearances\"] = 0\n",
    "    for stat in stats:\n",
    "        player[stat] = 0\n",
    "    for stat in gk_stats:\n",
    "        player[stat] = 0\n",
    "    for position in [\"GK\", \"RB\", \"CB\", \"LB\", \"CDM\", \"CM\", \"RW\", \"ST\", \"LW\"]:\n",
    "        player[f'MinutesAs{position}'] = 0\n",
    "    for comp, matchs in matches.items():\n",
    "        # getting all the mathces for each competition\n",
    "        for match in matchs:\n",
    "            # for every match in the competition\n",
    "            for section in [match['Teams']['Barcelona']['Players']['Lineup'], match['Teams']['Barcelona']['Players']['Bench']]:\n",
    "                for person in section:\n",
    "                    # for every player in the lineup and bench\n",
    "                    if person['PlayerId'] == player['Id']:\n",
    "                        # if the match data is for the player being looked at in the current iteration (of the original for loop)\n",
    "                        if person['MinutesPlayed'] > 0:\n",
    "                            player[\"Appearances\"] += 1\n",
    "                        for stat in stats:\n",
    "                            if person[stat]:\n",
    "                                player[stat] += person[stat]\n",
    "                        if person['Goalkeeping']:\n",
    "                            for stat in gk_stats:\n",
    "                                player[stat] += person[\"Goalkeeping\"][stat]  \n",
    "                        if len(person['PositionsPlayed']) == 1:\n",
    "                            position = person['PositionsPlayed'][0]\n",
    "                            player[f'MinutesAs{position}'] += person['MinutesPlayed']\n",
    "                        elif len(person['PositionsPlayed']) > 1:\n",
    "                            position = person['PositionsPlayed'][0]\n",
    "                            player[f'MinutesAs{position}'] += round((person['MinutesPlayed'] * 2/3), 0)\n",
    "                            position = person['PositionsPlayed'][1]\n",
    "                            player[f'MinutesAs{position}'] += round((person['MinutesPlayed'] * 1/3), 0)\n",
    "    if player['Position'] != 'GK':\n",
    "        for stat in gk_stats:\n",
    "            player[stat] = None\n",
    "    # creating per 90 stats\n",
    "    for stat in stats:\n",
    "        statp90 = f'{stat}p90'\n",
    "        if player['MinutesPlayed'] != 0:\n",
    "            player[statp90] = round(((player[stat]/player['MinutesPlayed']) * 90), 2)\n",
    "        else:\n",
    "            player[statp90] = 0\n",
    "    if player['Position'] == 'GK':\n",
    "        for stat in gk_stats:\n",
    "            statp90 = f'{stat}p90'\n",
    "            if player['MinutesPlayed'] != 0:\n",
    "                player[statp90] = round(((player[stat]/player['MinutesPlayed']) * 90), 2)\n",
    "            else:\n",
    "                player[statp90] = 0\n",
    "    # creating pass completion, shot accuracy, shot conversion, goals-xG, assists-xA, xG per shot, Goal contributions (and per 90), xGC (and per 90)\n",
    "    # minutes played per game and possession won and lost per percentage possession stats\n",
    "    player['PassCompletion'] = 0\n",
    "    if player['Passes'] > 0:\n",
    "        player['PassCompletion'] = round((player['PassesCompleted'] / player['Passes']), 2)\n",
    "    player['ShotAccuracy'] = 0\n",
    "    if player['Shots'] > 0:\n",
    "        player['ShotAccuracy'] = round((player['ShotsOnTarget'] / player['Shots']), 2)\n",
    "    player['ShotConversion'] = 0\n",
    "    player['Goals-xG'] = 0\n",
    "    if player['xG'] > 0:\n",
    "        player['Goals-xG'] = round((player['Goals'] - player['xG']), 2)\n",
    "    if player['Goals'] > 0:\n",
    "        player['ShotConversion'] = round((player['Goals'] / player['Shots']), 2)\n",
    "    player['Assists-xA'] = 0\n",
    "    if player['Assists'] > 0:\n",
    "        player['Assists-xA'] = round((player['Assists'] - player['xA']), 2)\n",
    "    player['xGpShot'] = 0\n",
    "    if player['xG'] > 0:\n",
    "        player['xGpShot'] = round((player['xG'] / player['Shots']), 2)\n",
    "    player['GC'] = player['Goals'] + player['Assists']\n",
    "    player['GCp90'] = 0\n",
    "    if player['MinutesPlayed'] != 0:\n",
    "        player['GCp90'] = round((player['GC'] / player['MinutesPlayed']) * 90, 2)\n",
    "    player['xGC'] = player['xG'] + player['xA']\n",
    "    player['xGCp90'] = 0\n",
    "    if player['xGC'] > 0:\n",
    "        player['xGCp90'] = round(((player['xGC'] / player['MinutesPlayed']) * 90), 2)\n",
    "    player['MinutesPlayedpg'] = 0\n",
    "    if player['MinutesPlayed'] > 0:\n",
    "        player['MinutesPlayedpg'] = round((player['MinutesPlayed'] / player['Appearances']), 2)\n",
    "    player['PossessionWonpp'] = 0\n",
    "    if player['Possession'] > 0:\n",
    "        player['PossessionWonpp'] = round((player['PossessionWon'] / (player['Possession'] * 100)), 2)\n",
    "    player['PossessionLostpp'] = 0\n",
    "    if player['Possession'] > 0:\n",
    "        player['PossessionLostpp'] = round((player['PossessionLost'] / (player['Possession'] * 100)), 2)\n",
    "    player['FullName'] = player['FirstName'] + ' ' + player['LastName']\n",
    "    player['Color'] = colour_dict[player['Position']]\n",
    "    if player['FullName'] == 'Pedro González':\n",
    "        player['FullName'] = 'Pedri'\n",
    "\n",
    "# creating the dataframe of the player's stats\n",
    "players_df = create_players_dataframe(players)"
   ]
  },
  {
   "attachments": {},
   "cell_type": "markdown",
   "metadata": {},
   "source": [
    "## Plots\n",
    "Here I create functions to produce different plots, alloing easy viewing and comparison of the available statistics"
   ]
  },
  {
   "attachments": {},
   "cell_type": "markdown",
   "metadata": {},
   "source": [
    "### Scatter plot\n",
    "Here I create the function to plot a scatter plot of any two statistics, with the colour and size of the data point also able to represent different statistics"
   ]
  },
  {
   "cell_type": "code",
   "execution_count": 5,
   "metadata": {},
   "outputs": [],
   "source": [
    "def scatter_chart(x: str, y: str, size_stat='MinutesPlayed', height=800, width=800, gk=False, outfield=True, color_stat='Position', trendline=False, fixed_ratio=True) -> None:\n",
    "    \"\"\"Plots a scatter plot of two chosen stats on the x and y axis', as well as using the colour and size of the data point to show other stats\"\"\"\n",
    "    \n",
    "    global players_df, colour_dict\n",
    "    # creating and sorting dataframe of needed statistics\n",
    "    temp_df = players_df\n",
    "    # removing unnecessary players\n",
    "    if not gk:\n",
    "        temp_df = temp_df[~temp_df.Position.str.contains('GK')]\n",
    "    if not outfield:\n",
    "        for position in ['CB', 'LB', 'RB', 'CDM', 'CM', 'LW', 'RW', 'ST']:\n",
    "            temp_df = temp_df[~temp_df.Position.str.contains(position)]\n",
    "    # copying needed stats\n",
    "    df = temp_df[['FullName', x, y, size_stat, color_stat]].copy()\n",
    "    # removing players that have 0 in both stats\n",
    "    df = df[(df == 0).sum(1) < 2]\n",
    "    df = df.fillna(0)\n",
    "\n",
    "    color_map = colour_dict if color_stat == 'Position' else {}\n",
    "    if color_stat == 'Academy':\n",
    "        color_map = {True: 'green', False: 'red'}\n",
    "    \n",
    "    fig = px.scatter(\n",
    "        df, \n",
    "        x=x, \n",
    "        y=y, \n",
    "        color=color_stat, \n",
    "        color_discrete_map=color_map,\n",
    "        size=size_stat, \n",
    "        hover_data=['FullName'], \n",
    "        labels={\n",
    "            x: stats_conv(x),\n",
    "            y: stats_conv(y),\n",
    "            size_stat: stats_conv(size_stat),\n",
    "            'FullName': 'Name'\n",
    "        },\n",
    "        text='FullName',\n",
    "        trendline='ols' if trendline else None,\n",
    "        trendline_scope='overall'\n",
    "    )\n",
    "\n",
    "    annotation_size = f'Size of data point - {stats_conv(size_stat)}'\n",
    "\n",
    "    fig.update_traces(textposition='top center')\n",
    "    if fixed_ratio:\n",
    "        fig.update_xaxes(dtick=0.5, tick0=0, ticklabelstep=2, zeroline=True, zerolinewidth=2, zerolinecolor='Black', scaleanchor='y', scaleratio=1)\n",
    "        fig.update_yaxes(dtick=0.5, tick0=0, ticklabelstep=2, zeroline=True, zerolinewidth=2, zerolinecolor='Black', scaleanchor='x', scaleratio=1)\n",
    "    fig.add_annotation(\n",
    "        x=1,\n",
    "        y=-0.1,\n",
    "        text=annotation_size,\n",
    "        showarrow=False,\n",
    "        xref='paper',\n",
    "        yref='paper',\n",
    "        xanchor='right',\n",
    "        yanchor='auto',\n",
    "        xshift=0,\n",
    "        yshift=0\n",
    "    )\n",
    "    fig.update_layout(\n",
    "        width=width, \n",
    "        height=height,\n",
    "        title=f'{stats_conv(x)} vs {stats_conv(y)}',\n",
    "    )\n",
    "\n",
    "    fig.show()"
   ]
  },
  {
   "attachments": {},
   "cell_type": "markdown",
   "metadata": {},
   "source": [
    "### Diverging bar plot\n",
    "Here I create the function to plot a diverging bar chart of any statistic"
   ]
  },
  {
   "cell_type": "code",
   "execution_count": 6,
   "metadata": {},
   "outputs": [],
   "source": [
    "def diverging_bars(stat: str, xmin=1.0) -> None:\n",
    "    \"\"\"Plots a diverging bar plot of a given statistic, with a default of 1 for the minimum x value\"\"\"\n",
    "    \n",
    "    # ignoring warnings\n",
    "    pd.options.mode.chained_assignment = None\n",
    "    \n",
    "    # creating and sorting dataframe of needed statistics\n",
    "    df = players_df[players_df[stat] != 0]\n",
    "    df.sort_values(stat, inplace=True)\n",
    "    df.reset_index(inplace=True)\n",
    "\n",
    "    # plotting the bars\n",
    "    legend_lines = []\n",
    "    for position, colour in colour_dict.items():\n",
    "        line = Line2D([0], [0], color=colour, lw=4, label=position)\n",
    "        legend_lines.append(line)\n",
    "    \n",
    "    # customising the layout of the graph\n",
    "    plt.figure(figsize=(14, 10), dpi=80)\n",
    "    plt.hlines(y=df.index, xmin=xmin, xmax=df[stat], color=df.Color, alpha=0.8, linewidth=5)\n",
    "    plt.gca().set(ylabel='Player', xlabel=stats_conv(stat))\n",
    "    plt.yticks(df.index, df.FullName, fontsize=12)\n",
    "    plt.title(stats_conv(stat), fontdict={'size': 20})\n",
    "    plt.grid(linestyle='--', alpha=0.5)\n",
    "\n",
    "    plt.legend(handles=legend_lines, loc='lower right')\n",
    "    plt.show()"
   ]
  },
  {
   "attachments": {},
   "cell_type": "markdown",
   "metadata": {},
   "source": [
    "### Grouped bar plot\n",
    "Here I create the function to plot a grouped bar chart of any two statistics"
   ]
  },
  {
   "cell_type": "code",
   "execution_count": 7,
   "metadata": {},
   "outputs": [],
   "source": [
    "def grouped_bar(stat1, stat2, height=600, width=1600) -> None:\n",
    "    \"\"\"Plots a grouped bar plot of two given statistics\"\"\"\n",
    "    \n",
    "    # creating and sorting dataframe of needed statistics\n",
    "    temp_df = players_df\n",
    "    temp_df = temp_df[~temp_df.Position.str.contains('GK')]\n",
    "    df = temp_df[['FullName', stat1, stat2]].copy()\n",
    "    df = df[df[stat2] != 0]\n",
    "    df = df.fillna(0)\n",
    "    df.sort_values(stat1, inplace=True)\n",
    "    # adding line breaks between each part of every player's name\n",
    "    df = df.replace({r'\\s+$': '', r'^\\s+': ''}, regex=True).replace(' ',  '<br>', regex=True)\n",
    "    \n",
    "    fig = go.Figure(data=[\n",
    "        go.Bar(\n",
    "        name=stat1,\n",
    "        x=df['FullName'],\n",
    "        y=df[stat1],\n",
    "        text=df[stat1]\n",
    "    ),\n",
    "    go.Bar(\n",
    "        name=stat2,\n",
    "        x=df['FullName'],\n",
    "        y=df[stat2],\n",
    "        text=df[stat2]\n",
    "    )\n",
    "    ])\n",
    "    fig.update_layout(\n",
    "        barmode='group', \n",
    "        xaxis={'categoryorder': 'min descending'},\n",
    "        bargap=0.15,\n",
    "        bargroupgap=0.1,\n",
    "        height=height,\n",
    "        width=width,\n",
    "        title=f'{stats_conv(stat1)} vs {stats_conv(stat2)}',\n",
    "        xaxis_title='Players',\n",
    "        yaxis_title=f'{stats_conv(stat1)} & {stats_conv(stat2)}'\n",
    "    )\n",
    "    fig.update_traces(\n",
    "        textposition='outside',\n",
    "        textfont_size=10,\n",
    "        cliponaxis=False\n",
    "    )\n",
    "\n",
    "    fig.show()"
   ]
  },
  {
   "attachments": {},
   "cell_type": "markdown",
   "metadata": {},
   "source": [
    "### Pie Chart\n",
    "Here I create the function to plot a pie chart of any statistic, with the option to pull out any of the data"
   ]
  },
  {
   "cell_type": "code",
   "execution_count": 8,
   "metadata": {},
   "outputs": [],
   "source": [
    "def pie_chart(stat: str, pull_out=None, pull_distance=0.15, show_percent=True, use_position_colors=True) -> None:\n",
    "    \"\"\"Plots a pie chart of a given statistic, with the option to pull out any of the data\"\"\"\n",
    "    \n",
    "    # creating and sorting dataframe of needed statistics\n",
    "    temp_df = players_df[players_df[stat] != 0]\n",
    "    df = temp_df[['FullName', stat, 'Position', 'MinutesPlayed', 'Color']].copy()\n",
    "    df.sort_values(stat, inplace=True, ascending=False)\n",
    "    labels = df['FullName']\n",
    "    values = df[stat]\n",
    "    df['Position'] = 'Position - ' + df['Position'].astype(str)\n",
    "    df['MinutesPlayed'] = 'Minutes played - ' + df['MinutesPlayed'].astype(str)\n",
    "    df['Label'] = df['Position'] + '<br>' + df['MinutesPlayed']\n",
    "    pull = labels.tolist()\n",
    "\n",
    "    # choosing data points to pull out\n",
    "    if type(pull_out) == list:\n",
    "        for pullo in pull_out:\n",
    "            if pullo in pull:\n",
    "                for i in range(len(pull)):\n",
    "                    if pull[i] == pullo:\n",
    "                        pull[i] = pull_distance\n",
    "\n",
    "            elif type(pullo) == int:\n",
    "                for i in range(len(pull)):\n",
    "                    if i == (pullo - 1):\n",
    "                        pull[i] = pull_distance\n",
    "\n",
    "        for i in range(len(pull)):\n",
    "            if pull[i] != pull_distance:\n",
    "                pull[i] = 0\n",
    "    else:\n",
    "        for i in range(len(pull)):\n",
    "            pull[i] = pull_distance if pull[i] == pull_out else 0\n",
    "\n",
    "        if type(pull_out) == int:\n",
    "            pull[i] == pull_distance if (i - 1) == pull_out else 0\n",
    "\n",
    "    textinfo = 'label + percent' if show_percent else 'label'\n",
    "\n",
    "    colors = df['Color'] if use_position_colors else []\n",
    "    \n",
    "    fig = go.Figure(data=[go.Pie(\n",
    "        labels=labels,\n",
    "        values=values,\n",
    "        pull=pull,\n",
    "        textinfo=textinfo,\n",
    "        hovertext=df['Label'],\n",
    "        marker={\n",
    "            'colors': colors,\n",
    "            'line': {'width': 2}\n",
    "        }\n",
    "    )])\n",
    "\n",
    "    fig.update_layout(\n",
    "        height=800,\n",
    "        width=800,\n",
    "    )\n",
    "\n",
    "    fig.show()"
   ]
  },
  {
   "cell_type": "code",
   "execution_count": 9,
   "metadata": {},
   "outputs": [
    {
     "data": {
      "application/vnd.plotly.v1+json": {
       "config": {
        "plotlyServerURL": "https://plot.ly"
       },
       "data": [
        {
         "hovertext": [
          "Position - ST<br>Minutes played - 1237",
          "Position - ST<br>Minutes played - 744",
          "Position - CM<br>Minutes played - 1135",
          "Position - CM<br>Minutes played - 930",
          "Position - ST<br>Minutes played - 279",
          "Position - CM<br>Minutes played - 582",
          "Position - RW<br>Minutes played - 1009",
          "Position - RW<br>Minutes played - 904",
          "Position - CM<br>Minutes played - 1191",
          "Position - LW<br>Minutes played - 776",
          "Position - LW<br>Minutes played - 857"
         ],
         "labels": [
          "Victor Osimhen",
          "Karim Adeyemi",
          "Pedri",
          "Pablo Gavi",
          "Muhamed Zukic",
          "Luciano Couto",
          "Ansu Fati",
          "Ferran Torres",
          "Frenkie de Jong",
          "Felix Davey",
          "Noni Madueke"
         ],
         "marker": {
          "colors": [
           "green",
           "green",
           "yellow",
           "yellow",
           "green",
           "yellow",
           "limegreen",
           "limegreen",
           "yellow",
           "greenyellow",
           "greenyellow"
          ],
          "line": {
           "width": 2
          }
         },
         "pull": [
          0,
          0,
          0,
          0,
          0,
          0,
          0,
          0,
          0,
          0,
          0
         ],
         "textinfo": "label+percent",
         "type": "pie",
         "values": [
          25,
          16,
          8,
          7,
          7,
          6,
          5,
          5,
          4,
          2,
          2
         ]
        }
       ],
       "layout": {
        "height": 800,
        "template": {
         "data": {
          "bar": [
           {
            "error_x": {
             "color": "#2a3f5f"
            },
            "error_y": {
             "color": "#2a3f5f"
            },
            "marker": {
             "line": {
              "color": "#E5ECF6",
              "width": 0.5
             },
             "pattern": {
              "fillmode": "overlay",
              "size": 10,
              "solidity": 0.2
             }
            },
            "type": "bar"
           }
          ],
          "barpolar": [
           {
            "marker": {
             "line": {
              "color": "#E5ECF6",
              "width": 0.5
             },
             "pattern": {
              "fillmode": "overlay",
              "size": 10,
              "solidity": 0.2
             }
            },
            "type": "barpolar"
           }
          ],
          "carpet": [
           {
            "aaxis": {
             "endlinecolor": "#2a3f5f",
             "gridcolor": "white",
             "linecolor": "white",
             "minorgridcolor": "white",
             "startlinecolor": "#2a3f5f"
            },
            "baxis": {
             "endlinecolor": "#2a3f5f",
             "gridcolor": "white",
             "linecolor": "white",
             "minorgridcolor": "white",
             "startlinecolor": "#2a3f5f"
            },
            "type": "carpet"
           }
          ],
          "choropleth": [
           {
            "colorbar": {
             "outlinewidth": 0,
             "ticks": ""
            },
            "type": "choropleth"
           }
          ],
          "contour": [
           {
            "colorbar": {
             "outlinewidth": 0,
             "ticks": ""
            },
            "colorscale": [
             [
              0,
              "#0d0887"
             ],
             [
              0.1111111111111111,
              "#46039f"
             ],
             [
              0.2222222222222222,
              "#7201a8"
             ],
             [
              0.3333333333333333,
              "#9c179e"
             ],
             [
              0.4444444444444444,
              "#bd3786"
             ],
             [
              0.5555555555555556,
              "#d8576b"
             ],
             [
              0.6666666666666666,
              "#ed7953"
             ],
             [
              0.7777777777777778,
              "#fb9f3a"
             ],
             [
              0.8888888888888888,
              "#fdca26"
             ],
             [
              1,
              "#f0f921"
             ]
            ],
            "type": "contour"
           }
          ],
          "contourcarpet": [
           {
            "colorbar": {
             "outlinewidth": 0,
             "ticks": ""
            },
            "type": "contourcarpet"
           }
          ],
          "heatmap": [
           {
            "colorbar": {
             "outlinewidth": 0,
             "ticks": ""
            },
            "colorscale": [
             [
              0,
              "#0d0887"
             ],
             [
              0.1111111111111111,
              "#46039f"
             ],
             [
              0.2222222222222222,
              "#7201a8"
             ],
             [
              0.3333333333333333,
              "#9c179e"
             ],
             [
              0.4444444444444444,
              "#bd3786"
             ],
             [
              0.5555555555555556,
              "#d8576b"
             ],
             [
              0.6666666666666666,
              "#ed7953"
             ],
             [
              0.7777777777777778,
              "#fb9f3a"
             ],
             [
              0.8888888888888888,
              "#fdca26"
             ],
             [
              1,
              "#f0f921"
             ]
            ],
            "type": "heatmap"
           }
          ],
          "heatmapgl": [
           {
            "colorbar": {
             "outlinewidth": 0,
             "ticks": ""
            },
            "colorscale": [
             [
              0,
              "#0d0887"
             ],
             [
              0.1111111111111111,
              "#46039f"
             ],
             [
              0.2222222222222222,
              "#7201a8"
             ],
             [
              0.3333333333333333,
              "#9c179e"
             ],
             [
              0.4444444444444444,
              "#bd3786"
             ],
             [
              0.5555555555555556,
              "#d8576b"
             ],
             [
              0.6666666666666666,
              "#ed7953"
             ],
             [
              0.7777777777777778,
              "#fb9f3a"
             ],
             [
              0.8888888888888888,
              "#fdca26"
             ],
             [
              1,
              "#f0f921"
             ]
            ],
            "type": "heatmapgl"
           }
          ],
          "histogram": [
           {
            "marker": {
             "pattern": {
              "fillmode": "overlay",
              "size": 10,
              "solidity": 0.2
             }
            },
            "type": "histogram"
           }
          ],
          "histogram2d": [
           {
            "colorbar": {
             "outlinewidth": 0,
             "ticks": ""
            },
            "colorscale": [
             [
              0,
              "#0d0887"
             ],
             [
              0.1111111111111111,
              "#46039f"
             ],
             [
              0.2222222222222222,
              "#7201a8"
             ],
             [
              0.3333333333333333,
              "#9c179e"
             ],
             [
              0.4444444444444444,
              "#bd3786"
             ],
             [
              0.5555555555555556,
              "#d8576b"
             ],
             [
              0.6666666666666666,
              "#ed7953"
             ],
             [
              0.7777777777777778,
              "#fb9f3a"
             ],
             [
              0.8888888888888888,
              "#fdca26"
             ],
             [
              1,
              "#f0f921"
             ]
            ],
            "type": "histogram2d"
           }
          ],
          "histogram2dcontour": [
           {
            "colorbar": {
             "outlinewidth": 0,
             "ticks": ""
            },
            "colorscale": [
             [
              0,
              "#0d0887"
             ],
             [
              0.1111111111111111,
              "#46039f"
             ],
             [
              0.2222222222222222,
              "#7201a8"
             ],
             [
              0.3333333333333333,
              "#9c179e"
             ],
             [
              0.4444444444444444,
              "#bd3786"
             ],
             [
              0.5555555555555556,
              "#d8576b"
             ],
             [
              0.6666666666666666,
              "#ed7953"
             ],
             [
              0.7777777777777778,
              "#fb9f3a"
             ],
             [
              0.8888888888888888,
              "#fdca26"
             ],
             [
              1,
              "#f0f921"
             ]
            ],
            "type": "histogram2dcontour"
           }
          ],
          "mesh3d": [
           {
            "colorbar": {
             "outlinewidth": 0,
             "ticks": ""
            },
            "type": "mesh3d"
           }
          ],
          "parcoords": [
           {
            "line": {
             "colorbar": {
              "outlinewidth": 0,
              "ticks": ""
             }
            },
            "type": "parcoords"
           }
          ],
          "pie": [
           {
            "automargin": true,
            "type": "pie"
           }
          ],
          "scatter": [
           {
            "fillpattern": {
             "fillmode": "overlay",
             "size": 10,
             "solidity": 0.2
            },
            "type": "scatter"
           }
          ],
          "scatter3d": [
           {
            "line": {
             "colorbar": {
              "outlinewidth": 0,
              "ticks": ""
             }
            },
            "marker": {
             "colorbar": {
              "outlinewidth": 0,
              "ticks": ""
             }
            },
            "type": "scatter3d"
           }
          ],
          "scattercarpet": [
           {
            "marker": {
             "colorbar": {
              "outlinewidth": 0,
              "ticks": ""
             }
            },
            "type": "scattercarpet"
           }
          ],
          "scattergeo": [
           {
            "marker": {
             "colorbar": {
              "outlinewidth": 0,
              "ticks": ""
             }
            },
            "type": "scattergeo"
           }
          ],
          "scattergl": [
           {
            "marker": {
             "colorbar": {
              "outlinewidth": 0,
              "ticks": ""
             }
            },
            "type": "scattergl"
           }
          ],
          "scattermapbox": [
           {
            "marker": {
             "colorbar": {
              "outlinewidth": 0,
              "ticks": ""
             }
            },
            "type": "scattermapbox"
           }
          ],
          "scatterpolar": [
           {
            "marker": {
             "colorbar": {
              "outlinewidth": 0,
              "ticks": ""
             }
            },
            "type": "scatterpolar"
           }
          ],
          "scatterpolargl": [
           {
            "marker": {
             "colorbar": {
              "outlinewidth": 0,
              "ticks": ""
             }
            },
            "type": "scatterpolargl"
           }
          ],
          "scatterternary": [
           {
            "marker": {
             "colorbar": {
              "outlinewidth": 0,
              "ticks": ""
             }
            },
            "type": "scatterternary"
           }
          ],
          "surface": [
           {
            "colorbar": {
             "outlinewidth": 0,
             "ticks": ""
            },
            "colorscale": [
             [
              0,
              "#0d0887"
             ],
             [
              0.1111111111111111,
              "#46039f"
             ],
             [
              0.2222222222222222,
              "#7201a8"
             ],
             [
              0.3333333333333333,
              "#9c179e"
             ],
             [
              0.4444444444444444,
              "#bd3786"
             ],
             [
              0.5555555555555556,
              "#d8576b"
             ],
             [
              0.6666666666666666,
              "#ed7953"
             ],
             [
              0.7777777777777778,
              "#fb9f3a"
             ],
             [
              0.8888888888888888,
              "#fdca26"
             ],
             [
              1,
              "#f0f921"
             ]
            ],
            "type": "surface"
           }
          ],
          "table": [
           {
            "cells": {
             "fill": {
              "color": "#EBF0F8"
             },
             "line": {
              "color": "white"
             }
            },
            "header": {
             "fill": {
              "color": "#C8D4E3"
             },
             "line": {
              "color": "white"
             }
            },
            "type": "table"
           }
          ]
         },
         "layout": {
          "annotationdefaults": {
           "arrowcolor": "#2a3f5f",
           "arrowhead": 0,
           "arrowwidth": 1
          },
          "autotypenumbers": "strict",
          "coloraxis": {
           "colorbar": {
            "outlinewidth": 0,
            "ticks": ""
           }
          },
          "colorscale": {
           "diverging": [
            [
             0,
             "#8e0152"
            ],
            [
             0.1,
             "#c51b7d"
            ],
            [
             0.2,
             "#de77ae"
            ],
            [
             0.3,
             "#f1b6da"
            ],
            [
             0.4,
             "#fde0ef"
            ],
            [
             0.5,
             "#f7f7f7"
            ],
            [
             0.6,
             "#e6f5d0"
            ],
            [
             0.7,
             "#b8e186"
            ],
            [
             0.8,
             "#7fbc41"
            ],
            [
             0.9,
             "#4d9221"
            ],
            [
             1,
             "#276419"
            ]
           ],
           "sequential": [
            [
             0,
             "#0d0887"
            ],
            [
             0.1111111111111111,
             "#46039f"
            ],
            [
             0.2222222222222222,
             "#7201a8"
            ],
            [
             0.3333333333333333,
             "#9c179e"
            ],
            [
             0.4444444444444444,
             "#bd3786"
            ],
            [
             0.5555555555555556,
             "#d8576b"
            ],
            [
             0.6666666666666666,
             "#ed7953"
            ],
            [
             0.7777777777777778,
             "#fb9f3a"
            ],
            [
             0.8888888888888888,
             "#fdca26"
            ],
            [
             1,
             "#f0f921"
            ]
           ],
           "sequentialminus": [
            [
             0,
             "#0d0887"
            ],
            [
             0.1111111111111111,
             "#46039f"
            ],
            [
             0.2222222222222222,
             "#7201a8"
            ],
            [
             0.3333333333333333,
             "#9c179e"
            ],
            [
             0.4444444444444444,
             "#bd3786"
            ],
            [
             0.5555555555555556,
             "#d8576b"
            ],
            [
             0.6666666666666666,
             "#ed7953"
            ],
            [
             0.7777777777777778,
             "#fb9f3a"
            ],
            [
             0.8888888888888888,
             "#fdca26"
            ],
            [
             1,
             "#f0f921"
            ]
           ]
          },
          "colorway": [
           "#636efa",
           "#EF553B",
           "#00cc96",
           "#ab63fa",
           "#FFA15A",
           "#19d3f3",
           "#FF6692",
           "#B6E880",
           "#FF97FF",
           "#FECB52"
          ],
          "font": {
           "color": "#2a3f5f"
          },
          "geo": {
           "bgcolor": "white",
           "lakecolor": "white",
           "landcolor": "#E5ECF6",
           "showlakes": true,
           "showland": true,
           "subunitcolor": "white"
          },
          "hoverlabel": {
           "align": "left"
          },
          "hovermode": "closest",
          "mapbox": {
           "style": "light"
          },
          "paper_bgcolor": "white",
          "plot_bgcolor": "#E5ECF6",
          "polar": {
           "angularaxis": {
            "gridcolor": "white",
            "linecolor": "white",
            "ticks": ""
           },
           "bgcolor": "#E5ECF6",
           "radialaxis": {
            "gridcolor": "white",
            "linecolor": "white",
            "ticks": ""
           }
          },
          "scene": {
           "xaxis": {
            "backgroundcolor": "#E5ECF6",
            "gridcolor": "white",
            "gridwidth": 2,
            "linecolor": "white",
            "showbackground": true,
            "ticks": "",
            "zerolinecolor": "white"
           },
           "yaxis": {
            "backgroundcolor": "#E5ECF6",
            "gridcolor": "white",
            "gridwidth": 2,
            "linecolor": "white",
            "showbackground": true,
            "ticks": "",
            "zerolinecolor": "white"
           },
           "zaxis": {
            "backgroundcolor": "#E5ECF6",
            "gridcolor": "white",
            "gridwidth": 2,
            "linecolor": "white",
            "showbackground": true,
            "ticks": "",
            "zerolinecolor": "white"
           }
          },
          "shapedefaults": {
           "line": {
            "color": "#2a3f5f"
           }
          },
          "ternary": {
           "aaxis": {
            "gridcolor": "white",
            "linecolor": "white",
            "ticks": ""
           },
           "baxis": {
            "gridcolor": "white",
            "linecolor": "white",
            "ticks": ""
           },
           "bgcolor": "#E5ECF6",
           "caxis": {
            "gridcolor": "white",
            "linecolor": "white",
            "ticks": ""
           }
          },
          "title": {
           "x": 0.05
          },
          "xaxis": {
           "automargin": true,
           "gridcolor": "white",
           "linecolor": "white",
           "ticks": "",
           "title": {
            "standoff": 15
           },
           "zerolinecolor": "white",
           "zerolinewidth": 2
          },
          "yaxis": {
           "automargin": true,
           "gridcolor": "white",
           "linecolor": "white",
           "ticks": "",
           "title": {
            "standoff": 15
           },
           "zerolinecolor": "white",
           "zerolinewidth": 2
          }
         }
        },
        "width": 800
       }
      }
     },
     "metadata": {},
     "output_type": "display_data"
    }
   ],
   "source": [
    "pie_chart('Goals')"
   ]
  },
  {
   "cell_type": "code",
   "execution_count": 10,
   "metadata": {},
   "outputs": [
    {
     "data": {
      "image/png": "[encoded data removed]",
      "image/svg+xml": "<?xml version=\"1.0\" encoding=\"utf-8\" standalone=\"no\"?>\n<!DOCTYPE svg PUBLIC \"-//W3C//DTD SVG 1.1//EN\"\n  \"http://www.w3.org/Graphics/SVG/1.1/DTD/svg11.dtd\">\n<svg xmlns:xlink=\"http://www.w3.org/1999/xlink\" width=\"941.41375pt\" height=\"620.353125pt\" viewBox=\"0 0 941.41375 620.353125\" xmlns=\"http://www.w3.org/2000/svg\" version=\"1.1\">\n <metadata>\n  <rdf:RDF xmlns:dc=\"http://purl.org/dc/elements/1.1/\" xmlns:cc=\"http://creativecommons.org/ns#\" xmlns:rdf=\"http://www.w3.org/1999/02/22-rdf-syntax-ns#\">\n   <cc:Work>\n    <dc:type rdf:resource=\"http://purl.org/dc/dcmitype/StillImage\"/>\n    <dc:date>2022-11-15T17:58:24.413681</dc:date>\n    <dc:format>image/svg+xml</dc:format>\n    <dc:creator>\n     <cc:Agent>\n      <dc:title>Matplotlib v3.5.1, https://matplotlib.org/</dc:title>\n     </cc:Agent>\n    </dc:creator>\n   </cc:Work>\n  </rdf:RDF>\n </metadata>\n <defs>\n  <style type=\"text/css\">*{stroke-linejoin: round; stroke-linecap: butt}</style>\n </defs>\n <g id=\"figure_1\">\n  <g id=\"patch_1\">\n   <path d=\"M -0 620.353125 \nL 941.41375 620.353125 \nL 941.41375 0 \nL -0 0 \nz\n\"/>\n  </g>\n  <g id=\"axes_1\">\n   <g id=\"patch_2\">\n    <path d=\"M 153.01375 582.796875 \nL 934.21375 582.796875 \nL 934.21375 28.396875 \nL 153.01375 28.396875 \nz\n\"/>\n   </g>\n   <g id=\"matplotlib.axis_1\">\n    <g id=\"xtick_1\">\n     <g id=\"line2d_1\">\n      <path d=\"M 182.841386 582.796875 \nL 182.841386 28.396875 \n\" clip-path=\"url(#p46a55b0509)\" style=\"fill: none; stroke-dasharray: 2.96,1.28; stroke-dashoffset: 0; stroke: #ffffff; stroke-opacity: 0.5; stroke-width: 0.8\"/>\n     </g>\n     <g id=\"line2d_2\">\n      <defs>\n       <path id=\"m65381bdeba\" d=\"M 0 0 \nL 0 3.5 \n\" style=\"stroke: #ffffff; stroke-width: 0.8\"/>\n      </defs>\n      <g>\n       <use xlink:href=\"#m65381bdeba\" x=\"182.841386\" y=\"582.796875\" style=\"fill: #ffffff; stroke: #ffffff; stroke-width: 0.8\"/>\n      </g>\n     </g>\n     <g id=\"text_1\">\n      <!-- 0.0 -->\n      <g style=\"fill: #ffffff\" transform=\"translate(174.889824 597.395313)scale(0.1 -0.1)\">\n       <defs>\n        <path id=\"DejaVuSans-30\" d=\"M 2034 4250 \nQ 1547 4250 1301 3770 \nQ 1056 3291 1056 2328 \nQ 1056 1369 1301 889 \nQ 1547 409 2034 409 \nQ 2525 409 2770 889 \nQ 3016 1369 3016 2328 \nQ 3016 3291 2770 3770 \nQ 2525 4250 2034 4250 \nz\nM 2034 4750 \nQ 2819 4750 3233 4129 \nQ 3647 3509 3647 2328 \nQ 3647 1150 3233 529 \nQ 2819 -91 2034 -91 \nQ 1250 -91 836 529 \nQ 422 1150 422 2328 \nQ 422 3509 836 4129 \nQ 1250 4750 2034 4750 \nz\n\" transform=\"scale(0.015625)\"/>\n        <path id=\"DejaVuSans-2e\" d=\"M 684 794 \nL 1344 794 \nL 1344 0 \nL 684 0 \nL 684 794 \nz\n\" transform=\"scale(0.015625)\"/>\n       </defs>\n       <use xlink:href=\"#DejaVuSans-30\"/>\n       <use xlink:href=\"#DejaVuSans-2e\" x=\"63.623047\"/>\n       <use xlink:href=\"#DejaVuSans-30\" x=\"95.410156\"/>\n      </g>\n     </g>\n    </g>\n    <g id=\"xtick_2\">\n     <g id=\"line2d_3\">\n      <path d=\"M 324.87775 582.796875 \nL 324.87775 28.396875 \n\" clip-path=\"url(#p46a55b0509)\" style=\"fill: none; stroke-dasharray: 2.96,1.28; stroke-dashoffset: 0; stroke: #ffffff; stroke-opacity: 0.5; stroke-width: 0.8\"/>\n     </g>\n     <g id=\"line2d_4\">\n      <g>\n       <use xlink:href=\"#m65381bdeba\" x=\"324.87775\" y=\"582.796875\" style=\"fill: #ffffff; stroke: #ffffff; stroke-width: 0.8\"/>\n      </g>\n     </g>\n     <g id=\"text_2\">\n      <!-- 0.5 -->\n      <g style=\"fill: #ffffff\" transform=\"translate(316.926188 597.395313)scale(0.1 -0.1)\">\n       <defs>\n        <path id=\"DejaVuSans-35\" d=\"M 691 4666 \nL 3169 4666 \nL 3169 4134 \nL 1269 4134 \nL 1269 2991 \nQ 1406 3038 1543 3061 \nQ 1681 3084 1819 3084 \nQ 2600 3084 3056 2656 \nQ 3513 2228 3513 1497 \nQ 3513 744 3044 326 \nQ 2575 -91 1722 -91 \nQ 1428 -91 1123 -41 \nQ 819 9 494 109 \nL 494 744 \nQ 775 591 1075 516 \nQ 1375 441 1709 441 \nQ 2250 441 2565 725 \nQ 2881 1009 2881 1497 \nQ 2881 1984 2565 2268 \nQ 2250 2553 1709 2553 \nQ 1456 2553 1204 2497 \nQ 953 2441 691 2322 \nL 691 4666 \nz\n\" transform=\"scale(0.015625)\"/>\n       </defs>\n       <use xlink:href=\"#DejaVuSans-30\"/>\n       <use xlink:href=\"#DejaVuSans-2e\" x=\"63.623047\"/>\n       <use xlink:href=\"#DejaVuSans-35\" x=\"95.410156\"/>\n      </g>\n     </g>\n    </g>\n    <g id=\"xtick_3\">\n     <g id=\"line2d_5\">\n      <path d=\"M 466.914114 582.796875 \nL 466.914114 28.396875 \n\" clip-path=\"url(#p46a55b0509)\" style=\"fill: none; stroke-dasharray: 2.96,1.28; stroke-dashoffset: 0; stroke: #ffffff; stroke-opacity: 0.5; stroke-width: 0.8\"/>\n     </g>\n     <g id=\"line2d_6\">\n      <g>\n       <use xlink:href=\"#m65381bdeba\" x=\"466.914114\" y=\"582.796875\" style=\"fill: #ffffff; stroke: #ffffff; stroke-width: 0.8\"/>\n      </g>\n     </g>\n     <g id=\"text_3\">\n      <!-- 1.0 -->\n      <g style=\"fill: #ffffff\" transform=\"translate(458.962551 597.395313)scale(0.1 -0.1)\">\n       <defs>\n        <path id=\"DejaVuSans-31\" d=\"M 794 531 \nL 1825 531 \nL 1825 4091 \nL 703 3866 \nL 703 4441 \nL 1819 4666 \nL 2450 4666 \nL 2450 531 \nL 3481 531 \nL 3481 0 \nL 794 0 \nL 794 531 \nz\n\" transform=\"scale(0.015625)\"/>\n       </defs>\n       <use xlink:href=\"#DejaVuSans-31\"/>\n       <use xlink:href=\"#DejaVuSans-2e\" x=\"63.623047\"/>\n       <use xlink:href=\"#DejaVuSans-30\" x=\"95.410156\"/>\n      </g>\n     </g>\n    </g>\n    <g id=\"xtick_4\">\n     <g id=\"line2d_7\">\n      <path d=\"M 608.950477 582.796875 \nL 608.950477 28.396875 \n\" clip-path=\"url(#p46a55b0509)\" style=\"fill: none; stroke-dasharray: 2.96,1.28; stroke-dashoffset: 0; stroke: #ffffff; stroke-opacity: 0.5; stroke-width: 0.8\"/>\n     </g>\n     <g id=\"line2d_8\">\n      <g>\n       <use xlink:href=\"#m65381bdeba\" x=\"608.950477\" y=\"582.796875\" style=\"fill: #ffffff; stroke: #ffffff; stroke-width: 0.8\"/>\n      </g>\n     </g>\n     <g id=\"text_4\">\n      <!-- 1.5 -->\n      <g style=\"fill: #ffffff\" transform=\"translate(600.998915 597.395313)scale(0.1 -0.1)\">\n       <use xlink:href=\"#DejaVuSans-31\"/>\n       <use xlink:href=\"#DejaVuSans-2e\" x=\"63.623047\"/>\n       <use xlink:href=\"#DejaVuSans-35\" x=\"95.410156\"/>\n      </g>\n     </g>\n    </g>\n    <g id=\"xtick_5\">\n     <g id=\"line2d_9\">\n      <path d=\"M 750.986841 582.796875 \nL 750.986841 28.396875 \n\" clip-path=\"url(#p46a55b0509)\" style=\"fill: none; stroke-dasharray: 2.96,1.28; stroke-dashoffset: 0; stroke: #ffffff; stroke-opacity: 0.5; stroke-width: 0.8\"/>\n     </g>\n     <g id=\"line2d_10\">\n      <g>\n       <use xlink:href=\"#m65381bdeba\" x=\"750.986841\" y=\"582.796875\" style=\"fill: #ffffff; stroke: #ffffff; stroke-width: 0.8\"/>\n      </g>\n     </g>\n     <g id=\"text_5\">\n      <!-- 2.0 -->\n      <g style=\"fill: #ffffff\" transform=\"translate(743.035278 597.395313)scale(0.1 -0.1)\">\n       <defs>\n        <path id=\"DejaVuSans-32\" d=\"M 1228 531 \nL 3431 531 \nL 3431 0 \nL 469 0 \nL 469 531 \nQ 828 903 1448 1529 \nQ 2069 2156 2228 2338 \nQ 2531 2678 2651 2914 \nQ 2772 3150 2772 3378 \nQ 2772 3750 2511 3984 \nQ 2250 4219 1831 4219 \nQ 1534 4219 1204 4116 \nQ 875 4013 500 3803 \nL 500 4441 \nQ 881 4594 1212 4672 \nQ 1544 4750 1819 4750 \nQ 2544 4750 2975 4387 \nQ 3406 4025 3406 3419 \nQ 3406 3131 3298 2873 \nQ 3191 2616 2906 2266 \nQ 2828 2175 2409 1742 \nQ 1991 1309 1228 531 \nz\n\" transform=\"scale(0.015625)\"/>\n       </defs>\n       <use xlink:href=\"#DejaVuSans-32\"/>\n       <use xlink:href=\"#DejaVuSans-2e\" x=\"63.623047\"/>\n       <use xlink:href=\"#DejaVuSans-30\" x=\"95.410156\"/>\n      </g>\n     </g>\n    </g>\n    <g id=\"xtick_6\">\n     <g id=\"line2d_11\">\n      <path d=\"M 893.023205 582.796875 \nL 893.023205 28.396875 \n\" clip-path=\"url(#p46a55b0509)\" style=\"fill: none; stroke-dasharray: 2.96,1.28; stroke-dashoffset: 0; stroke: #ffffff; stroke-opacity: 0.5; stroke-width: 0.8\"/>\n     </g>\n     <g id=\"line2d_12\">\n      <g>\n       <use xlink:href=\"#m65381bdeba\" x=\"893.023205\" y=\"582.796875\" style=\"fill: #ffffff; stroke: #ffffff; stroke-width: 0.8\"/>\n      </g>\n     </g>\n     <g id=\"text_6\">\n      <!-- 2.5 -->\n      <g style=\"fill: #ffffff\" transform=\"translate(885.071642 597.395313)scale(0.1 -0.1)\">\n       <use xlink:href=\"#DejaVuSans-32\"/>\n       <use xlink:href=\"#DejaVuSans-2e\" x=\"63.623047\"/>\n       <use xlink:href=\"#DejaVuSans-35\" x=\"95.410156\"/>\n      </g>\n     </g>\n    </g>\n    <g id=\"text_7\">\n     <!-- Expected assists per 90 -->\n     <g style=\"fill: #ffffff\" transform=\"translate(484.016094 611.073438)scale(0.1 -0.1)\">\n      <defs>\n       <path id=\"DejaVuSans-45\" d=\"M 628 4666 \nL 3578 4666 \nL 3578 4134 \nL 1259 4134 \nL 1259 2753 \nL 3481 2753 \nL 3481 2222 \nL 1259 2222 \nL 1259 531 \nL 3634 531 \nL 3634 0 \nL 628 0 \nL 628 4666 \nz\n\" transform=\"scale(0.015625)\"/>\n       <path id=\"DejaVuSans-78\" d=\"M 3513 3500 \nL 2247 1797 \nL 3578 0 \nL 2900 0 \nL 1881 1375 \nL 863 0 \nL 184 0 \nL 1544 1831 \nL 300 3500 \nL 978 3500 \nL 1906 2253 \nL 2834 3500 \nL 3513 3500 \nz\n\" transform=\"scale(0.015625)\"/>\n       <path id=\"DejaVuSans-70\" d=\"M 1159 525 \nL 1159 -1331 \nL 581 -1331 \nL 581 3500 \nL 1159 3500 \nL 1159 2969 \nQ 1341 3281 1617 3432 \nQ 1894 3584 2278 3584 \nQ 2916 3584 3314 3078 \nQ 3713 2572 3713 1747 \nQ 3713 922 3314 415 \nQ 2916 -91 2278 -91 \nQ 1894 -91 1617 61 \nQ 1341 213 1159 525 \nz\nM 3116 1747 \nQ 3116 2381 2855 2742 \nQ 2594 3103 2138 3103 \nQ 1681 3103 1420 2742 \nQ 1159 2381 1159 1747 \nQ 1159 1113 1420 752 \nQ 1681 391 2138 391 \nQ 2594 391 2855 752 \nQ 3116 1113 3116 1747 \nz\n\" transform=\"scale(0.015625)\"/>\n       <path id=\"DejaVuSans-65\" d=\"M 3597 1894 \nL 3597 1613 \nL 953 1613 \nQ 991 1019 1311 708 \nQ 1631 397 2203 397 \nQ 2534 397 2845 478 \nQ 3156 559 3463 722 \nL 3463 178 \nQ 3153 47 2828 -22 \nQ 2503 -91 2169 -91 \nQ 1331 -91 842 396 \nQ 353 884 353 1716 \nQ 353 2575 817 3079 \nQ 1281 3584 2069 3584 \nQ 2775 3584 3186 3129 \nQ 3597 2675 3597 1894 \nz\nM 3022 2063 \nQ 3016 2534 2758 2815 \nQ 2500 3097 2075 3097 \nQ 1594 3097 1305 2825 \nQ 1016 2553 972 2059 \nL 3022 2063 \nz\n\" transform=\"scale(0.015625)\"/>\n       <path id=\"DejaVuSans-63\" d=\"M 3122 3366 \nL 3122 2828 \nQ 2878 2963 2633 3030 \nQ 2388 3097 2138 3097 \nQ 1578 3097 1268 2742 \nQ 959 2388 959 1747 \nQ 959 1106 1268 751 \nQ 1578 397 2138 397 \nQ 2388 397 2633 464 \nQ 2878 531 3122 666 \nL 3122 134 \nQ 2881 22 2623 -34 \nQ 2366 -91 2075 -91 \nQ 1284 -91 818 406 \nQ 353 903 353 1747 \nQ 353 2603 823 3093 \nQ 1294 3584 2113 3584 \nQ 2378 3584 2631 3529 \nQ 2884 3475 3122 3366 \nz\n\" transform=\"scale(0.015625)\"/>\n       <path id=\"DejaVuSans-74\" d=\"M 1172 4494 \nL 1172 3500 \nL 2356 3500 \nL 2356 3053 \nL 1172 3053 \nL 1172 1153 \nQ 1172 725 1289 603 \nQ 1406 481 1766 481 \nL 2356 481 \nL 2356 0 \nL 1766 0 \nQ 1100 0 847 248 \nQ 594 497 594 1153 \nL 594 3053 \nL 172 3053 \nL 172 3500 \nL 594 3500 \nL 594 4494 \nL 1172 4494 \nz\n\" transform=\"scale(0.015625)\"/>\n       <path id=\"DejaVuSans-64\" d=\"M 2906 2969 \nL 2906 4863 \nL 3481 4863 \nL 3481 0 \nL 2906 0 \nL 2906 525 \nQ 2725 213 2448 61 \nQ 2172 -91 1784 -91 \nQ 1150 -91 751 415 \nQ 353 922 353 1747 \nQ 353 2572 751 3078 \nQ 1150 3584 1784 3584 \nQ 2172 3584 2448 3432 \nQ 2725 3281 2906 2969 \nz\nM 947 1747 \nQ 947 1113 1208 752 \nQ 1469 391 1925 391 \nQ 2381 391 2643 752 \nQ 2906 1113 2906 1747 \nQ 2906 2381 2643 2742 \nQ 2381 3103 1925 3103 \nQ 1469 3103 1208 2742 \nQ 947 2381 947 1747 \nz\n\" transform=\"scale(0.015625)\"/>\n       <path id=\"DejaVuSans-20\" transform=\"scale(0.015625)\"/>\n       <path id=\"DejaVuSans-61\" d=\"M 2194 1759 \nQ 1497 1759 1228 1600 \nQ 959 1441 959 1056 \nQ 959 750 1161 570 \nQ 1363 391 1709 391 \nQ 2188 391 2477 730 \nQ 2766 1069 2766 1631 \nL 2766 1759 \nL 2194 1759 \nz\nM 3341 1997 \nL 3341 0 \nL 2766 0 \nL 2766 531 \nQ 2569 213 2275 61 \nQ 1981 -91 1556 -91 \nQ 1019 -91 701 211 \nQ 384 513 384 1019 \nQ 384 1609 779 1909 \nQ 1175 2209 1959 2209 \nL 2766 2209 \nL 2766 2266 \nQ 2766 2663 2505 2880 \nQ 2244 3097 1772 3097 \nQ 1472 3097 1187 3025 \nQ 903 2953 641 2809 \nL 641 3341 \nQ 956 3463 1253 3523 \nQ 1550 3584 1831 3584 \nQ 2591 3584 2966 3190 \nQ 3341 2797 3341 1997 \nz\n\" transform=\"scale(0.015625)\"/>\n       <path id=\"DejaVuSans-73\" d=\"M 2834 3397 \nL 2834 2853 \nQ 2591 2978 2328 3040 \nQ 2066 3103 1784 3103 \nQ 1356 3103 1142 2972 \nQ 928 2841 928 2578 \nQ 928 2378 1081 2264 \nQ 1234 2150 1697 2047 \nL 1894 2003 \nQ 2506 1872 2764 1633 \nQ 3022 1394 3022 966 \nQ 3022 478 2636 193 \nQ 2250 -91 1575 -91 \nQ 1294 -91 989 -36 \nQ 684 19 347 128 \nL 347 722 \nQ 666 556 975 473 \nQ 1284 391 1588 391 \nQ 1994 391 2212 530 \nQ 2431 669 2431 922 \nQ 2431 1156 2273 1281 \nQ 2116 1406 1581 1522 \nL 1381 1569 \nQ 847 1681 609 1914 \nQ 372 2147 372 2553 \nQ 372 3047 722 3315 \nQ 1072 3584 1716 3584 \nQ 2034 3584 2315 3537 \nQ 2597 3491 2834 3397 \nz\n\" transform=\"scale(0.015625)\"/>\n       <path id=\"DejaVuSans-69\" d=\"M 603 3500 \nL 1178 3500 \nL 1178 0 \nL 603 0 \nL 603 3500 \nz\nM 603 4863 \nL 1178 4863 \nL 1178 4134 \nL 603 4134 \nL 603 4863 \nz\n\" transform=\"scale(0.015625)\"/>\n       <path id=\"DejaVuSans-72\" d=\"M 2631 2963 \nQ 2534 3019 2420 3045 \nQ 2306 3072 2169 3072 \nQ 1681 3072 1420 2755 \nQ 1159 2438 1159 1844 \nL 1159 0 \nL 581 0 \nL 581 3500 \nL 1159 3500 \nL 1159 2956 \nQ 1341 3275 1631 3429 \nQ 1922 3584 2338 3584 \nQ 2397 3584 2469 3576 \nQ 2541 3569 2628 3553 \nL 2631 2963 \nz\n\" transform=\"scale(0.015625)\"/>\n       <path id=\"DejaVuSans-39\" d=\"M 703 97 \nL 703 672 \nQ 941 559 1184 500 \nQ 1428 441 1663 441 \nQ 2288 441 2617 861 \nQ 2947 1281 2994 2138 \nQ 2813 1869 2534 1725 \nQ 2256 1581 1919 1581 \nQ 1219 1581 811 2004 \nQ 403 2428 403 3163 \nQ 403 3881 828 4315 \nQ 1253 4750 1959 4750 \nQ 2769 4750 3195 4129 \nQ 3622 3509 3622 2328 \nQ 3622 1225 3098 567 \nQ 2575 -91 1691 -91 \nQ 1453 -91 1209 -44 \nQ 966 3 703 97 \nz\nM 1959 2075 \nQ 2384 2075 2632 2365 \nQ 2881 2656 2881 3163 \nQ 2881 3666 2632 3958 \nQ 2384 4250 1959 4250 \nQ 1534 4250 1286 3958 \nQ 1038 3666 1038 3163 \nQ 1038 2656 1286 2365 \nQ 1534 2075 1959 2075 \nz\n\" transform=\"scale(0.015625)\"/>\n      </defs>\n      <use xlink:href=\"#DejaVuSans-45\"/>\n      <use xlink:href=\"#DejaVuSans-78\" x=\"63.183594\"/>\n      <use xlink:href=\"#DejaVuSans-70\" x=\"122.363281\"/>\n      <use xlink:href=\"#DejaVuSans-65\" x=\"185.839844\"/>\n      <use xlink:href=\"#DejaVuSans-63\" x=\"247.363281\"/>\n      <use xlink:href=\"#DejaVuSans-74\" x=\"302.34375\"/>\n      <use xlink:href=\"#DejaVuSans-65\" x=\"341.552734\"/>\n      <use xlink:href=\"#DejaVuSans-64\" x=\"403.076172\"/>\n      <use xlink:href=\"#DejaVuSans-20\" x=\"466.552734\"/>\n      <use xlink:href=\"#DejaVuSans-61\" x=\"498.339844\"/>\n      <use xlink:href=\"#DejaVuSans-73\" x=\"559.619141\"/>\n      <use xlink:href=\"#DejaVuSans-73\" x=\"611.71875\"/>\n      <use xlink:href=\"#DejaVuSans-69\" x=\"663.818359\"/>\n      <use xlink:href=\"#DejaVuSans-73\" x=\"691.601562\"/>\n      <use xlink:href=\"#DejaVuSans-74\" x=\"743.701172\"/>\n      <use xlink:href=\"#DejaVuSans-73\" x=\"782.910156\"/>\n      <use xlink:href=\"#DejaVuSans-20\" x=\"835.009766\"/>\n      <use xlink:href=\"#DejaVuSans-70\" x=\"866.796875\"/>\n      <use xlink:href=\"#DejaVuSans-65\" x=\"930.273438\"/>\n      <use xlink:href=\"#DejaVuSans-72\" x=\"991.796875\"/>\n      <use xlink:href=\"#DejaVuSans-20\" x=\"1032.910156\"/>\n      <use xlink:href=\"#DejaVuSans-39\" x=\"1064.697266\"/>\n      <use xlink:href=\"#DejaVuSans-30\" x=\"1128.320312\"/>\n     </g>\n    </g>\n   </g>\n   <g id=\"matplotlib.axis_2\">\n    <g id=\"ytick_1\">\n     <g id=\"line2d_13\">\n      <path d=\"M 153.01375 557.596875 \nL 934.21375 557.596875 \n\" clip-path=\"url(#p46a55b0509)\" style=\"fill: none; stroke-dasharray: 2.96,1.28; stroke-dashoffset: 0; stroke: #ffffff; stroke-opacity: 0.5; stroke-width: 0.8\"/>\n     </g>\n     <g id=\"line2d_14\">\n      <defs>\n       <path id=\"m9dac545c42\" d=\"M 0 0 \nL -3.5 0 \n\" style=\"stroke: #ffffff; stroke-width: 0.8\"/>\n      </defs>\n      <g>\n       <use xlink:href=\"#m9dac545c42\" x=\"153.01375\" y=\"557.596875\" style=\"fill: #ffffff; stroke: #ffffff; stroke-width: 0.8\"/>\n      </g>\n     </g>\n     <g id=\"text_8\">\n      <!-- Joško Gvardiol -->\n      <g style=\"fill: #ffffff\" transform=\"translate(61.104375 562.349063)scale(0.12 -0.12)\">\n       <defs>\n        <path id=\"DejaVuSans-4a\" d=\"M 628 4666 \nL 1259 4666 \nL 1259 325 \nQ 1259 -519 939 -900 \nQ 619 -1281 -91 -1281 \nL -331 -1281 \nL -331 -750 \nL -134 -750 \nQ 284 -750 456 -515 \nQ 628 -281 628 325 \nL 628 4666 \nz\n\" transform=\"scale(0.015625)\"/>\n        <path id=\"DejaVuSans-6f\" d=\"M 1959 3097 \nQ 1497 3097 1228 2736 \nQ 959 2375 959 1747 \nQ 959 1119 1226 758 \nQ 1494 397 1959 397 \nQ 2419 397 2687 759 \nQ 2956 1122 2956 1747 \nQ 2956 2369 2687 2733 \nQ 2419 3097 1959 3097 \nz\nM 1959 3584 \nQ 2709 3584 3137 3096 \nQ 3566 2609 3566 1747 \nQ 3566 888 3137 398 \nQ 2709 -91 1959 -91 \nQ 1206 -91 779 398 \nQ 353 888 353 1747 \nQ 353 2609 779 3096 \nQ 1206 3584 1959 3584 \nz\n\" transform=\"scale(0.015625)\"/>\n        <path id=\"DejaVuSans-161\" d=\"M 2834 3397 \nL 2834 2853 \nQ 2591 2978 2328 3040 \nQ 2066 3103 1784 3103 \nQ 1356 3103 1142 2972 \nQ 928 2841 928 2578 \nQ 928 2378 1081 2264 \nQ 1234 2150 1697 2047 \nL 1894 2003 \nQ 2506 1872 2764 1633 \nQ 3022 1394 3022 966 \nQ 3022 478 2636 193 \nQ 2250 -91 1575 -91 \nQ 1294 -91 989 -36 \nQ 684 19 347 128 \nL 347 722 \nQ 666 556 975 473 \nQ 1284 391 1588 391 \nQ 1994 391 2212 530 \nQ 2431 669 2431 922 \nQ 2431 1156 2273 1281 \nQ 2116 1406 1581 1522 \nL 1381 1569 \nQ 847 1681 609 1914 \nQ 372 2147 372 2553 \nQ 372 3047 722 3315 \nQ 1072 3584 1716 3584 \nQ 2034 3584 2315 3537 \nQ 2597 3491 2834 3397 \nz\nM 1501 3944 \nL 736 5119 \nL 1170 5119 \nL 1733 4353 \nL 2295 5119 \nL 2729 5119 \nL 1964 3944 \nL 1501 3944 \nz\nM 1720 3584 \nL 1720 3584 \nz\n\" transform=\"scale(0.015625)\"/>\n        <path id=\"DejaVuSans-6b\" d=\"M 581 4863 \nL 1159 4863 \nL 1159 1991 \nL 2875 3500 \nL 3609 3500 \nL 1753 1863 \nL 3688 0 \nL 2938 0 \nL 1159 1709 \nL 1159 0 \nL 581 0 \nL 581 4863 \nz\n\" transform=\"scale(0.015625)\"/>\n        <path id=\"DejaVuSans-47\" d=\"M 3809 666 \nL 3809 1919 \nL 2778 1919 \nL 2778 2438 \nL 4434 2438 \nL 4434 434 \nQ 4069 175 3628 42 \nQ 3188 -91 2688 -91 \nQ 1594 -91 976 548 \nQ 359 1188 359 2328 \nQ 359 3472 976 4111 \nQ 1594 4750 2688 4750 \nQ 3144 4750 3555 4637 \nQ 3966 4525 4313 4306 \nL 4313 3634 \nQ 3963 3931 3569 4081 \nQ 3175 4231 2741 4231 \nQ 1884 4231 1454 3753 \nQ 1025 3275 1025 2328 \nQ 1025 1384 1454 906 \nQ 1884 428 2741 428 \nQ 3075 428 3337 486 \nQ 3600 544 3809 666 \nz\n\" transform=\"scale(0.015625)\"/>\n        <path id=\"DejaVuSans-76\" d=\"M 191 3500 \nL 800 3500 \nL 1894 563 \nL 2988 3500 \nL 3597 3500 \nL 2284 0 \nL 1503 0 \nL 191 3500 \nz\n\" transform=\"scale(0.015625)\"/>\n        <path id=\"DejaVuSans-6c\" d=\"M 603 4863 \nL 1178 4863 \nL 1178 0 \nL 603 0 \nL 603 4863 \nz\n\" transform=\"scale(0.015625)\"/>\n       </defs>\n       <use xlink:href=\"#DejaVuSans-4a\"/>\n       <use xlink:href=\"#DejaVuSans-6f\" x=\"29.492188\"/>\n       <use xlink:href=\"#DejaVuSans-161\" x=\"90.673828\"/>\n       <use xlink:href=\"#DejaVuSans-6b\" x=\"142.773438\"/>\n       <use xlink:href=\"#DejaVuSans-6f\" x=\"197.058594\"/>\n       <use xlink:href=\"#DejaVuSans-20\" x=\"258.240234\"/>\n       <use xlink:href=\"#DejaVuSans-47\" x=\"290.027344\"/>\n       <use xlink:href=\"#DejaVuSans-76\" x=\"367.517578\"/>\n       <use xlink:href=\"#DejaVuSans-61\" x=\"426.697266\"/>\n       <use xlink:href=\"#DejaVuSans-72\" x=\"487.976562\"/>\n       <use xlink:href=\"#DejaVuSans-64\" x=\"527.339844\"/>\n       <use xlink:href=\"#DejaVuSans-69\" x=\"590.816406\"/>\n       <use xlink:href=\"#DejaVuSans-6f\" x=\"618.599609\"/>\n       <use xlink:href=\"#DejaVuSans-6c\" x=\"679.78125\"/>\n      </g>\n     </g>\n    </g>\n    <g id=\"ytick_2\">\n     <g id=\"line2d_15\">\n      <path d=\"M 153.01375 529.596875 \nL 934.21375 529.596875 \n\" clip-path=\"url(#p46a55b0509)\" style=\"fill: none; stroke-dasharray: 2.96,1.28; stroke-dashoffset: 0; stroke: #ffffff; stroke-opacity: 0.5; stroke-width: 0.8\"/>\n     </g>\n     <g id=\"line2d_16\">\n      <g>\n       <use xlink:href=\"#m9dac545c42\" x=\"153.01375\" y=\"529.596875\" style=\"fill: #ffffff; stroke: #ffffff; stroke-width: 0.8\"/>\n      </g>\n     </g>\n     <g id=\"text_9\">\n      <!-- Ronald Araujo -->\n      <g style=\"fill: #ffffff\" transform=\"translate(62.371875 534.155938)scale(0.12 -0.12)\">\n       <defs>\n        <path id=\"DejaVuSans-52\" d=\"M 2841 2188 \nQ 3044 2119 3236 1894 \nQ 3428 1669 3622 1275 \nL 4263 0 \nL 3584 0 \nL 2988 1197 \nQ 2756 1666 2539 1819 \nQ 2322 1972 1947 1972 \nL 1259 1972 \nL 1259 0 \nL 628 0 \nL 628 4666 \nL 2053 4666 \nQ 2853 4666 3247 4331 \nQ 3641 3997 3641 3322 \nQ 3641 2881 3436 2590 \nQ 3231 2300 2841 2188 \nz\nM 1259 4147 \nL 1259 2491 \nL 2053 2491 \nQ 2509 2491 2742 2702 \nQ 2975 2913 2975 3322 \nQ 2975 3731 2742 3939 \nQ 2509 4147 2053 4147 \nL 1259 4147 \nz\n\" transform=\"scale(0.015625)\"/>\n        <path id=\"DejaVuSans-6e\" d=\"M 3513 2113 \nL 3513 0 \nL 2938 0 \nL 2938 2094 \nQ 2938 2591 2744 2837 \nQ 2550 3084 2163 3084 \nQ 1697 3084 1428 2787 \nQ 1159 2491 1159 1978 \nL 1159 0 \nL 581 0 \nL 581 3500 \nL 1159 3500 \nL 1159 2956 \nQ 1366 3272 1645 3428 \nQ 1925 3584 2291 3584 \nQ 2894 3584 3203 3211 \nQ 3513 2838 3513 2113 \nz\n\" transform=\"scale(0.015625)\"/>\n        <path id=\"DejaVuSans-41\" d=\"M 2188 4044 \nL 1331 1722 \nL 3047 1722 \nL 2188 4044 \nz\nM 1831 4666 \nL 2547 4666 \nL 4325 0 \nL 3669 0 \nL 3244 1197 \nL 1141 1197 \nL 716 0 \nL 50 0 \nL 1831 4666 \nz\n\" transform=\"scale(0.015625)\"/>\n        <path id=\"DejaVuSans-75\" d=\"M 544 1381 \nL 544 3500 \nL 1119 3500 \nL 1119 1403 \nQ 1119 906 1312 657 \nQ 1506 409 1894 409 \nQ 2359 409 2629 706 \nQ 2900 1003 2900 1516 \nL 2900 3500 \nL 3475 3500 \nL 3475 0 \nL 2900 0 \nL 2900 538 \nQ 2691 219 2414 64 \nQ 2138 -91 1772 -91 \nQ 1169 -91 856 284 \nQ 544 659 544 1381 \nz\nM 1991 3584 \nL 1991 3584 \nz\n\" transform=\"scale(0.015625)\"/>\n        <path id=\"DejaVuSans-6a\" d=\"M 603 3500 \nL 1178 3500 \nL 1178 -63 \nQ 1178 -731 923 -1031 \nQ 669 -1331 103 -1331 \nL -116 -1331 \nL -116 -844 \nL 38 -844 \nQ 366 -844 484 -692 \nQ 603 -541 603 -63 \nL 603 3500 \nz\nM 603 4863 \nL 1178 4863 \nL 1178 4134 \nL 603 4134 \nL 603 4863 \nz\n\" transform=\"scale(0.015625)\"/>\n       </defs>\n       <use xlink:href=\"#DejaVuSans-52\"/>\n       <use xlink:href=\"#DejaVuSans-6f\" x=\"64.982422\"/>\n       <use xlink:href=\"#DejaVuSans-6e\" x=\"126.164062\"/>\n       <use xlink:href=\"#DejaVuSans-61\" x=\"189.542969\"/>\n       <use xlink:href=\"#DejaVuSans-6c\" x=\"250.822266\"/>\n       <use xlink:href=\"#DejaVuSans-64\" x=\"278.605469\"/>\n       <use xlink:href=\"#DejaVuSans-20\" x=\"342.082031\"/>\n       <use xlink:href=\"#DejaVuSans-41\" x=\"373.869141\"/>\n       <use xlink:href=\"#DejaVuSans-72\" x=\"442.277344\"/>\n       <use xlink:href=\"#DejaVuSans-61\" x=\"483.390625\"/>\n       <use xlink:href=\"#DejaVuSans-75\" x=\"544.669922\"/>\n       <use xlink:href=\"#DejaVuSans-6a\" x=\"608.048828\"/>\n       <use xlink:href=\"#DejaVuSans-6f\" x=\"635.832031\"/>\n      </g>\n     </g>\n    </g>\n    <g id=\"ytick_3\">\n     <g id=\"line2d_17\">\n      <path d=\"M 153.01375 501.596875 \nL 934.21375 501.596875 \n\" clip-path=\"url(#p46a55b0509)\" style=\"fill: none; stroke-dasharray: 2.96,1.28; stroke-dashoffset: 0; stroke: #ffffff; stroke-opacity: 0.5; stroke-width: 0.8\"/>\n     </g>\n     <g id=\"line2d_18\">\n      <g>\n       <use xlink:href=\"#m9dac545c42\" x=\"153.01375\" y=\"501.596875\" style=\"fill: #ffffff; stroke: #ffffff; stroke-width: 0.8\"/>\n      </g>\n     </g>\n     <g id=\"text_10\">\n      <!-- Álejandro Balde -->\n      <g style=\"fill: #ffffff\" transform=\"translate(51.435 507.147813)scale(0.12 -0.12)\">\n       <defs>\n        <path id=\"DejaVuSans-c1\" d=\"M 2188 4044 \nL 1331 1722 \nL 3047 1722 \nL 2188 4044 \nz\nM 1831 4666 \nL 2547 4666 \nL 4325 0 \nL 3669 0 \nL 3244 1197 \nL 1141 1197 \nL 716 0 \nL 50 0 \nL 1831 4666 \nz\nM 2356 5921 \nL 2934 5921 \nL 2222 5096 \nL 1743 5096 \nL 2356 5921 \nz\n\" transform=\"scale(0.015625)\"/>\n        <path id=\"DejaVuSans-42\" d=\"M 1259 2228 \nL 1259 519 \nL 2272 519 \nQ 2781 519 3026 730 \nQ 3272 941 3272 1375 \nQ 3272 1813 3026 2020 \nQ 2781 2228 2272 2228 \nL 1259 2228 \nz\nM 1259 4147 \nL 1259 2741 \nL 2194 2741 \nQ 2656 2741 2882 2914 \nQ 3109 3088 3109 3444 \nQ 3109 3797 2882 3972 \nQ 2656 4147 2194 4147 \nL 1259 4147 \nz\nM 628 4666 \nL 2241 4666 \nQ 2963 4666 3353 4366 \nQ 3744 4066 3744 3513 \nQ 3744 3084 3544 2831 \nQ 3344 2578 2956 2516 \nQ 3422 2416 3680 2098 \nQ 3938 1781 3938 1306 \nQ 3938 681 3513 340 \nQ 3088 0 2303 0 \nL 628 0 \nL 628 4666 \nz\n\" transform=\"scale(0.015625)\"/>\n       </defs>\n       <use xlink:href=\"#DejaVuSans-c1\"/>\n       <use xlink:href=\"#DejaVuSans-6c\" x=\"68.408203\"/>\n       <use xlink:href=\"#DejaVuSans-65\" x=\"96.191406\"/>\n       <use xlink:href=\"#DejaVuSans-6a\" x=\"157.714844\"/>\n       <use xlink:href=\"#DejaVuSans-61\" x=\"185.498047\"/>\n       <use xlink:href=\"#DejaVuSans-6e\" x=\"246.777344\"/>\n       <use xlink:href=\"#DejaVuSans-64\" x=\"310.15625\"/>\n       <use xlink:href=\"#DejaVuSans-72\" x=\"373.632812\"/>\n       <use xlink:href=\"#DejaVuSans-6f\" x=\"412.496094\"/>\n       <use xlink:href=\"#DejaVuSans-20\" x=\"473.677734\"/>\n       <use xlink:href=\"#DejaVuSans-42\" x=\"505.464844\"/>\n       <use xlink:href=\"#DejaVuSans-61\" x=\"574.068359\"/>\n       <use xlink:href=\"#DejaVuSans-6c\" x=\"635.347656\"/>\n       <use xlink:href=\"#DejaVuSans-64\" x=\"663.130859\"/>\n       <use xlink:href=\"#DejaVuSans-65\" x=\"726.607422\"/>\n      </g>\n     </g>\n    </g>\n    <g id=\"ytick_4\">\n     <g id=\"line2d_19\">\n      <path d=\"M 153.01375 473.596875 \nL 934.21375 473.596875 \n\" clip-path=\"url(#p46a55b0509)\" style=\"fill: none; stroke-dasharray: 2.96,1.28; stroke-dashoffset: 0; stroke: #ffffff; stroke-opacity: 0.5; stroke-width: 0.8\"/>\n     </g>\n     <g id=\"line2d_20\">\n      <g>\n       <use xlink:href=\"#m9dac545c42\" x=\"153.01375\" y=\"473.596875\" style=\"fill: #ffffff; stroke: #ffffff; stroke-width: 0.8\"/>\n      </g>\n     </g>\n     <g id=\"text_11\">\n      <!-- Henrik Hahn -->\n      <g style=\"fill: #ffffff\" transform=\"translate(71.383125 478.155938)scale(0.12 -0.12)\">\n       <defs>\n        <path id=\"DejaVuSans-48\" d=\"M 628 4666 \nL 1259 4666 \nL 1259 2753 \nL 3553 2753 \nL 3553 4666 \nL 4184 4666 \nL 4184 0 \nL 3553 0 \nL 3553 2222 \nL 1259 2222 \nL 1259 0 \nL 628 0 \nL 628 4666 \nz\n\" transform=\"scale(0.015625)\"/>\n        <path id=\"DejaVuSans-68\" d=\"M 3513 2113 \nL 3513 0 \nL 2938 0 \nL 2938 2094 \nQ 2938 2591 2744 2837 \nQ 2550 3084 2163 3084 \nQ 1697 3084 1428 2787 \nQ 1159 2491 1159 1978 \nL 1159 0 \nL 581 0 \nL 581 4863 \nL 1159 4863 \nL 1159 2956 \nQ 1366 3272 1645 3428 \nQ 1925 3584 2291 3584 \nQ 2894 3584 3203 3211 \nQ 3513 2838 3513 2113 \nz\n\" transform=\"scale(0.015625)\"/>\n       </defs>\n       <use xlink:href=\"#DejaVuSans-48\"/>\n       <use xlink:href=\"#DejaVuSans-65\" x=\"75.195312\"/>\n       <use xlink:href=\"#DejaVuSans-6e\" x=\"136.71875\"/>\n       <use xlink:href=\"#DejaVuSans-72\" x=\"200.097656\"/>\n       <use xlink:href=\"#DejaVuSans-69\" x=\"241.210938\"/>\n       <use xlink:href=\"#DejaVuSans-6b\" x=\"268.994141\"/>\n       <use xlink:href=\"#DejaVuSans-20\" x=\"326.904297\"/>\n       <use xlink:href=\"#DejaVuSans-48\" x=\"358.691406\"/>\n       <use xlink:href=\"#DejaVuSans-61\" x=\"433.886719\"/>\n       <use xlink:href=\"#DejaVuSans-68\" x=\"495.166016\"/>\n       <use xlink:href=\"#DejaVuSans-6e\" x=\"558.544922\"/>\n      </g>\n     </g>\n    </g>\n    <g id=\"ytick_5\">\n     <g id=\"line2d_21\">\n      <path d=\"M 153.01375 445.596875 \nL 934.21375 445.596875 \n\" clip-path=\"url(#p46a55b0509)\" style=\"fill: none; stroke-dasharray: 2.96,1.28; stroke-dashoffset: 0; stroke: #ffffff; stroke-opacity: 0.5; stroke-width: 0.8\"/>\n     </g>\n     <g id=\"line2d_22\">\n      <g>\n       <use xlink:href=\"#m9dac545c42\" x=\"153.01375\" y=\"445.596875\" style=\"fill: #ffffff; stroke: #ffffff; stroke-width: 0.8\"/>\n      </g>\n     </g>\n     <g id=\"text_12\">\n      <!-- Brais Verdejo -->\n      <g style=\"fill: #ffffff\" transform=\"translate(67.03125 450.155938)scale(0.12 -0.12)\">\n       <defs>\n        <path id=\"DejaVuSans-56\" d=\"M 1831 0 \nL 50 4666 \nL 709 4666 \nL 2188 738 \nL 3669 4666 \nL 4325 4666 \nL 2547 0 \nL 1831 0 \nz\n\" transform=\"scale(0.015625)\"/>\n       </defs>\n       <use xlink:href=\"#DejaVuSans-42\"/>\n       <use xlink:href=\"#DejaVuSans-72\" x=\"68.603516\"/>\n       <use xlink:href=\"#DejaVuSans-61\" x=\"109.716797\"/>\n       <use xlink:href=\"#DejaVuSans-69\" x=\"170.996094\"/>\n       <use xlink:href=\"#DejaVuSans-73\" x=\"198.779297\"/>\n       <use xlink:href=\"#DejaVuSans-20\" x=\"250.878906\"/>\n       <use xlink:href=\"#DejaVuSans-56\" x=\"282.666016\"/>\n       <use xlink:href=\"#DejaVuSans-65\" x=\"343.324219\"/>\n       <use xlink:href=\"#DejaVuSans-72\" x=\"404.847656\"/>\n       <use xlink:href=\"#DejaVuSans-64\" x=\"444.210938\"/>\n       <use xlink:href=\"#DejaVuSans-65\" x=\"507.6875\"/>\n       <use xlink:href=\"#DejaVuSans-6a\" x=\"569.210938\"/>\n       <use xlink:href=\"#DejaVuSans-6f\" x=\"596.994141\"/>\n      </g>\n     </g>\n    </g>\n    <g id=\"ytick_6\">\n     <g id=\"line2d_23\">\n      <path d=\"M 153.01375 417.596875 \nL 934.21375 417.596875 \n\" clip-path=\"url(#p46a55b0509)\" style=\"fill: none; stroke-dasharray: 2.96,1.28; stroke-dashoffset: 0; stroke: #ffffff; stroke-opacity: 0.5; stroke-width: 0.8\"/>\n     </g>\n     <g id=\"line2d_24\">\n      <g>\n       <use xlink:href=\"#m9dac545c42\" x=\"153.01375\" y=\"417.596875\" style=\"fill: #ffffff; stroke: #ffffff; stroke-width: 0.8\"/>\n      </g>\n     </g>\n     <g id=\"text_13\">\n      <!-- Reece James -->\n      <g style=\"fill: #ffffff\" transform=\"translate(69.435 422.155938)scale(0.12 -0.12)\">\n       <defs>\n        <path id=\"DejaVuSans-6d\" d=\"M 3328 2828 \nQ 3544 3216 3844 3400 \nQ 4144 3584 4550 3584 \nQ 5097 3584 5394 3201 \nQ 5691 2819 5691 2113 \nL 5691 0 \nL 5113 0 \nL 5113 2094 \nQ 5113 2597 4934 2840 \nQ 4756 3084 4391 3084 \nQ 3944 3084 3684 2787 \nQ 3425 2491 3425 1978 \nL 3425 0 \nL 2847 0 \nL 2847 2094 \nQ 2847 2600 2669 2842 \nQ 2491 3084 2119 3084 \nQ 1678 3084 1418 2786 \nQ 1159 2488 1159 1978 \nL 1159 0 \nL 581 0 \nL 581 3500 \nL 1159 3500 \nL 1159 2956 \nQ 1356 3278 1631 3431 \nQ 1906 3584 2284 3584 \nQ 2666 3584 2933 3390 \nQ 3200 3197 3328 2828 \nz\n\" transform=\"scale(0.015625)\"/>\n       </defs>\n       <use xlink:href=\"#DejaVuSans-52\"/>\n       <use xlink:href=\"#DejaVuSans-65\" x=\"64.982422\"/>\n       <use xlink:href=\"#DejaVuSans-65\" x=\"126.505859\"/>\n       <use xlink:href=\"#DejaVuSans-63\" x=\"188.029297\"/>\n       <use xlink:href=\"#DejaVuSans-65\" x=\"243.009766\"/>\n       <use xlink:href=\"#DejaVuSans-20\" x=\"304.533203\"/>\n       <use xlink:href=\"#DejaVuSans-4a\" x=\"336.320312\"/>\n       <use xlink:href=\"#DejaVuSans-61\" x=\"365.8125\"/>\n       <use xlink:href=\"#DejaVuSans-6d\" x=\"427.091797\"/>\n       <use xlink:href=\"#DejaVuSans-65\" x=\"524.503906\"/>\n       <use xlink:href=\"#DejaVuSans-73\" x=\"586.027344\"/>\n      </g>\n     </g>\n    </g>\n    <g id=\"ytick_7\">\n     <g id=\"line2d_25\">\n      <path d=\"M 153.01375 389.596875 \nL 934.21375 389.596875 \n\" clip-path=\"url(#p46a55b0509)\" style=\"fill: none; stroke-dasharray: 2.96,1.28; stroke-dashoffset: 0; stroke: #ffffff; stroke-opacity: 0.5; stroke-width: 0.8\"/>\n     </g>\n     <g id=\"line2d_26\">\n      <g>\n       <use xlink:href=\"#m9dac545c42\" x=\"153.01375\" y=\"389.596875\" style=\"fill: #ffffff; stroke: #ffffff; stroke-width: 0.8\"/>\n      </g>\n     </g>\n     <g id=\"text_14\">\n      <!-- Nico González -->\n      <g style=\"fill: #ffffff\" transform=\"translate(61.035 394.155938)scale(0.12 -0.12)\">\n       <defs>\n        <path id=\"DejaVuSans-4e\" d=\"M 628 4666 \nL 1478 4666 \nL 3547 763 \nL 3547 4666 \nL 4159 4666 \nL 4159 0 \nL 3309 0 \nL 1241 3903 \nL 1241 0 \nL 628 0 \nL 628 4666 \nz\n\" transform=\"scale(0.015625)\"/>\n        <path id=\"DejaVuSans-7a\" d=\"M 353 3500 \nL 3084 3500 \nL 3084 2975 \nL 922 459 \nL 3084 459 \nL 3084 0 \nL 275 0 \nL 275 525 \nL 2438 3041 \nL 353 3041 \nL 353 3500 \nz\n\" transform=\"scale(0.015625)\"/>\n        <path id=\"DejaVuSans-e1\" d=\"M 2194 1759 \nQ 1497 1759 1228 1600 \nQ 959 1441 959 1056 \nQ 959 750 1161 570 \nQ 1363 391 1709 391 \nQ 2188 391 2477 730 \nQ 2766 1069 2766 1631 \nL 2766 1759 \nL 2194 1759 \nz\nM 3341 1997 \nL 3341 0 \nL 2766 0 \nL 2766 531 \nQ 2569 213 2275 61 \nQ 1981 -91 1556 -91 \nQ 1019 -91 701 211 \nQ 384 513 384 1019 \nQ 384 1609 779 1909 \nQ 1175 2209 1959 2209 \nL 2766 2209 \nL 2766 2266 \nQ 2766 2663 2505 2880 \nQ 2244 3097 1772 3097 \nQ 1472 3097 1187 3025 \nQ 903 2953 641 2809 \nL 641 3341 \nQ 956 3463 1253 3523 \nQ 1550 3584 1831 3584 \nQ 2591 3584 2966 3190 \nQ 3341 2797 3341 1997 \nz\nM 2290 5119 \nL 2912 5119 \nL 1894 3944 \nL 1415 3944 \nL 2290 5119 \nz\n\" transform=\"scale(0.015625)\"/>\n       </defs>\n       <use xlink:href=\"#DejaVuSans-4e\"/>\n       <use xlink:href=\"#DejaVuSans-69\" x=\"74.804688\"/>\n       <use xlink:href=\"#DejaVuSans-63\" x=\"102.587891\"/>\n       <use xlink:href=\"#DejaVuSans-6f\" x=\"157.568359\"/>\n       <use xlink:href=\"#DejaVuSans-20\" x=\"218.75\"/>\n       <use xlink:href=\"#DejaVuSans-47\" x=\"250.537109\"/>\n       <use xlink:href=\"#DejaVuSans-6f\" x=\"328.027344\"/>\n       <use xlink:href=\"#DejaVuSans-6e\" x=\"389.208984\"/>\n       <use xlink:href=\"#DejaVuSans-7a\" x=\"452.587891\"/>\n       <use xlink:href=\"#DejaVuSans-e1\" x=\"505.078125\"/>\n       <use xlink:href=\"#DejaVuSans-6c\" x=\"566.357422\"/>\n       <use xlink:href=\"#DejaVuSans-65\" x=\"594.140625\"/>\n       <use xlink:href=\"#DejaVuSans-7a\" x=\"655.664062\"/>\n      </g>\n     </g>\n    </g>\n    <g id=\"ytick_8\">\n     <g id=\"line2d_27\">\n      <path d=\"M 153.01375 361.596875 \nL 934.21375 361.596875 \n\" clip-path=\"url(#p46a55b0509)\" style=\"fill: none; stroke-dasharray: 2.96,1.28; stroke-dashoffset: 0; stroke: #ffffff; stroke-opacity: 0.5; stroke-width: 0.8\"/>\n     </g>\n     <g id=\"line2d_28\">\n      <g>\n       <use xlink:href=\"#m9dac545c42\" x=\"153.01375\" y=\"361.596875\" style=\"fill: #ffffff; stroke: #ffffff; stroke-width: 0.8\"/>\n      </g>\n     </g>\n     <g id=\"text_15\">\n      <!-- Noni Madueke -->\n      <g style=\"fill: #ffffff\" transform=\"translate(60.729375 366.155938)scale(0.12 -0.12)\">\n       <defs>\n        <path id=\"DejaVuSans-4d\" d=\"M 628 4666 \nL 1569 4666 \nL 2759 1491 \nL 3956 4666 \nL 4897 4666 \nL 4897 0 \nL 4281 0 \nL 4281 4097 \nL 3078 897 \nL 2444 897 \nL 1241 4097 \nL 1241 0 \nL 628 0 \nL 628 4666 \nz\n\" transform=\"scale(0.015625)\"/>\n       </defs>\n       <use xlink:href=\"#DejaVuSans-4e\"/>\n       <use xlink:href=\"#DejaVuSans-6f\" x=\"74.804688\"/>\n       <use xlink:href=\"#DejaVuSans-6e\" x=\"135.986328\"/>\n       <use xlink:href=\"#DejaVuSans-69\" x=\"199.365234\"/>\n       <use xlink:href=\"#DejaVuSans-20\" x=\"227.148438\"/>\n       <use xlink:href=\"#DejaVuSans-4d\" x=\"258.935547\"/>\n       <use xlink:href=\"#DejaVuSans-61\" x=\"345.214844\"/>\n       <use xlink:href=\"#DejaVuSans-64\" x=\"406.494141\"/>\n       <use xlink:href=\"#DejaVuSans-75\" x=\"469.970703\"/>\n       <use xlink:href=\"#DejaVuSans-65\" x=\"533.349609\"/>\n       <use xlink:href=\"#DejaVuSans-6b\" x=\"594.873047\"/>\n       <use xlink:href=\"#DejaVuSans-65\" x=\"649.158203\"/>\n      </g>\n     </g>\n    </g>\n    <g id=\"ytick_9\">\n     <g id=\"line2d_29\">\n      <path d=\"M 153.01375 333.596875 \nL 934.21375 333.596875 \n\" clip-path=\"url(#p46a55b0509)\" style=\"fill: none; stroke-dasharray: 2.96,1.28; stroke-dashoffset: 0; stroke: #ffffff; stroke-opacity: 0.5; stroke-width: 0.8\"/>\n     </g>\n     <g id=\"line2d_30\">\n      <g>\n       <use xlink:href=\"#m9dac545c42\" x=\"153.01375\" y=\"333.596875\" style=\"fill: #ffffff; stroke: #ffffff; stroke-width: 0.8\"/>\n      </g>\n     </g>\n     <g id=\"text_16\">\n      <!-- Aurélien Tchouaméni -->\n      <g style=\"fill: #ffffff\" transform=\"translate(20.878125 338.155937)scale(0.12 -0.12)\">\n       <defs>\n        <path id=\"DejaVuSans-e9\" d=\"M 3597 1894 \nL 3597 1613 \nL 953 1613 \nQ 991 1019 1311 708 \nQ 1631 397 2203 397 \nQ 2534 397 2845 478 \nQ 3156 559 3463 722 \nL 3463 178 \nQ 3153 47 2828 -22 \nQ 2503 -91 2169 -91 \nQ 1331 -91 842 396 \nQ 353 884 353 1716 \nQ 353 2575 817 3079 \nQ 1281 3584 2069 3584 \nQ 2775 3584 3186 3129 \nQ 3597 2675 3597 1894 \nz\nM 3022 2063 \nQ 3016 2534 2758 2815 \nQ 2500 3097 2075 3097 \nQ 1594 3097 1305 2825 \nQ 1016 2553 972 2059 \nL 3022 2063 \nz\nM 2466 5119 \nL 3088 5119 \nL 2070 3944 \nL 1591 3944 \nL 2466 5119 \nz\n\" transform=\"scale(0.015625)\"/>\n        <path id=\"DejaVuSans-54\" d=\"M -19 4666 \nL 3928 4666 \nL 3928 4134 \nL 2272 4134 \nL 2272 0 \nL 1638 0 \nL 1638 4134 \nL -19 4134 \nL -19 4666 \nz\n\" transform=\"scale(0.015625)\"/>\n       </defs>\n       <use xlink:href=\"#DejaVuSans-41\"/>\n       <use xlink:href=\"#DejaVuSans-75\" x=\"68.408203\"/>\n       <use xlink:href=\"#DejaVuSans-72\" x=\"131.787109\"/>\n       <use xlink:href=\"#DejaVuSans-e9\" x=\"170.650391\"/>\n       <use xlink:href=\"#DejaVuSans-6c\" x=\"232.173828\"/>\n       <use xlink:href=\"#DejaVuSans-69\" x=\"259.957031\"/>\n       <use xlink:href=\"#DejaVuSans-65\" x=\"287.740234\"/>\n       <use xlink:href=\"#DejaVuSans-6e\" x=\"349.263672\"/>\n       <use xlink:href=\"#DejaVuSans-20\" x=\"412.642578\"/>\n       <use xlink:href=\"#DejaVuSans-54\" x=\"444.429688\"/>\n       <use xlink:href=\"#DejaVuSans-63\" x=\"488.513672\"/>\n       <use xlink:href=\"#DejaVuSans-68\" x=\"543.494141\"/>\n       <use xlink:href=\"#DejaVuSans-6f\" x=\"606.873047\"/>\n       <use xlink:href=\"#DejaVuSans-75\" x=\"668.054688\"/>\n       <use xlink:href=\"#DejaVuSans-61\" x=\"731.433594\"/>\n       <use xlink:href=\"#DejaVuSans-6d\" x=\"792.712891\"/>\n       <use xlink:href=\"#DejaVuSans-e9\" x=\"890.125\"/>\n       <use xlink:href=\"#DejaVuSans-6e\" x=\"951.648438\"/>\n       <use xlink:href=\"#DejaVuSans-69\" x=\"1015.027344\"/>\n      </g>\n     </g>\n    </g>\n    <g id=\"ytick_10\">\n     <g id=\"line2d_31\">\n      <path d=\"M 153.01375 305.596875 \nL 934.21375 305.596875 \n\" clip-path=\"url(#p46a55b0509)\" style=\"fill: none; stroke-dasharray: 2.96,1.28; stroke-dashoffset: 0; stroke: #ffffff; stroke-opacity: 0.5; stroke-width: 0.8\"/>\n     </g>\n     <g id=\"line2d_32\">\n      <g>\n       <use xlink:href=\"#m9dac545c42\" x=\"153.01375\" y=\"305.596875\" style=\"fill: #ffffff; stroke: #ffffff; stroke-width: 0.8\"/>\n      </g>\n     </g>\n     <g id=\"text_17\">\n      <!-- Muhamed Zukic -->\n      <g style=\"fill: #ffffff\" transform=\"translate(49.88625 310.155937)scale(0.12 -0.12)\">\n       <defs>\n        <path id=\"DejaVuSans-5a\" d=\"M 359 4666 \nL 4025 4666 \nL 4025 4184 \nL 1075 531 \nL 4097 531 \nL 4097 0 \nL 288 0 \nL 288 481 \nL 3238 4134 \nL 359 4134 \nL 359 4666 \nz\n\" transform=\"scale(0.015625)\"/>\n       </defs>\n       <use xlink:href=\"#DejaVuSans-4d\"/>\n       <use xlink:href=\"#DejaVuSans-75\" x=\"86.279297\"/>\n       <use xlink:href=\"#DejaVuSans-68\" x=\"149.658203\"/>\n       <use xlink:href=\"#DejaVuSans-61\" x=\"213.037109\"/>\n       <use xlink:href=\"#DejaVuSans-6d\" x=\"274.316406\"/>\n       <use xlink:href=\"#DejaVuSans-65\" x=\"371.728516\"/>\n       <use xlink:href=\"#DejaVuSans-64\" x=\"433.251953\"/>\n       <use xlink:href=\"#DejaVuSans-20\" x=\"496.728516\"/>\n       <use xlink:href=\"#DejaVuSans-5a\" x=\"528.515625\"/>\n       <use xlink:href=\"#DejaVuSans-75\" x=\"597.021484\"/>\n       <use xlink:href=\"#DejaVuSans-6b\" x=\"660.400391\"/>\n       <use xlink:href=\"#DejaVuSans-69\" x=\"718.310547\"/>\n       <use xlink:href=\"#DejaVuSans-63\" x=\"746.09375\"/>\n      </g>\n     </g>\n    </g>\n    <g id=\"ytick_11\">\n     <g id=\"line2d_33\">\n      <path d=\"M 153.01375 277.596875 \nL 934.21375 277.596875 \n\" clip-path=\"url(#p46a55b0509)\" style=\"fill: none; stroke-dasharray: 2.96,1.28; stroke-dashoffset: 0; stroke: #ffffff; stroke-opacity: 0.5; stroke-width: 0.8\"/>\n     </g>\n     <g id=\"line2d_34\">\n      <g>\n       <use xlink:href=\"#m9dac545c42\" x=\"153.01375\" y=\"277.596875\" style=\"fill: #ffffff; stroke: #ffffff; stroke-width: 0.8\"/>\n      </g>\n     </g>\n     <g id=\"text_18\">\n      <!-- Victor Osimhen -->\n      <g style=\"fill: #ffffff\" transform=\"translate(54.035625 282.155937)scale(0.12 -0.12)\">\n       <defs>\n        <path id=\"DejaVuSans-4f\" d=\"M 2522 4238 \nQ 1834 4238 1429 3725 \nQ 1025 3213 1025 2328 \nQ 1025 1447 1429 934 \nQ 1834 422 2522 422 \nQ 3209 422 3611 934 \nQ 4013 1447 4013 2328 \nQ 4013 3213 3611 3725 \nQ 3209 4238 2522 4238 \nz\nM 2522 4750 \nQ 3503 4750 4090 4092 \nQ 4678 3434 4678 2328 \nQ 4678 1225 4090 567 \nQ 3503 -91 2522 -91 \nQ 1538 -91 948 565 \nQ 359 1222 359 2328 \nQ 359 3434 948 4092 \nQ 1538 4750 2522 4750 \nz\n\" transform=\"scale(0.015625)\"/>\n       </defs>\n       <use xlink:href=\"#DejaVuSans-56\"/>\n       <use xlink:href=\"#DejaVuSans-69\" x=\"66.158203\"/>\n       <use xlink:href=\"#DejaVuSans-63\" x=\"93.941406\"/>\n       <use xlink:href=\"#DejaVuSans-74\" x=\"148.921875\"/>\n       <use xlink:href=\"#DejaVuSans-6f\" x=\"188.130859\"/>\n       <use xlink:href=\"#DejaVuSans-72\" x=\"249.3125\"/>\n       <use xlink:href=\"#DejaVuSans-20\" x=\"290.425781\"/>\n       <use xlink:href=\"#DejaVuSans-4f\" x=\"322.212891\"/>\n       <use xlink:href=\"#DejaVuSans-73\" x=\"400.923828\"/>\n       <use xlink:href=\"#DejaVuSans-69\" x=\"453.023438\"/>\n       <use xlink:href=\"#DejaVuSans-6d\" x=\"480.806641\"/>\n       <use xlink:href=\"#DejaVuSans-68\" x=\"578.21875\"/>\n       <use xlink:href=\"#DejaVuSans-65\" x=\"641.597656\"/>\n       <use xlink:href=\"#DejaVuSans-6e\" x=\"703.121094\"/>\n      </g>\n     </g>\n    </g>\n    <g id=\"ytick_12\">\n     <g id=\"line2d_35\">\n      <path d=\"M 153.01375 249.596875 \nL 934.21375 249.596875 \n\" clip-path=\"url(#p46a55b0509)\" style=\"fill: none; stroke-dasharray: 2.96,1.28; stroke-dashoffset: 0; stroke: #ffffff; stroke-opacity: 0.5; stroke-width: 0.8\"/>\n     </g>\n     <g id=\"line2d_36\">\n      <g>\n       <use xlink:href=\"#m9dac545c42\" x=\"153.01375\" y=\"249.596875\" style=\"fill: #ffffff; stroke: #ffffff; stroke-width: 0.8\"/>\n      </g>\n     </g>\n     <g id=\"text_19\">\n      <!-- Felix Davey -->\n      <g style=\"fill: #ffffff\" transform=\"translate(76.621875 254.155937)scale(0.12 -0.12)\">\n       <defs>\n        <path id=\"DejaVuSans-46\" d=\"M 628 4666 \nL 3309 4666 \nL 3309 4134 \nL 1259 4134 \nL 1259 2759 \nL 3109 2759 \nL 3109 2228 \nL 1259 2228 \nL 1259 0 \nL 628 0 \nL 628 4666 \nz\n\" transform=\"scale(0.015625)\"/>\n        <path id=\"DejaVuSans-44\" d=\"M 1259 4147 \nL 1259 519 \nL 2022 519 \nQ 2988 519 3436 956 \nQ 3884 1394 3884 2338 \nQ 3884 3275 3436 3711 \nQ 2988 4147 2022 4147 \nL 1259 4147 \nz\nM 628 4666 \nL 1925 4666 \nQ 3281 4666 3915 4102 \nQ 4550 3538 4550 2338 \nQ 4550 1131 3912 565 \nQ 3275 0 1925 0 \nL 628 0 \nL 628 4666 \nz\n\" transform=\"scale(0.015625)\"/>\n        <path id=\"DejaVuSans-79\" d=\"M 2059 -325 \nQ 1816 -950 1584 -1140 \nQ 1353 -1331 966 -1331 \nL 506 -1331 \nL 506 -850 \nL 844 -850 \nQ 1081 -850 1212 -737 \nQ 1344 -625 1503 -206 \nL 1606 56 \nL 191 3500 \nL 800 3500 \nL 1894 763 \nL 2988 3500 \nL 3597 3500 \nL 2059 -325 \nz\n\" transform=\"scale(0.015625)\"/>\n       </defs>\n       <use xlink:href=\"#DejaVuSans-46\"/>\n       <use xlink:href=\"#DejaVuSans-65\" x=\"52.019531\"/>\n       <use xlink:href=\"#DejaVuSans-6c\" x=\"113.542969\"/>\n       <use xlink:href=\"#DejaVuSans-69\" x=\"141.326172\"/>\n       <use xlink:href=\"#DejaVuSans-78\" x=\"169.109375\"/>\n       <use xlink:href=\"#DejaVuSans-20\" x=\"228.289062\"/>\n       <use xlink:href=\"#DejaVuSans-44\" x=\"260.076172\"/>\n       <use xlink:href=\"#DejaVuSans-61\" x=\"337.078125\"/>\n       <use xlink:href=\"#DejaVuSans-76\" x=\"398.357422\"/>\n       <use xlink:href=\"#DejaVuSans-65\" x=\"457.537109\"/>\n       <use xlink:href=\"#DejaVuSans-79\" x=\"519.060547\"/>\n      </g>\n     </g>\n    </g>\n    <g id=\"ytick_13\">\n     <g id=\"line2d_37\">\n      <path d=\"M 153.01375 221.596875 \nL 934.21375 221.596875 \n\" clip-path=\"url(#p46a55b0509)\" style=\"fill: none; stroke-dasharray: 2.96,1.28; stroke-dashoffset: 0; stroke: #ffffff; stroke-opacity: 0.5; stroke-width: 0.8\"/>\n     </g>\n     <g id=\"line2d_38\">\n      <g>\n       <use xlink:href=\"#m9dac545c42\" x=\"153.01375\" y=\"221.596875\" style=\"fill: #ffffff; stroke: #ffffff; stroke-width: 0.8\"/>\n      </g>\n     </g>\n     <g id=\"text_20\">\n      <!-- Pablo Gavi -->\n      <g style=\"fill: #ffffff\" transform=\"translate(82.768125 226.155937)scale(0.12 -0.12)\">\n       <defs>\n        <path id=\"DejaVuSans-50\" d=\"M 1259 4147 \nL 1259 2394 \nL 2053 2394 \nQ 2494 2394 2734 2622 \nQ 2975 2850 2975 3272 \nQ 2975 3691 2734 3919 \nQ 2494 4147 2053 4147 \nL 1259 4147 \nz\nM 628 4666 \nL 2053 4666 \nQ 2838 4666 3239 4311 \nQ 3641 3956 3641 3272 \nQ 3641 2581 3239 2228 \nQ 2838 1875 2053 1875 \nL 1259 1875 \nL 1259 0 \nL 628 0 \nL 628 4666 \nz\n\" transform=\"scale(0.015625)\"/>\n        <path id=\"DejaVuSans-62\" d=\"M 3116 1747 \nQ 3116 2381 2855 2742 \nQ 2594 3103 2138 3103 \nQ 1681 3103 1420 2742 \nQ 1159 2381 1159 1747 \nQ 1159 1113 1420 752 \nQ 1681 391 2138 391 \nQ 2594 391 2855 752 \nQ 3116 1113 3116 1747 \nz\nM 1159 2969 \nQ 1341 3281 1617 3432 \nQ 1894 3584 2278 3584 \nQ 2916 3584 3314 3078 \nQ 3713 2572 3713 1747 \nQ 3713 922 3314 415 \nQ 2916 -91 2278 -91 \nQ 1894 -91 1617 61 \nQ 1341 213 1159 525 \nL 1159 0 \nL 581 0 \nL 581 4863 \nL 1159 4863 \nL 1159 2969 \nz\n\" transform=\"scale(0.015625)\"/>\n       </defs>\n       <use xlink:href=\"#DejaVuSans-50\"/>\n       <use xlink:href=\"#DejaVuSans-61\" x=\"55.802734\"/>\n       <use xlink:href=\"#DejaVuSans-62\" x=\"117.082031\"/>\n       <use xlink:href=\"#DejaVuSans-6c\" x=\"180.558594\"/>\n       <use xlink:href=\"#DejaVuSans-6f\" x=\"208.341797\"/>\n       <use xlink:href=\"#DejaVuSans-20\" x=\"269.523438\"/>\n       <use xlink:href=\"#DejaVuSans-47\" x=\"301.310547\"/>\n       <use xlink:href=\"#DejaVuSans-61\" x=\"378.800781\"/>\n       <use xlink:href=\"#DejaVuSans-76\" x=\"440.080078\"/>\n       <use xlink:href=\"#DejaVuSans-69\" x=\"499.259766\"/>\n      </g>\n     </g>\n    </g>\n    <g id=\"ytick_14\">\n     <g id=\"line2d_39\">\n      <path d=\"M 153.01375 193.596875 \nL 934.21375 193.596875 \n\" clip-path=\"url(#p46a55b0509)\" style=\"fill: none; stroke-dasharray: 2.96,1.28; stroke-dashoffset: 0; stroke: #ffffff; stroke-opacity: 0.5; stroke-width: 0.8\"/>\n     </g>\n     <g id=\"line2d_40\">\n      <g>\n       <use xlink:href=\"#m9dac545c42\" x=\"153.01375\" y=\"193.596875\" style=\"fill: #ffffff; stroke: #ffffff; stroke-width: 0.8\"/>\n      </g>\n     </g>\n     <g id=\"text_21\">\n      <!-- Frenkie de Jong -->\n      <g style=\"fill: #ffffff\" transform=\"translate(53.92875 198.155937)scale(0.12 -0.12)\">\n       <defs>\n        <path id=\"DejaVuSans-67\" d=\"M 2906 1791 \nQ 2906 2416 2648 2759 \nQ 2391 3103 1925 3103 \nQ 1463 3103 1205 2759 \nQ 947 2416 947 1791 \nQ 947 1169 1205 825 \nQ 1463 481 1925 481 \nQ 2391 481 2648 825 \nQ 2906 1169 2906 1791 \nz\nM 3481 434 \nQ 3481 -459 3084 -895 \nQ 2688 -1331 1869 -1331 \nQ 1566 -1331 1297 -1286 \nQ 1028 -1241 775 -1147 \nL 775 -588 \nQ 1028 -725 1275 -790 \nQ 1522 -856 1778 -856 \nQ 2344 -856 2625 -561 \nQ 2906 -266 2906 331 \nL 2906 616 \nQ 2728 306 2450 153 \nQ 2172 0 1784 0 \nQ 1141 0 747 490 \nQ 353 981 353 1791 \nQ 353 2603 747 3093 \nQ 1141 3584 1784 3584 \nQ 2172 3584 2450 3431 \nQ 2728 3278 2906 2969 \nL 2906 3500 \nL 3481 3500 \nL 3481 434 \nz\n\" transform=\"scale(0.015625)\"/>\n       </defs>\n       <use xlink:href=\"#DejaVuSans-46\"/>\n       <use xlink:href=\"#DejaVuSans-72\" x=\"50.269531\"/>\n       <use xlink:href=\"#DejaVuSans-65\" x=\"89.132812\"/>\n       <use xlink:href=\"#DejaVuSans-6e\" x=\"150.65625\"/>\n       <use xlink:href=\"#DejaVuSans-6b\" x=\"214.035156\"/>\n       <use xlink:href=\"#DejaVuSans-69\" x=\"271.945312\"/>\n       <use xlink:href=\"#DejaVuSans-65\" x=\"299.728516\"/>\n       <use xlink:href=\"#DejaVuSans-20\" x=\"361.251953\"/>\n       <use xlink:href=\"#DejaVuSans-64\" x=\"393.039062\"/>\n       <use xlink:href=\"#DejaVuSans-65\" x=\"456.515625\"/>\n       <use xlink:href=\"#DejaVuSans-20\" x=\"518.039062\"/>\n       <use xlink:href=\"#DejaVuSans-4a\" x=\"549.826172\"/>\n       <use xlink:href=\"#DejaVuSans-6f\" x=\"579.318359\"/>\n       <use xlink:href=\"#DejaVuSans-6e\" x=\"640.5\"/>\n       <use xlink:href=\"#DejaVuSans-67\" x=\"703.878906\"/>\n      </g>\n     </g>\n    </g>\n    <g id=\"ytick_15\">\n     <g id=\"line2d_41\">\n      <path d=\"M 153.01375 165.596875 \nL 934.21375 165.596875 \n\" clip-path=\"url(#p46a55b0509)\" style=\"fill: none; stroke-dasharray: 2.96,1.28; stroke-dashoffset: 0; stroke: #ffffff; stroke-opacity: 0.5; stroke-width: 0.8\"/>\n     </g>\n     <g id=\"line2d_42\">\n      <g>\n       <use xlink:href=\"#m9dac545c42\" x=\"153.01375\" y=\"165.596875\" style=\"fill: #ffffff; stroke: #ffffff; stroke-width: 0.8\"/>\n      </g>\n     </g>\n     <g id=\"text_22\">\n      <!-- Ferran Torres -->\n      <g style=\"fill: #ffffff\" transform=\"translate(68.30625 170.155937)scale(0.12 -0.12)\">\n       <use xlink:href=\"#DejaVuSans-46\"/>\n       <use xlink:href=\"#DejaVuSans-65\" x=\"52.019531\"/>\n       <use xlink:href=\"#DejaVuSans-72\" x=\"113.542969\"/>\n       <use xlink:href=\"#DejaVuSans-72\" x=\"152.90625\"/>\n       <use xlink:href=\"#DejaVuSans-61\" x=\"194.019531\"/>\n       <use xlink:href=\"#DejaVuSans-6e\" x=\"255.298828\"/>\n       <use xlink:href=\"#DejaVuSans-20\" x=\"318.677734\"/>\n       <use xlink:href=\"#DejaVuSans-54\" x=\"350.464844\"/>\n       <use xlink:href=\"#DejaVuSans-6f\" x=\"394.548828\"/>\n       <use xlink:href=\"#DejaVuSans-72\" x=\"455.730469\"/>\n       <use xlink:href=\"#DejaVuSans-72\" x=\"495.09375\"/>\n       <use xlink:href=\"#DejaVuSans-65\" x=\"533.957031\"/>\n       <use xlink:href=\"#DejaVuSans-73\" x=\"595.480469\"/>\n      </g>\n     </g>\n    </g>\n    <g id=\"ytick_16\">\n     <g id=\"line2d_43\">\n      <path d=\"M 153.01375 137.596875 \nL 934.21375 137.596875 \n\" clip-path=\"url(#p46a55b0509)\" style=\"fill: none; stroke-dasharray: 2.96,1.28; stroke-dashoffset: 0; stroke: #ffffff; stroke-opacity: 0.5; stroke-width: 0.8\"/>\n     </g>\n     <g id=\"line2d_44\">\n      <g>\n       <use xlink:href=\"#m9dac545c42\" x=\"153.01375\" y=\"137.596875\" style=\"fill: #ffffff; stroke: #ffffff; stroke-width: 0.8\"/>\n      </g>\n     </g>\n     <g id=\"text_23\">\n      <!-- Luciano Couto -->\n      <g style=\"fill: #ffffff\" transform=\"translate(60.511875 142.155937)scale(0.12 -0.12)\">\n       <defs>\n        <path id=\"DejaVuSans-4c\" d=\"M 628 4666 \nL 1259 4666 \nL 1259 531 \nL 3531 531 \nL 3531 0 \nL 628 0 \nL 628 4666 \nz\n\" transform=\"scale(0.015625)\"/>\n        <path id=\"DejaVuSans-43\" d=\"M 4122 4306 \nL 4122 3641 \nQ 3803 3938 3442 4084 \nQ 3081 4231 2675 4231 \nQ 1875 4231 1450 3742 \nQ 1025 3253 1025 2328 \nQ 1025 1406 1450 917 \nQ 1875 428 2675 428 \nQ 3081 428 3442 575 \nQ 3803 722 4122 1019 \nL 4122 359 \nQ 3791 134 3420 21 \nQ 3050 -91 2638 -91 \nQ 1578 -91 968 557 \nQ 359 1206 359 2328 \nQ 359 3453 968 4101 \nQ 1578 4750 2638 4750 \nQ 3056 4750 3426 4639 \nQ 3797 4528 4122 4306 \nz\n\" transform=\"scale(0.015625)\"/>\n       </defs>\n       <use xlink:href=\"#DejaVuSans-4c\"/>\n       <use xlink:href=\"#DejaVuSans-75\" x=\"53.962891\"/>\n       <use xlink:href=\"#DejaVuSans-63\" x=\"117.341797\"/>\n       <use xlink:href=\"#DejaVuSans-69\" x=\"172.322266\"/>\n       <use xlink:href=\"#DejaVuSans-61\" x=\"200.105469\"/>\n       <use xlink:href=\"#DejaVuSans-6e\" x=\"261.384766\"/>\n       <use xlink:href=\"#DejaVuSans-6f\" x=\"324.763672\"/>\n       <use xlink:href=\"#DejaVuSans-20\" x=\"385.945312\"/>\n       <use xlink:href=\"#DejaVuSans-43\" x=\"417.732422\"/>\n       <use xlink:href=\"#DejaVuSans-6f\" x=\"487.556641\"/>\n       <use xlink:href=\"#DejaVuSans-75\" x=\"548.738281\"/>\n       <use xlink:href=\"#DejaVuSans-74\" x=\"612.117188\"/>\n       <use xlink:href=\"#DejaVuSans-6f\" x=\"651.326172\"/>\n      </g>\n     </g>\n    </g>\n    <g id=\"ytick_17\">\n     <g id=\"line2d_45\">\n      <path d=\"M 153.01375 109.596875 \nL 934.21375 109.596875 \n\" clip-path=\"url(#p46a55b0509)\" style=\"fill: none; stroke-dasharray: 2.96,1.28; stroke-dashoffset: 0; stroke: #ffffff; stroke-opacity: 0.5; stroke-width: 0.8\"/>\n     </g>\n     <g id=\"line2d_46\">\n      <g>\n       <use xlink:href=\"#m9dac545c42\" x=\"153.01375\" y=\"109.596875\" style=\"fill: #ffffff; stroke: #ffffff; stroke-width: 0.8\"/>\n      </g>\n     </g>\n     <g id=\"text_24\">\n      <!-- Pedri -->\n      <g style=\"fill: #ffffff\" transform=\"translate(115.944375 114.155937)scale(0.12 -0.12)\">\n       <use xlink:href=\"#DejaVuSans-50\"/>\n       <use xlink:href=\"#DejaVuSans-65\" x=\"56.677734\"/>\n       <use xlink:href=\"#DejaVuSans-64\" x=\"118.201172\"/>\n       <use xlink:href=\"#DejaVuSans-72\" x=\"181.677734\"/>\n       <use xlink:href=\"#DejaVuSans-69\" x=\"222.791016\"/>\n      </g>\n     </g>\n    </g>\n    <g id=\"ytick_18\">\n     <g id=\"line2d_47\">\n      <path d=\"M 153.01375 81.596875 \nL 934.21375 81.596875 \n\" clip-path=\"url(#p46a55b0509)\" style=\"fill: none; stroke-dasharray: 2.96,1.28; stroke-dashoffset: 0; stroke: #ffffff; stroke-opacity: 0.5; stroke-width: 0.8\"/>\n     </g>\n     <g id=\"line2d_48\">\n      <g>\n       <use xlink:href=\"#m9dac545c42\" x=\"153.01375\" y=\"81.596875\" style=\"fill: #ffffff; stroke: #ffffff; stroke-width: 0.8\"/>\n      </g>\n     </g>\n     <g id=\"text_25\">\n      <!-- Karim Adeyemi -->\n      <g style=\"fill: #ffffff\" transform=\"translate(54.721875 86.155937)scale(0.12 -0.12)\">\n       <defs>\n        <path id=\"DejaVuSans-4b\" d=\"M 628 4666 \nL 1259 4666 \nL 1259 2694 \nL 3353 4666 \nL 4166 4666 \nL 1850 2491 \nL 4331 0 \nL 3500 0 \nL 1259 2247 \nL 1259 0 \nL 628 0 \nL 628 4666 \nz\n\" transform=\"scale(0.015625)\"/>\n       </defs>\n       <use xlink:href=\"#DejaVuSans-4b\"/>\n       <use xlink:href=\"#DejaVuSans-61\" x=\"63.826172\"/>\n       <use xlink:href=\"#DejaVuSans-72\" x=\"125.105469\"/>\n       <use xlink:href=\"#DejaVuSans-69\" x=\"166.21875\"/>\n       <use xlink:href=\"#DejaVuSans-6d\" x=\"194.001953\"/>\n       <use xlink:href=\"#DejaVuSans-20\" x=\"291.414062\"/>\n       <use xlink:href=\"#DejaVuSans-41\" x=\"323.201172\"/>\n       <use xlink:href=\"#DejaVuSans-64\" x=\"389.859375\"/>\n       <use xlink:href=\"#DejaVuSans-65\" x=\"453.335938\"/>\n       <use xlink:href=\"#DejaVuSans-79\" x=\"514.859375\"/>\n       <use xlink:href=\"#DejaVuSans-65\" x=\"574.039062\"/>\n       <use xlink:href=\"#DejaVuSans-6d\" x=\"635.5625\"/>\n       <use xlink:href=\"#DejaVuSans-69\" x=\"732.974609\"/>\n      </g>\n     </g>\n    </g>\n    <g id=\"ytick_19\">\n     <g id=\"line2d_49\">\n      <path d=\"M 153.01375 53.596875 \nL 934.21375 53.596875 \n\" clip-path=\"url(#p46a55b0509)\" style=\"fill: none; stroke-dasharray: 2.96,1.28; stroke-dashoffset: 0; stroke: #ffffff; stroke-opacity: 0.5; stroke-width: 0.8\"/>\n     </g>\n     <g id=\"line2d_50\">\n      <g>\n       <use xlink:href=\"#m9dac545c42\" x=\"153.01375\" y=\"53.596875\" style=\"fill: #ffffff; stroke: #ffffff; stroke-width: 0.8\"/>\n      </g>\n     </g>\n     <g id=\"text_26\">\n      <!-- Ansu Fati -->\n      <g style=\"fill: #ffffff\" transform=\"translate(91.33125 58.155937)scale(0.12 -0.12)\">\n       <use xlink:href=\"#DejaVuSans-41\"/>\n       <use xlink:href=\"#DejaVuSans-6e\" x=\"68.408203\"/>\n       <use xlink:href=\"#DejaVuSans-73\" x=\"131.787109\"/>\n       <use xlink:href=\"#DejaVuSans-75\" x=\"183.886719\"/>\n       <use xlink:href=\"#DejaVuSans-20\" x=\"247.265625\"/>\n       <use xlink:href=\"#DejaVuSans-46\" x=\"279.052734\"/>\n       <use xlink:href=\"#DejaVuSans-61\" x=\"327.447266\"/>\n       <use xlink:href=\"#DejaVuSans-74\" x=\"388.726562\"/>\n       <use xlink:href=\"#DejaVuSans-69\" x=\"427.935547\"/>\n      </g>\n     </g>\n    </g>\n    <g id=\"text_27\">\n     <!-- Player -->\n     <g style=\"fill: #ffffff\" transform=\"translate(14.798438 321.15625)rotate(-90)scale(0.1 -0.1)\">\n      <use xlink:href=\"#DejaVuSans-50\"/>\n      <use xlink:href=\"#DejaVuSans-6c\" x=\"60.302734\"/>\n      <use xlink:href=\"#DejaVuSans-61\" x=\"88.085938\"/>\n      <use xlink:href=\"#DejaVuSans-79\" x=\"149.365234\"/>\n      <use xlink:href=\"#DejaVuSans-65\" x=\"208.544922\"/>\n      <use xlink:href=\"#DejaVuSans-72\" x=\"270.068359\"/>\n     </g>\n    </g>\n   </g>\n   <g id=\"LineCollection_1\">\n    <path d=\"M 466.914114 557.596875 \nL 188.522841 557.596875 \n\" clip-path=\"url(#p46a55b0509)\" style=\"fill: none; stroke: #ff4500; stroke-opacity: 0.8; stroke-width: 5\"/>\n    <path d=\"M 466.914114 529.596875 \nL 202.726477 529.596875 \n\" clip-path=\"url(#p46a55b0509)\" style=\"fill: none; stroke: #ff4500; stroke-opacity: 0.8; stroke-width: 5\"/>\n    <path d=\"M 466.914114 501.596875 \nL 310.674114 501.596875 \n\" clip-path=\"url(#p46a55b0509)\" style=\"fill: none; stroke: #ff8c00; stroke-opacity: 0.8; stroke-width: 5\"/>\n    <path d=\"M 466.914114 473.596875 \nL 336.240659 473.596875 \n\" clip-path=\"url(#p46a55b0509)\" style=\"fill: none; stroke: #ff8c00; stroke-opacity: 0.8; stroke-width: 5\"/>\n    <path d=\"M 466.914114 445.596875 \nL 353.285023 445.596875 \n\" clip-path=\"url(#p46a55b0509)\" style=\"fill: none; stroke: #ff7f50; stroke-opacity: 0.8; stroke-width: 5\"/>\n    <path d=\"M 466.914114 417.596875 \nL 364.647932 417.596875 \n\" clip-path=\"url(#p46a55b0509)\" style=\"fill: none; stroke: #ff7f50; stroke-opacity: 0.8; stroke-width: 5\"/>\n    <path d=\"M 466.914114 389.596875 \nL 461.232659 389.596875 \n\" clip-path=\"url(#p46a55b0509)\" style=\"fill: none; stroke: #ffd700; stroke-opacity: 0.8; stroke-width: 5\"/>\n    <path d=\"M 466.914114 361.596875 \nL 475.436295 361.596875 \n\" clip-path=\"url(#p46a55b0509)\" style=\"fill: none; stroke: #adff2f; stroke-opacity: 0.8; stroke-width: 5\"/>\n    <path d=\"M 466.914114 333.596875 \nL 523.728659 333.596875 \n\" clip-path=\"url(#p46a55b0509)\" style=\"fill: none; stroke: #ffd700; stroke-opacity: 0.8; stroke-width: 5\"/>\n    <path d=\"M 466.914114 305.596875 \nL 603.269023 305.596875 \n\" clip-path=\"url(#p46a55b0509)\" style=\"fill: none; stroke: #008000; stroke-opacity: 0.8; stroke-width: 5\"/>\n    <path d=\"M 466.914114 277.596875 \nL 620.313386 277.596875 \n\" clip-path=\"url(#p46a55b0509)\" style=\"fill: none; stroke: #008000; stroke-opacity: 0.8; stroke-width: 5\"/>\n    <path d=\"M 466.914114 249.596875 \nL 674.287205 249.596875 \n\" clip-path=\"url(#p46a55b0509)\" style=\"fill: none; stroke: #adff2f; stroke-opacity: 0.8; stroke-width: 5\"/>\n    <path d=\"M 466.914114 221.596875 \nL 682.809386 221.596875 \n\" clip-path=\"url(#p46a55b0509)\" style=\"fill: none; stroke: #ffff00; stroke-opacity: 0.8; stroke-width: 5\"/>\n    <path d=\"M 466.914114 193.596875 \nL 697.013023 193.596875 \n\" clip-path=\"url(#p46a55b0509)\" style=\"fill: none; stroke: #ffff00; stroke-opacity: 0.8; stroke-width: 5\"/>\n    <path d=\"M 466.914114 165.596875 \nL 719.738841 165.596875 \n\" clip-path=\"url(#p46a55b0509)\" style=\"fill: none; stroke: #32cd32; stroke-opacity: 0.8; stroke-width: 5\"/>\n    <path d=\"M 466.914114 137.596875 \nL 719.738841 137.596875 \n\" clip-path=\"url(#p46a55b0509)\" style=\"fill: none; stroke: #ffff00; stroke-opacity: 0.8; stroke-width: 5\"/>\n    <path d=\"M 466.914114 109.596875 \nL 861.775205 109.596875 \n\" clip-path=\"url(#p46a55b0509)\" style=\"fill: none; stroke: #ffff00; stroke-opacity: 0.8; stroke-width: 5\"/>\n    <path d=\"M 466.914114 81.596875 \nL 898.704659 81.596875 \n\" clip-path=\"url(#p46a55b0509)\" style=\"fill: none; stroke: #008000; stroke-opacity: 0.8; stroke-width: 5\"/>\n    <path d=\"M 466.914114 53.596875 \nL 898.704659 53.596875 \n\" clip-path=\"url(#p46a55b0509)\" style=\"fill: none; stroke: #32cd32; stroke-opacity: 0.8; stroke-width: 5\"/>\n   </g>\n   <g id=\"patch_3\">\n    <path d=\"M 153.01375 582.796875 \nL 153.01375 28.396875 \n\" style=\"fill: none; stroke: #ffffff; stroke-width: 0.8; stroke-linejoin: miter; stroke-linecap: square\"/>\n   </g>\n   <g id=\"patch_4\">\n    <path d=\"M 934.21375 582.796875 \nL 934.21375 28.396875 \n\" style=\"fill: none; stroke: #ffffff; stroke-width: 0.8; stroke-linejoin: miter; stroke-linecap: square\"/>\n   </g>\n   <g id=\"patch_5\">\n    <path d=\"M 153.01375 582.796875 \nL 934.21375 582.796875 \n\" style=\"fill: none; stroke: #ffffff; stroke-width: 0.8; stroke-linejoin: miter; stroke-linecap: square\"/>\n   </g>\n   <g id=\"patch_6\">\n    <path d=\"M 153.01375 28.396875 \nL 934.21375 28.396875 \n\" style=\"fill: none; stroke: #ffffff; stroke-width: 0.8; stroke-linejoin: miter; stroke-linecap: square\"/>\n   </g>\n   <g id=\"text_28\">\n    <!-- Expected assists per 90 -->\n    <g style=\"fill: #ffffff\" transform=\"translate(424.418437 22.396875)scale(0.2 -0.2)\">\n     <use xlink:href=\"#DejaVuSans-45\"/>\n     <use xlink:href=\"#DejaVuSans-78\" x=\"63.183594\"/>\n     <use xlink:href=\"#DejaVuSans-70\" x=\"122.363281\"/>\n     <use xlink:href=\"#DejaVuSans-65\" x=\"185.839844\"/>\n     <use xlink:href=\"#DejaVuSans-63\" x=\"247.363281\"/>\n     <use xlink:href=\"#DejaVuSans-74\" x=\"302.34375\"/>\n     <use xlink:href=\"#DejaVuSans-65\" x=\"341.552734\"/>\n     <use xlink:href=\"#DejaVuSans-64\" x=\"403.076172\"/>\n     <use xlink:href=\"#DejaVuSans-20\" x=\"466.552734\"/>\n     <use xlink:href=\"#DejaVuSans-61\" x=\"498.339844\"/>\n     <use xlink:href=\"#DejaVuSans-73\" x=\"559.619141\"/>\n     <use xlink:href=\"#DejaVuSans-73\" x=\"611.71875\"/>\n     <use xlink:href=\"#DejaVuSans-69\" x=\"663.818359\"/>\n     <use xlink:href=\"#DejaVuSans-73\" x=\"691.601562\"/>\n     <use xlink:href=\"#DejaVuSans-74\" x=\"743.701172\"/>\n     <use xlink:href=\"#DejaVuSans-73\" x=\"782.910156\"/>\n     <use xlink:href=\"#DejaVuSans-20\" x=\"835.009766\"/>\n     <use xlink:href=\"#DejaVuSans-70\" x=\"866.796875\"/>\n     <use xlink:href=\"#DejaVuSans-65\" x=\"930.273438\"/>\n     <use xlink:href=\"#DejaVuSans-72\" x=\"991.796875\"/>\n     <use xlink:href=\"#DejaVuSans-20\" x=\"1032.910156\"/>\n     <use xlink:href=\"#DejaVuSans-39\" x=\"1064.697266\"/>\n     <use xlink:href=\"#DejaVuSans-30\" x=\"1128.320312\"/>\n    </g>\n   </g>\n   <g id=\"legend_1\">\n    <g id=\"patch_7\">\n     <path d=\"M 871.902812 577.796875 \nL 927.21375 577.796875 \nQ 929.21375 577.796875 929.21375 575.796875 \nL 929.21375 444.69375 \nQ 929.21375 442.69375 927.21375 442.69375 \nL 871.902812 442.69375 \nQ 869.902812 442.69375 869.902812 444.69375 \nL 869.902812 575.796875 \nQ 869.902812 577.796875 871.902812 577.796875 \nz\n\" style=\"opacity: 0.8; stroke: #cccccc; stroke-linejoin: miter\"/>\n    </g>\n    <g id=\"line2d_51\">\n     <path d=\"M 873.902812 450.792188 \nL 883.902812 450.792188 \nL 893.902812 450.792188 \n\" style=\"fill: none; stroke: #ff0000; stroke-width: 4; stroke-linecap: square\"/>\n    </g>\n    <g id=\"text_29\">\n     <!-- GK -->\n     <g style=\"fill: #ffffff\" transform=\"translate(901.902812 454.292188)scale(0.1 -0.1)\">\n      <use xlink:href=\"#DejaVuSans-47\"/>\n      <use xlink:href=\"#DejaVuSans-4b\" x=\"77.490234\"/>\n     </g>\n    </g>\n    <g id=\"line2d_52\">\n     <path d=\"M 873.902812 465.470313 \nL 883.902812 465.470313 \nL 893.902812 465.470313 \n\" style=\"fill: none; stroke: #ff4500; stroke-width: 4; stroke-linecap: square\"/>\n    </g>\n    <g id=\"text_30\">\n     <!-- CB -->\n     <g style=\"fill: #ffffff\" transform=\"translate(901.902812 468.970313)scale(0.1 -0.1)\">\n      <use xlink:href=\"#DejaVuSans-43\"/>\n      <use xlink:href=\"#DejaVuSans-42\" x=\"69.824219\"/>\n     </g>\n    </g>\n    <g id=\"line2d_53\">\n     <path d=\"M 873.902812 480.148438 \nL 883.902812 480.148438 \nL 893.902812 480.148438 \n\" style=\"fill: none; stroke: #ff8c00; stroke-width: 4; stroke-linecap: square\"/>\n    </g>\n    <g id=\"text_31\">\n     <!-- LB -->\n     <g style=\"fill: #ffffff\" transform=\"translate(901.902812 483.648438)scale(0.1 -0.1)\">\n      <use xlink:href=\"#DejaVuSans-4c\"/>\n      <use xlink:href=\"#DejaVuSans-42\" x=\"55.712891\"/>\n     </g>\n    </g>\n    <g id=\"line2d_54\">\n     <path d=\"M 873.902812 494.826563 \nL 883.902812 494.826563 \nL 893.902812 494.826563 \n\" style=\"fill: none; stroke: #ff7f50; stroke-width: 4; stroke-linecap: square\"/>\n    </g>\n    <g id=\"text_32\">\n     <!-- RB -->\n     <g style=\"fill: #ffffff\" transform=\"translate(901.902812 498.326563)scale(0.1 -0.1)\">\n      <use xlink:href=\"#DejaVuSans-52\"/>\n      <use xlink:href=\"#DejaVuSans-42\" x=\"69.482422\"/>\n     </g>\n    </g>\n    <g id=\"line2d_55\">\n     <path d=\"M 873.902812 509.504688 \nL 883.902812 509.504688 \nL 893.902812 509.504688 \n\" style=\"fill: none; stroke: #ffd700; stroke-width: 4; stroke-linecap: square\"/>\n    </g>\n    <g id=\"text_33\">\n     <!-- CDM -->\n     <g style=\"fill: #ffffff\" transform=\"translate(901.902812 513.004688)scale(0.1 -0.1)\">\n      <use xlink:href=\"#DejaVuSans-43\"/>\n      <use xlink:href=\"#DejaVuSans-44\" x=\"69.824219\"/>\n      <use xlink:href=\"#DejaVuSans-4d\" x=\"146.826172\"/>\n     </g>\n    </g>\n    <g id=\"line2d_56\">\n     <path d=\"M 873.902812 524.182813 \nL 883.902812 524.182813 \nL 893.902812 524.182813 \n\" style=\"fill: none; stroke: #ffff00; stroke-width: 4; stroke-linecap: square\"/>\n    </g>\n    <g id=\"text_34\">\n     <!-- CM -->\n     <g style=\"fill: #ffffff\" transform=\"translate(901.902812 527.682813)scale(0.1 -0.1)\">\n      <use xlink:href=\"#DejaVuSans-43\"/>\n      <use xlink:href=\"#DejaVuSans-4d\" x=\"69.824219\"/>\n     </g>\n    </g>\n    <g id=\"line2d_57\">\n     <path d=\"M 873.902812 538.860938 \nL 883.902812 538.860938 \nL 893.902812 538.860938 \n\" style=\"fill: none; stroke: #32cd32; stroke-width: 4; stroke-linecap: square\"/>\n    </g>\n    <g id=\"text_35\">\n     <!-- RW -->\n     <g style=\"fill: #ffffff\" transform=\"translate(901.902812 542.360938)scale(0.1 -0.1)\">\n      <defs>\n       <path id=\"DejaVuSans-57\" d=\"M 213 4666 \nL 850 4666 \nL 1831 722 \nL 2809 4666 \nL 3519 4666 \nL 4500 722 \nL 5478 4666 \nL 6119 4666 \nL 4947 0 \nL 4153 0 \nL 3169 4050 \nL 2175 0 \nL 1381 0 \nL 213 4666 \nz\n\" transform=\"scale(0.015625)\"/>\n      </defs>\n      <use xlink:href=\"#DejaVuSans-52\"/>\n      <use xlink:href=\"#DejaVuSans-57\" x=\"65.482422\"/>\n     </g>\n    </g>\n    <g id=\"line2d_58\">\n     <path d=\"M 873.902812 553.539063 \nL 883.902812 553.539063 \nL 893.902812 553.539063 \n\" style=\"fill: none; stroke: #adff2f; stroke-width: 4; stroke-linecap: square\"/>\n    </g>\n    <g id=\"text_36\">\n     <!-- LW -->\n     <g style=\"fill: #ffffff\" transform=\"translate(901.902812 557.039063)scale(0.1 -0.1)\">\n      <use xlink:href=\"#DejaVuSans-4c\"/>\n      <use xlink:href=\"#DejaVuSans-57\" x=\"46.587891\"/>\n     </g>\n    </g>\n    <g id=\"line2d_59\">\n     <path d=\"M 873.902812 568.217188 \nL 883.902812 568.217188 \nL 893.902812 568.217188 \n\" style=\"fill: none; stroke: #008000; stroke-width: 4; stroke-linecap: square\"/>\n    </g>\n    <g id=\"text_37\">\n     <!-- ST -->\n     <g style=\"fill: #ffffff\" transform=\"translate(901.902812 571.717188)scale(0.1 -0.1)\">\n      <defs>\n       <path id=\"DejaVuSans-53\" d=\"M 3425 4513 \nL 3425 3897 \nQ 3066 4069 2747 4153 \nQ 2428 4238 2131 4238 \nQ 1616 4238 1336 4038 \nQ 1056 3838 1056 3469 \nQ 1056 3159 1242 3001 \nQ 1428 2844 1947 2747 \nL 2328 2669 \nQ 3034 2534 3370 2195 \nQ 3706 1856 3706 1288 \nQ 3706 609 3251 259 \nQ 2797 -91 1919 -91 \nQ 1588 -91 1214 -16 \nQ 841 59 441 206 \nL 441 856 \nQ 825 641 1194 531 \nQ 1563 422 1919 422 \nQ 2459 422 2753 634 \nQ 3047 847 3047 1241 \nQ 3047 1584 2836 1778 \nQ 2625 1972 2144 2069 \nL 1759 2144 \nQ 1053 2284 737 2584 \nQ 422 2884 422 3419 \nQ 422 4038 858 4394 \nQ 1294 4750 2059 4750 \nQ 2388 4750 2728 4690 \nQ 3069 4631 3425 4513 \nz\n\" transform=\"scale(0.015625)\"/>\n      </defs>\n      <use xlink:href=\"#DejaVuSans-53\"/>\n      <use xlink:href=\"#DejaVuSans-54\" x=\"63.476562\"/>\n     </g>\n    </g>\n   </g>\n  </g>\n </g>\n <defs>\n  <clipPath id=\"p46a55b0509\">\n   <rect x=\"153.01375\" y=\"28.396875\" width=\"781.2\" height=\"554.4\"/>\n  </clipPath>\n </defs>\n</svg>\n",
      "text/plain": [
       "<Figure size 1120x800 with 1 Axes>"
      ]
     },
     "metadata": {},
     "output_type": "display_data"
    }
   ],
   "source": [
    "diverging_bars('xAp90')"
   ]
  },
  {
   "cell_type": "code",
   "execution_count": 11,
   "metadata": {},
   "outputs": [
    {
     "data": {
      "application/vnd.plotly.v1+json": {
       "config": {
        "plotlyServerURL": "https://plot.ly"
       },
       "data": [
        {
         "customdata": [
          [
           "Álejandro Balde"
          ],
          [
           "Henrik Hahn"
          ]
         ],
         "hovertemplate": "Position=LB<br>Expected assists per 90=%{x}<br>Expected goals per 90=%{y}<br>Minutes played=%{marker.size}<br>Name=%{customdata[0]}<extra></extra>",
         "legendgroup": "LB",
         "marker": {
          "color": "darkorange",
          "size": [
           1004,
           826
          ],
          "sizemode": "area",
          "sizeref": 4.6,
          "symbol": "circle"
         },
         "mode": "markers+text",
         "name": "LB",
         "orientation": "v",
         "showlegend": true,
         "text": [
          "Álejandro Balde",
          "Henrik Hahn"
         ],
         "textposition": "top center",
         "type": "scatter",
         "x": [
          0.45,
          0.54
         ],
         "xaxis": "x",
         "y": [
          0.01,
          0
         ],
         "yaxis": "y"
        },
        {
         "customdata": [
          [
           "Jean-Clair Todibo"
          ],
          [
           "Joško Gvardiol"
          ],
          [
           "Ronald Araujo"
          ]
         ],
         "hovertemplate": "Position=CB<br>Expected assists per 90=%{x}<br>Expected goals per 90=%{y}<br>Minutes played=%{marker.size}<br>Name=%{customdata[0]}<extra></extra>",
         "legendgroup": "CB",
         "marker": {
          "color": "orangered",
          "size": [
           645,
           1484,
           1840
          ],
          "sizemode": "area",
          "sizeref": 4.6,
          "symbol": "circle"
         },
         "mode": "markers+text",
         "name": "CB",
         "orientation": "v",
         "showlegend": true,
         "text": [
          "Jean-Clair Todibo",
          "Joško Gvardiol",
          "Ronald Araujo"
         ],
         "textposition": "top center",
         "type": "scatter",
         "x": [
          0,
          0.02,
          0.07
         ],
         "xaxis": "x",
         "y": [
          0.27,
          0.02,
          0.18
         ],
         "yaxis": "y"
        },
        {
         "customdata": [
          [
           "Reece James"
          ],
          [
           "Brais Verdejo"
          ]
         ],
         "hovertemplate": "Position=RB<br>Expected assists per 90=%{x}<br>Expected goals per 90=%{y}<br>Minutes played=%{marker.size}<br>Name=%{customdata[0]}<extra></extra>",
         "legendgroup": "RB",
         "marker": {
          "color": "coral",
          "size": [
           1149,
           801
          ],
          "sizemode": "area",
          "sizeref": 4.6,
          "symbol": "circle"
         },
         "mode": "markers+text",
         "name": "RB",
         "orientation": "v",
         "showlegend": true,
         "text": [
          "Reece James",
          "Brais Verdejo"
         ],
         "textposition": "top center",
         "type": "scatter",
         "x": [
          0.64,
          0.6
         ],
         "xaxis": "x",
         "y": [
          0.12,
          0.08
         ],
         "yaxis": "y"
        },
        {
         "customdata": [
          [
           "Aurélien Tchouaméni"
          ],
          [
           "Nico González"
          ]
         ],
         "hovertemplate": "Position=CDM<br>Expected assists per 90=%{x}<br>Expected goals per 90=%{y}<br>Minutes played=%{marker.size}<br>Name=%{customdata[0]}<extra></extra>",
         "legendgroup": "CDM",
         "marker": {
          "color": "gold",
          "size": [
           1018,
           920
          ],
          "sizemode": "area",
          "sizeref": 4.6,
          "symbol": "circle"
         },
         "mode": "markers+text",
         "name": "CDM",
         "orientation": "v",
         "showlegend": true,
         "text": [
          "Aurélien Tchouaméni",
          "Nico González"
         ],
         "textposition": "top center",
         "type": "scatter",
         "x": [
          1.2,
          0.98
         ],
         "xaxis": "x",
         "y": [
          0.14,
          0.06
         ],
         "yaxis": "y"
        },
        {
         "customdata": [
          [
           "Luciano Couto"
          ],
          [
           "Pablo Gavi"
          ],
          [
           "Pedri"
          ],
          [
           "Frenkie de Jong"
          ]
         ],
         "hovertemplate": "Position=CM<br>Expected assists per 90=%{x}<br>Expected goals per 90=%{y}<br>Minutes played=%{marker.size}<br>Name=%{customdata[0]}<extra></extra>",
         "legendgroup": "CM",
         "marker": {
          "color": "yellow",
          "size": [
           582,
           930,
           1135,
           1191
          ],
          "sizemode": "area",
          "sizeref": 4.6,
          "symbol": "circle"
         },
         "mode": "markers+text",
         "name": "CM",
         "orientation": "v",
         "showlegend": true,
         "text": [
          "Luciano Couto",
          "Pablo Gavi",
          "Pedri",
          "Frenkie de Jong"
         ],
         "textposition": "top center",
         "type": "scatter",
         "x": [
          1.89,
          1.76,
          2.39,
          1.81
         ],
         "xaxis": "x",
         "y": [
          1.14,
          1.04,
          0.9,
          0.91
         ],
         "yaxis": "y"
        },
        {
         "customdata": [
          [
           "Felix Davey"
          ],
          [
           "Noni Madueke"
          ]
         ],
         "hovertemplate": "Position=LW<br>Expected assists per 90=%{x}<br>Expected goals per 90=%{y}<br>Minutes played=%{marker.size}<br>Name=%{customdata[0]}<extra></extra>",
         "legendgroup": "LW",
         "marker": {
          "color": "greenyellow",
          "size": [
           776,
           857
          ],
          "sizemode": "area",
          "sizeref": 4.6,
          "symbol": "circle"
         },
         "mode": "markers+text",
         "name": "LW",
         "orientation": "v",
         "showlegend": true,
         "text": [
          "Felix Davey",
          "Noni Madueke"
         ],
         "textposition": "top center",
         "type": "scatter",
         "x": [
          1.73,
          1.03
         ],
         "xaxis": "x",
         "y": [
          0.7,
          0.81
         ],
         "yaxis": "y"
        },
        {
         "customdata": [
          [
           "Ansu Fati"
          ],
          [
           "Ferran Torres"
          ]
         ],
         "hovertemplate": "Position=RW<br>Expected assists per 90=%{x}<br>Expected goals per 90=%{y}<br>Minutes played=%{marker.size}<br>Name=%{customdata[0]}<extra></extra>",
         "legendgroup": "RW",
         "marker": {
          "color": "limegreen",
          "size": [
           1009,
           904
          ],
          "sizemode": "area",
          "sizeref": 4.6,
          "symbol": "circle"
         },
         "mode": "markers+text",
         "name": "RW",
         "orientation": "v",
         "showlegend": true,
         "text": [
          "Ansu Fati",
          "Ferran Torres"
         ],
         "textposition": "top center",
         "type": "scatter",
         "x": [
          2.52,
          1.89
         ],
         "xaxis": "x",
         "y": [
          0.87,
          0.87
         ],
         "yaxis": "y"
        },
        {
         "customdata": [
          [
           "Muhamed Zukic"
          ],
          [
           "Karim Adeyemi"
          ],
          [
           "Victor Osimhen"
          ]
         ],
         "hovertemplate": "Position=ST<br>Expected assists per 90=%{x}<br>Expected goals per 90=%{y}<br>Minutes played=%{marker.size}<br>Name=%{customdata[0]}<extra></extra>",
         "legendgroup": "ST",
         "marker": {
          "color": "green",
          "size": [
           279,
           744,
           1237
          ],
          "sizemode": "area",
          "sizeref": 4.6,
          "symbol": "circle"
         },
         "mode": "markers+text",
         "name": "ST",
         "orientation": "v",
         "showlegend": true,
         "text": [
          "Muhamed Zukic",
          "Karim Adeyemi",
          "Victor Osimhen"
         ],
         "textposition": "top center",
         "type": "scatter",
         "x": [
          1.48,
          2.52,
          1.54
         ],
         "xaxis": "x",
         "y": [
          2.06,
          2.25,
          3.56
         ],
         "yaxis": "y"
        }
       ],
       "layout": {
        "annotations": [
         {
          "showarrow": false,
          "text": "Size of data point - Minutes played",
          "x": 1,
          "xanchor": "right",
          "xref": "paper",
          "xshift": 0,
          "y": -0.1,
          "yanchor": "auto",
          "yref": "paper",
          "yshift": 0
         }
        ],
        "height": 800,
        "legend": {
         "itemsizing": "constant",
         "title": {
          "text": "Position"
         },
         "tracegroupgap": 0
        },
        "margin": {
         "t": 60
        },
        "template": {
         "data": {
          "bar": [
           {
            "error_x": {
             "color": "#2a3f5f"
            },
            "error_y": {
             "color": "#2a3f5f"
            },
            "marker": {
             "line": {
              "color": "#E5ECF6",
              "width": 0.5
             },
             "pattern": {
              "fillmode": "overlay",
              "size": 10,
              "solidity": 0.2
             }
            },
            "type": "bar"
           }
          ],
          "barpolar": [
           {
            "marker": {
             "line": {
              "color": "#E5ECF6",
              "width": 0.5
             },
             "pattern": {
              "fillmode": "overlay",
              "size": 10,
              "solidity": 0.2
             }
            },
            "type": "barpolar"
           }
          ],
          "carpet": [
           {
            "aaxis": {
             "endlinecolor": "#2a3f5f",
             "gridcolor": "white",
             "linecolor": "white",
             "minorgridcolor": "white",
             "startlinecolor": "#2a3f5f"
            },
            "baxis": {
             "endlinecolor": "#2a3f5f",
             "gridcolor": "white",
             "linecolor": "white",
             "minorgridcolor": "white",
             "startlinecolor": "#2a3f5f"
            },
            "type": "carpet"
           }
          ],
          "choropleth": [
           {
            "colorbar": {
             "outlinewidth": 0,
             "ticks": ""
            },
            "type": "choropleth"
           }
          ],
          "contour": [
           {
            "colorbar": {
             "outlinewidth": 0,
             "ticks": ""
            },
            "colorscale": [
             [
              0,
              "#0d0887"
             ],
             [
              0.1111111111111111,
              "#46039f"
             ],
             [
              0.2222222222222222,
              "#7201a8"
             ],
             [
              0.3333333333333333,
              "#9c179e"
             ],
             [
              0.4444444444444444,
              "#bd3786"
             ],
             [
              0.5555555555555556,
              "#d8576b"
             ],
             [
              0.6666666666666666,
              "#ed7953"
             ],
             [
              0.7777777777777778,
              "#fb9f3a"
             ],
             [
              0.8888888888888888,
              "#fdca26"
             ],
             [
              1,
              "#f0f921"
             ]
            ],
            "type": "contour"
           }
          ],
          "contourcarpet": [
           {
            "colorbar": {
             "outlinewidth": 0,
             "ticks": ""
            },
            "type": "contourcarpet"
           }
          ],
          "heatmap": [
           {
            "colorbar": {
             "outlinewidth": 0,
             "ticks": ""
            },
            "colorscale": [
             [
              0,
              "#0d0887"
             ],
             [
              0.1111111111111111,
              "#46039f"
             ],
             [
              0.2222222222222222,
              "#7201a8"
             ],
             [
              0.3333333333333333,
              "#9c179e"
             ],
             [
              0.4444444444444444,
              "#bd3786"
             ],
             [
              0.5555555555555556,
              "#d8576b"
             ],
             [
              0.6666666666666666,
              "#ed7953"
             ],
             [
              0.7777777777777778,
              "#fb9f3a"
             ],
             [
              0.8888888888888888,
              "#fdca26"
             ],
             [
              1,
              "#f0f921"
             ]
            ],
            "type": "heatmap"
           }
          ],
          "heatmapgl": [
           {
            "colorbar": {
             "outlinewidth": 0,
             "ticks": ""
            },
            "colorscale": [
             [
              0,
              "#0d0887"
             ],
             [
              0.1111111111111111,
              "#46039f"
             ],
             [
              0.2222222222222222,
              "#7201a8"
             ],
             [
              0.3333333333333333,
              "#9c179e"
             ],
             [
              0.4444444444444444,
              "#bd3786"
             ],
             [
              0.5555555555555556,
              "#d8576b"
             ],
             [
              0.6666666666666666,
              "#ed7953"
             ],
             [
              0.7777777777777778,
              "#fb9f3a"
             ],
             [
              0.8888888888888888,
              "#fdca26"
             ],
             [
              1,
              "#f0f921"
             ]
            ],
            "type": "heatmapgl"
           }
          ],
          "histogram": [
           {
            "marker": {
             "pattern": {
              "fillmode": "overlay",
              "size": 10,
              "solidity": 0.2
             }
            },
            "type": "histogram"
           }
          ],
          "histogram2d": [
           {
            "colorbar": {
             "outlinewidth": 0,
             "ticks": ""
            },
            "colorscale": [
             [
              0,
              "#0d0887"
             ],
             [
              0.1111111111111111,
              "#46039f"
             ],
             [
              0.2222222222222222,
              "#7201a8"
             ],
             [
              0.3333333333333333,
              "#9c179e"
             ],
             [
              0.4444444444444444,
              "#bd3786"
             ],
             [
              0.5555555555555556,
              "#d8576b"
             ],
             [
              0.6666666666666666,
              "#ed7953"
             ],
             [
              0.7777777777777778,
              "#fb9f3a"
             ],
             [
              0.8888888888888888,
              "#fdca26"
             ],
             [
              1,
              "#f0f921"
             ]
            ],
            "type": "histogram2d"
           }
          ],
          "histogram2dcontour": [
           {
            "colorbar": {
             "outlinewidth": 0,
             "ticks": ""
            },
            "colorscale": [
             [
              0,
              "#0d0887"
             ],
             [
              0.1111111111111111,
              "#46039f"
             ],
             [
              0.2222222222222222,
              "#7201a8"
             ],
             [
              0.3333333333333333,
              "#9c179e"
             ],
             [
              0.4444444444444444,
              "#bd3786"
             ],
             [
              0.5555555555555556,
              "#d8576b"
             ],
             [
              0.6666666666666666,
              "#ed7953"
             ],
             [
              0.7777777777777778,
              "#fb9f3a"
             ],
             [
              0.8888888888888888,
              "#fdca26"
             ],
             [
              1,
              "#f0f921"
             ]
            ],
            "type": "histogram2dcontour"
           }
          ],
          "mesh3d": [
           {
            "colorbar": {
             "outlinewidth": 0,
             "ticks": ""
            },
            "type": "mesh3d"
           }
          ],
          "parcoords": [
           {
            "line": {
             "colorbar": {
              "outlinewidth": 0,
              "ticks": ""
             }
            },
            "type": "parcoords"
           }
          ],
          "pie": [
           {
            "automargin": true,
            "type": "pie"
           }
          ],
          "scatter": [
           {
            "fillpattern": {
             "fillmode": "overlay",
             "size": 10,
             "solidity": 0.2
            },
            "type": "scatter"
           }
          ],
          "scatter3d": [
           {
            "line": {
             "colorbar": {
              "outlinewidth": 0,
              "ticks": ""
             }
            },
            "marker": {
             "colorbar": {
              "outlinewidth": 0,
              "ticks": ""
             }
            },
            "type": "scatter3d"
           }
          ],
          "scattercarpet": [
           {
            "marker": {
             "colorbar": {
              "outlinewidth": 0,
              "ticks": ""
             }
            },
            "type": "scattercarpet"
           }
          ],
          "scattergeo": [
           {
            "marker": {
             "colorbar": {
              "outlinewidth": 0,
              "ticks": ""
             }
            },
            "type": "scattergeo"
           }
          ],
          "scattergl": [
           {
            "marker": {
             "colorbar": {
              "outlinewidth": 0,
              "ticks": ""
             }
            },
            "type": "scattergl"
           }
          ],
          "scattermapbox": [
           {
            "marker": {
             "colorbar": {
              "outlinewidth": 0,
              "ticks": ""
             }
            },
            "type": "scattermapbox"
           }
          ],
          "scatterpolar": [
           {
            "marker": {
             "colorbar": {
              "outlinewidth": 0,
              "ticks": ""
             }
            },
            "type": "scatterpolar"
           }
          ],
          "scatterpolargl": [
           {
            "marker": {
             "colorbar": {
              "outlinewidth": 0,
              "ticks": ""
             }
            },
            "type": "scatterpolargl"
           }
          ],
          "scatterternary": [
           {
            "marker": {
             "colorbar": {
              "outlinewidth": 0,
              "ticks": ""
             }
            },
            "type": "scatterternary"
           }
          ],
          "surface": [
           {
            "colorbar": {
             "outlinewidth": 0,
             "ticks": ""
            },
            "colorscale": [
             [
              0,
              "#0d0887"
             ],
             [
              0.1111111111111111,
              "#46039f"
             ],
             [
              0.2222222222222222,
              "#7201a8"
             ],
             [
              0.3333333333333333,
              "#9c179e"
             ],
             [
              0.4444444444444444,
              "#bd3786"
             ],
             [
              0.5555555555555556,
              "#d8576b"
             ],
             [
              0.6666666666666666,
              "#ed7953"
             ],
             [
              0.7777777777777778,
              "#fb9f3a"
             ],
             [
              0.8888888888888888,
              "#fdca26"
             ],
             [
              1,
              "#f0f921"
             ]
            ],
            "type": "surface"
           }
          ],
          "table": [
           {
            "cells": {
             "fill": {
              "color": "#EBF0F8"
             },
             "line": {
              "color": "white"
             }
            },
            "header": {
             "fill": {
              "color": "#C8D4E3"
             },
             "line": {
              "color": "white"
             }
            },
            "type": "table"
           }
          ]
         },
         "layout": {
          "annotationdefaults": {
           "arrowcolor": "#2a3f5f",
           "arrowhead": 0,
           "arrowwidth": 1
          },
          "autotypenumbers": "strict",
          "coloraxis": {
           "colorbar": {
            "outlinewidth": 0,
            "ticks": ""
           }
          },
          "colorscale": {
           "diverging": [
            [
             0,
             "#8e0152"
            ],
            [
             0.1,
             "#c51b7d"
            ],
            [
             0.2,
             "#de77ae"
            ],
            [
             0.3,
             "#f1b6da"
            ],
            [
             0.4,
             "#fde0ef"
            ],
            [
             0.5,
             "#f7f7f7"
            ],
            [
             0.6,
             "#e6f5d0"
            ],
            [
             0.7,
             "#b8e186"
            ],
            [
             0.8,
             "#7fbc41"
            ],
            [
             0.9,
             "#4d9221"
            ],
            [
             1,
             "#276419"
            ]
           ],
           "sequential": [
            [
             0,
             "#0d0887"
            ],
            [
             0.1111111111111111,
             "#46039f"
            ],
            [
             0.2222222222222222,
             "#7201a8"
            ],
            [
             0.3333333333333333,
             "#9c179e"
            ],
            [
             0.4444444444444444,
             "#bd3786"
            ],
            [
             0.5555555555555556,
             "#d8576b"
            ],
            [
             0.6666666666666666,
             "#ed7953"
            ],
            [
             0.7777777777777778,
             "#fb9f3a"
            ],
            [
             0.8888888888888888,
             "#fdca26"
            ],
            [
             1,
             "#f0f921"
            ]
           ],
           "sequentialminus": [
            [
             0,
             "#0d0887"
            ],
            [
             0.1111111111111111,
             "#46039f"
            ],
            [
             0.2222222222222222,
             "#7201a8"
            ],
            [
             0.3333333333333333,
             "#9c179e"
            ],
            [
             0.4444444444444444,
             "#bd3786"
            ],
            [
             0.5555555555555556,
             "#d8576b"
            ],
            [
             0.6666666666666666,
             "#ed7953"
            ],
            [
             0.7777777777777778,
             "#fb9f3a"
            ],
            [
             0.8888888888888888,
             "#fdca26"
            ],
            [
             1,
             "#f0f921"
            ]
           ]
          },
          "colorway": [
           "#636efa",
           "#EF553B",
           "#00cc96",
           "#ab63fa",
           "#FFA15A",
           "#19d3f3",
           "#FF6692",
           "#B6E880",
           "#FF97FF",
           "#FECB52"
          ],
          "font": {
           "color": "#2a3f5f"
          },
          "geo": {
           "bgcolor": "white",
           "lakecolor": "white",
           "landcolor": "#E5ECF6",
           "showlakes": true,
           "showland": true,
           "subunitcolor": "white"
          },
          "hoverlabel": {
           "align": "left"
          },
          "hovermode": "closest",
          "mapbox": {
           "style": "light"
          },
          "paper_bgcolor": "white",
          "plot_bgcolor": "#E5ECF6",
          "polar": {
           "angularaxis": {
            "gridcolor": "white",
            "linecolor": "white",
            "ticks": ""
           },
           "bgcolor": "#E5ECF6",
           "radialaxis": {
            "gridcolor": "white",
            "linecolor": "white",
            "ticks": ""
           }
          },
          "scene": {
           "xaxis": {
            "backgroundcolor": "#E5ECF6",
            "gridcolor": "white",
            "gridwidth": 2,
            "linecolor": "white",
            "showbackground": true,
            "ticks": "",
            "zerolinecolor": "white"
           },
           "yaxis": {
            "backgroundcolor": "#E5ECF6",
            "gridcolor": "white",
            "gridwidth": 2,
            "linecolor": "white",
            "showbackground": true,
            "ticks": "",
            "zerolinecolor": "white"
           },
           "zaxis": {
            "backgroundcolor": "#E5ECF6",
            "gridcolor": "white",
            "gridwidth": 2,
            "linecolor": "white",
            "showbackground": true,
            "ticks": "",
            "zerolinecolor": "white"
           }
          },
          "shapedefaults": {
           "line": {
            "color": "#2a3f5f"
           }
          },
          "ternary": {
           "aaxis": {
            "gridcolor": "white",
            "linecolor": "white",
            "ticks": ""
           },
           "baxis": {
            "gridcolor": "white",
            "linecolor": "white",
            "ticks": ""
           },
           "bgcolor": "#E5ECF6",
           "caxis": {
            "gridcolor": "white",
            "linecolor": "white",
            "ticks": ""
           }
          },
          "title": {
           "x": 0.05
          },
          "xaxis": {
           "automargin": true,
           "gridcolor": "white",
           "linecolor": "white",
           "ticks": "",
           "title": {
            "standoff": 15
           },
           "zerolinecolor": "white",
           "zerolinewidth": 2
          },
          "yaxis": {
           "automargin": true,
           "gridcolor": "white",
           "linecolor": "white",
           "ticks": "",
           "title": {
            "standoff": 15
           },
           "zerolinecolor": "white",
           "zerolinewidth": 2
          }
         }
        },
        "title": {
         "text": "Expected assists per 90 vs Expected goals per 90"
        },
        "width": 800,
        "xaxis": {
         "anchor": "y",
         "domain": [
          0,
          1
         ],
         "dtick": 0.5,
         "scaleanchor": "y",
         "scaleratio": 1,
         "tick0": 0,
         "ticklabelstep": 2,
         "title": {
          "text": "Expected assists per 90"
         },
         "zeroline": true,
         "zerolinecolor": "Black",
         "zerolinewidth": 2
        },
        "yaxis": {
         "anchor": "x",
         "domain": [
          0,
          1
         ],
         "dtick": 0.5,
         "scaleanchor": "x",
         "scaleratio": 1,
         "tick0": 0,
         "ticklabelstep": 2,
         "title": {
          "text": "Expected goals per 90"
         },
         "zeroline": true,
         "zerolinecolor": "Black",
         "zerolinewidth": 2
        }
       }
      }
     },
     "metadata": {},
     "output_type": "display_data"
    },
    {
     "data": {
      "application/vnd.plotly.v1+json": {
       "config": {
        "plotlyServerURL": "https://plot.ly"
       },
       "data": [
        {
         "customdata": [
          [
           "Álejandro Balde"
          ],
          [
           "Henrik Hahn"
          ]
         ],
         "hovertemplate": "Position=LB<br>Possession won per 90=%{x}<br>Possession lost per 90=%{y}<br>Minutes played=%{marker.size}<br>Name=%{customdata[0]}<extra></extra>",
         "legendgroup": "LB",
         "marker": {
          "color": "darkorange",
          "size": [
           1004,
           826
          ],
          "sizemode": "area",
          "sizeref": 4.6,
          "symbol": "circle"
         },
         "mode": "markers+text",
         "name": "LB",
         "orientation": "v",
         "showlegend": true,
         "text": [
          "Álejandro Balde",
          "Henrik Hahn"
         ],
         "textposition": "top center",
         "type": "scatter",
         "x": [
          2.42,
          2.62
         ],
         "xaxis": "x",
         "y": [
          0.99,
          0.87
         ],
         "yaxis": "y"
        },
        {
         "customdata": [
          [
           "Jean-Clair Todibo"
          ],
          [
           "Joško Gvardiol"
          ],
          [
           "Ronald Araujo"
          ]
         ],
         "hovertemplate": "Position=CB<br>Possession won per 90=%{x}<br>Possession lost per 90=%{y}<br>Minutes played=%{marker.size}<br>Name=%{customdata[0]}<extra></extra>",
         "legendgroup": "CB",
         "marker": {
          "color": "orangered",
          "size": [
           645,
           1484,
           1840
          ],
          "sizemode": "area",
          "sizeref": 4.6,
          "symbol": "circle"
         },
         "mode": "markers+text",
         "name": "CB",
         "orientation": "v",
         "showlegend": true,
         "text": [
          "Jean-Clair Todibo",
          "Joško Gvardiol",
          "Ronald Araujo"
         ],
         "textposition": "top center",
         "type": "scatter",
         "x": [
          3.35,
          3.58,
          4.7
         ],
         "xaxis": "x",
         "y": [
          0.7,
          0.3,
          0.49
         ],
         "yaxis": "y"
        },
        {
         "customdata": [
          [
           "Reece James"
          ],
          [
           "Brais Verdejo"
          ]
         ],
         "hovertemplate": "Position=RB<br>Possession won per 90=%{x}<br>Possession lost per 90=%{y}<br>Minutes played=%{marker.size}<br>Name=%{customdata[0]}<extra></extra>",
         "legendgroup": "RB",
         "marker": {
          "color": "coral",
          "size": [
           1149,
           801
          ],
          "sizemode": "area",
          "sizeref": 4.6,
          "symbol": "circle"
         },
         "mode": "markers+text",
         "name": "RB",
         "orientation": "v",
         "showlegend": true,
         "text": [
          "Reece James",
          "Brais Verdejo"
         ],
         "textposition": "top center",
         "type": "scatter",
         "x": [
          2.9,
          4.04
         ],
         "xaxis": "x",
         "y": [
          1.17,
          1.46
         ],
         "yaxis": "y"
        },
        {
         "customdata": [
          [
           "Aurélien Tchouaméni"
          ],
          [
           "Nico González"
          ]
         ],
         "hovertemplate": "Position=CDM<br>Possession won per 90=%{x}<br>Possession lost per 90=%{y}<br>Minutes played=%{marker.size}<br>Name=%{customdata[0]}<extra></extra>",
         "legendgroup": "CDM",
         "marker": {
          "color": "gold",
          "size": [
           1018,
           920
          ],
          "sizemode": "area",
          "sizeref": 4.6,
          "symbol": "circle"
         },
         "mode": "markers+text",
         "name": "CDM",
         "orientation": "v",
         "showlegend": true,
         "text": [
          "Aurélien Tchouaméni",
          "Nico González"
         ],
         "textposition": "top center",
         "type": "scatter",
         "x": [
          2.3,
          3.62
         ],
         "xaxis": "x",
         "y": [
          1.06,
          1.37
         ],
         "yaxis": "y"
        },
        {
         "customdata": [
          [
           "Luciano Couto"
          ],
          [
           "Pablo Gavi"
          ],
          [
           "Pedri"
          ],
          [
           "Frenkie de Jong"
          ]
         ],
         "hovertemplate": "Position=CM<br>Possession won per 90=%{x}<br>Possession lost per 90=%{y}<br>Minutes played=%{marker.size}<br>Name=%{customdata[0]}<extra></extra>",
         "legendgroup": "CM",
         "marker": {
          "color": "yellow",
          "size": [
           582,
           930,
           1135,
           1191
          ],
          "sizemode": "area",
          "sizeref": 4.6,
          "symbol": "circle"
         },
         "mode": "markers+text",
         "name": "CM",
         "orientation": "v",
         "showlegend": true,
         "text": [
          "Luciano Couto",
          "Pablo Gavi",
          "Pedri",
          "Frenkie de Jong"
         ],
         "textposition": "top center",
         "type": "scatter",
         "x": [
          1.7,
          1.35,
          1.35,
          2.72
         ],
         "xaxis": "x",
         "y": [
          3.25,
          2.71,
          2.38,
          2.57
         ],
         "yaxis": "y"
        },
        {
         "customdata": [
          [
           "Felix Davey"
          ],
          [
           "Noni Madueke"
          ]
         ],
         "hovertemplate": "Position=LW<br>Possession won per 90=%{x}<br>Possession lost per 90=%{y}<br>Minutes played=%{marker.size}<br>Name=%{customdata[0]}<extra></extra>",
         "legendgroup": "LW",
         "marker": {
          "color": "greenyellow",
          "size": [
           776,
           857
          ],
          "sizemode": "area",
          "sizeref": 4.6,
          "symbol": "circle"
         },
         "mode": "markers+text",
         "name": "LW",
         "orientation": "v",
         "showlegend": true,
         "text": [
          "Felix Davey",
          "Noni Madueke"
         ],
         "textposition": "top center",
         "type": "scatter",
         "x": [
          1.16,
          1.16
         ],
         "xaxis": "x",
         "y": [
          3.36,
          2.52
         ],
         "yaxis": "y"
        },
        {
         "customdata": [
          [
           "Ansu Fati"
          ],
          [
           "Ferran Torres"
          ]
         ],
         "hovertemplate": "Position=RW<br>Possession won per 90=%{x}<br>Possession lost per 90=%{y}<br>Minutes played=%{marker.size}<br>Name=%{customdata[0]}<extra></extra>",
         "legendgroup": "RW",
         "marker": {
          "color": "limegreen",
          "size": [
           1009,
           904
          ],
          "sizemode": "area",
          "sizeref": 4.6,
          "symbol": "circle"
         },
         "mode": "markers+text",
         "name": "RW",
         "orientation": "v",
         "showlegend": true,
         "text": [
          "Ansu Fati",
          "Ferran Torres"
         ],
         "textposition": "top center",
         "type": "scatter",
         "x": [
          1.25,
          0.5
         ],
         "xaxis": "x",
         "y": [
          3.75,
          2.29
         ],
         "yaxis": "y"
        },
        {
         "customdata": [
          [
           "Muhamed Zukic"
          ],
          [
           "Karim Adeyemi"
          ],
          [
           "Victor Osimhen"
          ]
         ],
         "hovertemplate": "Position=ST<br>Possession won per 90=%{x}<br>Possession lost per 90=%{y}<br>Minutes played=%{marker.size}<br>Name=%{customdata[0]}<extra></extra>",
         "legendgroup": "ST",
         "marker": {
          "color": "green",
          "size": [
           279,
           744,
           1237
          ],
          "sizemode": "area",
          "sizeref": 4.6,
          "symbol": "circle"
         },
         "mode": "markers+text",
         "name": "ST",
         "orientation": "v",
         "showlegend": true,
         "text": [
          "Muhamed Zukic",
          "Karim Adeyemi",
          "Victor Osimhen"
         ],
         "textposition": "top center",
         "type": "scatter",
         "x": [
          0,
          0.85,
          0.73
         ],
         "xaxis": "x",
         "y": [
          4.19,
          4.23,
          5.53
         ],
         "yaxis": "y"
        }
       ],
       "layout": {
        "annotations": [
         {
          "showarrow": false,
          "text": "Size of data point - Minutes played",
          "x": 1,
          "xanchor": "right",
          "xref": "paper",
          "xshift": 0,
          "y": -0.1,
          "yanchor": "auto",
          "yref": "paper",
          "yshift": 0
         }
        ],
        "height": 800,
        "legend": {
         "itemsizing": "constant",
         "title": {
          "text": "Position"
         },
         "tracegroupgap": 0
        },
        "margin": {
         "t": 60
        },
        "template": {
         "data": {
          "bar": [
           {
            "error_x": {
             "color": "#2a3f5f"
            },
            "error_y": {
             "color": "#2a3f5f"
            },
            "marker": {
             "line": {
              "color": "#E5ECF6",
              "width": 0.5
             },
             "pattern": {
              "fillmode": "overlay",
              "size": 10,
              "solidity": 0.2
             }
            },
            "type": "bar"
           }
          ],
          "barpolar": [
           {
            "marker": {
             "line": {
              "color": "#E5ECF6",
              "width": 0.5
             },
             "pattern": {
              "fillmode": "overlay",
              "size": 10,
              "solidity": 0.2
             }
            },
            "type": "barpolar"
           }
          ],
          "carpet": [
           {
            "aaxis": {
             "endlinecolor": "#2a3f5f",
             "gridcolor": "white",
             "linecolor": "white",
             "minorgridcolor": "white",
             "startlinecolor": "#2a3f5f"
            },
            "baxis": {
             "endlinecolor": "#2a3f5f",
             "gridcolor": "white",
             "linecolor": "white",
             "minorgridcolor": "white",
             "startlinecolor": "#2a3f5f"
            },
            "type": "carpet"
           }
          ],
          "choropleth": [
           {
            "colorbar": {
             "outlinewidth": 0,
             "ticks": ""
            },
            "type": "choropleth"
           }
          ],
          "contour": [
           {
            "colorbar": {
             "outlinewidth": 0,
             "ticks": ""
            },
            "colorscale": [
             [
              0,
              "#0d0887"
             ],
             [
              0.1111111111111111,
              "#46039f"
             ],
             [
              0.2222222222222222,
              "#7201a8"
             ],
             [
              0.3333333333333333,
              "#9c179e"
             ],
             [
              0.4444444444444444,
              "#bd3786"
             ],
             [
              0.5555555555555556,
              "#d8576b"
             ],
             [
              0.6666666666666666,
              "#ed7953"
             ],
             [
              0.7777777777777778,
              "#fb9f3a"
             ],
             [
              0.8888888888888888,
              "#fdca26"
             ],
             [
              1,
              "#f0f921"
             ]
            ],
            "type": "contour"
           }
          ],
          "contourcarpet": [
           {
            "colorbar": {
             "outlinewidth": 0,
             "ticks": ""
            },
            "type": "contourcarpet"
           }
          ],
          "heatmap": [
           {
            "colorbar": {
             "outlinewidth": 0,
             "ticks": ""
            },
            "colorscale": [
             [
              0,
              "#0d0887"
             ],
             [
              0.1111111111111111,
              "#46039f"
             ],
             [
              0.2222222222222222,
              "#7201a8"
             ],
             [
              0.3333333333333333,
              "#9c179e"
             ],
             [
              0.4444444444444444,
              "#bd3786"
             ],
             [
              0.5555555555555556,
              "#d8576b"
             ],
             [
              0.6666666666666666,
              "#ed7953"
             ],
             [
              0.7777777777777778,
              "#fb9f3a"
             ],
             [
              0.8888888888888888,
              "#fdca26"
             ],
             [
              1,
              "#f0f921"
             ]
            ],
            "type": "heatmap"
           }
          ],
          "heatmapgl": [
           {
            "colorbar": {
             "outlinewidth": 0,
             "ticks": ""
            },
            "colorscale": [
             [
              0,
              "#0d0887"
             ],
             [
              0.1111111111111111,
              "#46039f"
             ],
             [
              0.2222222222222222,
              "#7201a8"
             ],
             [
              0.3333333333333333,
              "#9c179e"
             ],
             [
              0.4444444444444444,
              "#bd3786"
             ],
             [
              0.5555555555555556,
              "#d8576b"
             ],
             [
              0.6666666666666666,
              "#ed7953"
             ],
             [
              0.7777777777777778,
              "#fb9f3a"
             ],
             [
              0.8888888888888888,
              "#fdca26"
             ],
             [
              1,
              "#f0f921"
             ]
            ],
            "type": "heatmapgl"
           }
          ],
          "histogram": [
           {
            "marker": {
             "pattern": {
              "fillmode": "overlay",
              "size": 10,
              "solidity": 0.2
             }
            },
            "type": "histogram"
           }
          ],
          "histogram2d": [
           {
            "colorbar": {
             "outlinewidth": 0,
             "ticks": ""
            },
            "colorscale": [
             [
              0,
              "#0d0887"
             ],
             [
              0.1111111111111111,
              "#46039f"
             ],
             [
              0.2222222222222222,
              "#7201a8"
             ],
             [
              0.3333333333333333,
              "#9c179e"
             ],
             [
              0.4444444444444444,
              "#bd3786"
             ],
             [
              0.5555555555555556,
              "#d8576b"
             ],
             [
              0.6666666666666666,
              "#ed7953"
             ],
             [
              0.7777777777777778,
              "#fb9f3a"
             ],
             [
              0.8888888888888888,
              "#fdca26"
             ],
             [
              1,
              "#f0f921"
             ]
            ],
            "type": "histogram2d"
           }
          ],
          "histogram2dcontour": [
           {
            "colorbar": {
             "outlinewidth": 0,
             "ticks": ""
            },
            "colorscale": [
             [
              0,
              "#0d0887"
             ],
             [
              0.1111111111111111,
              "#46039f"
             ],
             [
              0.2222222222222222,
              "#7201a8"
             ],
             [
              0.3333333333333333,
              "#9c179e"
             ],
             [
              0.4444444444444444,
              "#bd3786"
             ],
             [
              0.5555555555555556,
              "#d8576b"
             ],
             [
              0.6666666666666666,
              "#ed7953"
             ],
             [
              0.7777777777777778,
              "#fb9f3a"
             ],
             [
              0.8888888888888888,
              "#fdca26"
             ],
             [
              1,
              "#f0f921"
             ]
            ],
            "type": "histogram2dcontour"
           }
          ],
          "mesh3d": [
           {
            "colorbar": {
             "outlinewidth": 0,
             "ticks": ""
            },
            "type": "mesh3d"
           }
          ],
          "parcoords": [
           {
            "line": {
             "colorbar": {
              "outlinewidth": 0,
              "ticks": ""
             }
            },
            "type": "parcoords"
           }
          ],
          "pie": [
           {
            "automargin": true,
            "type": "pie"
           }
          ],
          "scatter": [
           {
            "fillpattern": {
             "fillmode": "overlay",
             "size": 10,
             "solidity": 0.2
            },
            "type": "scatter"
           }
          ],
          "scatter3d": [
           {
            "line": {
             "colorbar": {
              "outlinewidth": 0,
              "ticks": ""
             }
            },
            "marker": {
             "colorbar": {
              "outlinewidth": 0,
              "ticks": ""
             }
            },
            "type": "scatter3d"
           }
          ],
          "scattercarpet": [
           {
            "marker": {
             "colorbar": {
              "outlinewidth": 0,
              "ticks": ""
             }
            },
            "type": "scattercarpet"
           }
          ],
          "scattergeo": [
           {
            "marker": {
             "colorbar": {
              "outlinewidth": 0,
              "ticks": ""
             }
            },
            "type": "scattergeo"
           }
          ],
          "scattergl": [
           {
            "marker": {
             "colorbar": {
              "outlinewidth": 0,
              "ticks": ""
             }
            },
            "type": "scattergl"
           }
          ],
          "scattermapbox": [
           {
            "marker": {
             "colorbar": {
              "outlinewidth": 0,
              "ticks": ""
             }
            },
            "type": "scattermapbox"
           }
          ],
          "scatterpolar": [
           {
            "marker": {
             "colorbar": {
              "outlinewidth": 0,
              "ticks": ""
             }
            },
            "type": "scatterpolar"
           }
          ],
          "scatterpolargl": [
           {
            "marker": {
             "colorbar": {
              "outlinewidth": 0,
              "ticks": ""
             }
            },
            "type": "scatterpolargl"
           }
          ],
          "scatterternary": [
           {
            "marker": {
             "colorbar": {
              "outlinewidth": 0,
              "ticks": ""
             }
            },
            "type": "scatterternary"
           }
          ],
          "surface": [
           {
            "colorbar": {
             "outlinewidth": 0,
             "ticks": ""
            },
            "colorscale": [
             [
              0,
              "#0d0887"
             ],
             [
              0.1111111111111111,
              "#46039f"
             ],
             [
              0.2222222222222222,
              "#7201a8"
             ],
             [
              0.3333333333333333,
              "#9c179e"
             ],
             [
              0.4444444444444444,
              "#bd3786"
             ],
             [
              0.5555555555555556,
              "#d8576b"
             ],
             [
              0.6666666666666666,
              "#ed7953"
             ],
             [
              0.7777777777777778,
              "#fb9f3a"
             ],
             [
              0.8888888888888888,
              "#fdca26"
             ],
             [
              1,
              "#f0f921"
             ]
            ],
            "type": "surface"
           }
          ],
          "table": [
           {
            "cells": {
             "fill": {
              "color": "#EBF0F8"
             },
             "line": {
              "color": "white"
             }
            },
            "header": {
             "fill": {
              "color": "#C8D4E3"
             },
             "line": {
              "color": "white"
             }
            },
            "type": "table"
           }
          ]
         },
         "layout": {
          "annotationdefaults": {
           "arrowcolor": "#2a3f5f",
           "arrowhead": 0,
           "arrowwidth": 1
          },
          "autotypenumbers": "strict",
          "coloraxis": {
           "colorbar": {
            "outlinewidth": 0,
            "ticks": ""
           }
          },
          "colorscale": {
           "diverging": [
            [
             0,
             "#8e0152"
            ],
            [
             0.1,
             "#c51b7d"
            ],
            [
             0.2,
             "#de77ae"
            ],
            [
             0.3,
             "#f1b6da"
            ],
            [
             0.4,
             "#fde0ef"
            ],
            [
             0.5,
             "#f7f7f7"
            ],
            [
             0.6,
             "#e6f5d0"
            ],
            [
             0.7,
             "#b8e186"
            ],
            [
             0.8,
             "#7fbc41"
            ],
            [
             0.9,
             "#4d9221"
            ],
            [
             1,
             "#276419"
            ]
           ],
           "sequential": [
            [
             0,
             "#0d0887"
            ],
            [
             0.1111111111111111,
             "#46039f"
            ],
            [
             0.2222222222222222,
             "#7201a8"
            ],
            [
             0.3333333333333333,
             "#9c179e"
            ],
            [
             0.4444444444444444,
             "#bd3786"
            ],
            [
             0.5555555555555556,
             "#d8576b"
            ],
            [
             0.6666666666666666,
             "#ed7953"
            ],
            [
             0.7777777777777778,
             "#fb9f3a"
            ],
            [
             0.8888888888888888,
             "#fdca26"
            ],
            [
             1,
             "#f0f921"
            ]
           ],
           "sequentialminus": [
            [
             0,
             "#0d0887"
            ],
            [
             0.1111111111111111,
             "#46039f"
            ],
            [
             0.2222222222222222,
             "#7201a8"
            ],
            [
             0.3333333333333333,
             "#9c179e"
            ],
            [
             0.4444444444444444,
             "#bd3786"
            ],
            [
             0.5555555555555556,
             "#d8576b"
            ],
            [
             0.6666666666666666,
             "#ed7953"
            ],
            [
             0.7777777777777778,
             "#fb9f3a"
            ],
            [
             0.8888888888888888,
             "#fdca26"
            ],
            [
             1,
             "#f0f921"
            ]
           ]
          },
          "colorway": [
           "#636efa",
           "#EF553B",
           "#00cc96",
           "#ab63fa",
           "#FFA15A",
           "#19d3f3",
           "#FF6692",
           "#B6E880",
           "#FF97FF",
           "#FECB52"
          ],
          "font": {
           "color": "#2a3f5f"
          },
          "geo": {
           "bgcolor": "white",
           "lakecolor": "white",
           "landcolor": "#E5ECF6",
           "showlakes": true,
           "showland": true,
           "subunitcolor": "white"
          },
          "hoverlabel": {
           "align": "left"
          },
          "hovermode": "closest",
          "mapbox": {
           "style": "light"
          },
          "paper_bgcolor": "white",
          "plot_bgcolor": "#E5ECF6",
          "polar": {
           "angularaxis": {
            "gridcolor": "white",
            "linecolor": "white",
            "ticks": ""
           },
           "bgcolor": "#E5ECF6",
           "radialaxis": {
            "gridcolor": "white",
            "linecolor": "white",
            "ticks": ""
           }
          },
          "scene": {
           "xaxis": {
            "backgroundcolor": "#E5ECF6",
            "gridcolor": "white",
            "gridwidth": 2,
            "linecolor": "white",
            "showbackground": true,
            "ticks": "",
            "zerolinecolor": "white"
           },
           "yaxis": {
            "backgroundcolor": "#E5ECF6",
            "gridcolor": "white",
            "gridwidth": 2,
            "linecolor": "white",
            "showbackground": true,
            "ticks": "",
            "zerolinecolor": "white"
           },
           "zaxis": {
            "backgroundcolor": "#E5ECF6",
            "gridcolor": "white",
            "gridwidth": 2,
            "linecolor": "white",
            "showbackground": true,
            "ticks": "",
            "zerolinecolor": "white"
           }
          },
          "shapedefaults": {
           "line": {
            "color": "#2a3f5f"
           }
          },
          "ternary": {
           "aaxis": {
            "gridcolor": "white",
            "linecolor": "white",
            "ticks": ""
           },
           "baxis": {
            "gridcolor": "white",
            "linecolor": "white",
            "ticks": ""
           },
           "bgcolor": "#E5ECF6",
           "caxis": {
            "gridcolor": "white",
            "linecolor": "white",
            "ticks": ""
           }
          },
          "title": {
           "x": 0.05
          },
          "xaxis": {
           "automargin": true,
           "gridcolor": "white",
           "linecolor": "white",
           "ticks": "",
           "title": {
            "standoff": 15
           },
           "zerolinecolor": "white",
           "zerolinewidth": 2
          },
          "yaxis": {
           "automargin": true,
           "gridcolor": "white",
           "linecolor": "white",
           "ticks": "",
           "title": {
            "standoff": 15
           },
           "zerolinecolor": "white",
           "zerolinewidth": 2
          }
         }
        },
        "title": {
         "text": "Possession won per 90 vs Possession lost per 90"
        },
        "width": 800,
        "xaxis": {
         "anchor": "y",
         "domain": [
          0,
          1
         ],
         "dtick": 0.5,
         "scaleanchor": "y",
         "scaleratio": 1,
         "tick0": 0,
         "ticklabelstep": 2,
         "title": {
          "text": "Possession won per 90"
         },
         "zeroline": true,
         "zerolinecolor": "Black",
         "zerolinewidth": 2
        },
        "yaxis": {
         "anchor": "x",
         "domain": [
          0,
          1
         ],
         "dtick": 0.5,
         "scaleanchor": "x",
         "scaleratio": 1,
         "tick0": 0,
         "ticklabelstep": 2,
         "title": {
          "text": "Possession lost per 90"
         },
         "zeroline": true,
         "zerolinecolor": "Black",
         "zerolinewidth": 2
        }
       }
      }
     },
     "metadata": {},
     "output_type": "display_data"
    },
    {
     "data": {
      "application/vnd.plotly.v1+json": {
       "config": {
        "plotlyServerURL": "https://plot.ly"
       },
       "data": [
        {
         "customdata": [
          [
           "Álejandro Balde"
          ],
          [
           "Henrik Hahn"
          ]
         ],
         "hovertemplate": "Position=LB<br>Possession won per 90=%{x}<br>Expected goal contributions per 90=%{y}<br>Minutes played=%{marker.size}<br>Name=%{customdata[0]}<extra></extra>",
         "legendgroup": "LB",
         "marker": {
          "color": "darkorange",
          "size": [
           1004,
           826
          ],
          "sizemode": "area",
          "sizeref": 4.6,
          "symbol": "circle"
         },
         "mode": "markers+text",
         "name": "LB",
         "orientation": "v",
         "showlegend": true,
         "text": [
          "Álejandro Balde",
          "Henrik Hahn"
         ],
         "textposition": "top center",
         "type": "scatter",
         "x": [
          2.42,
          2.62
         ],
         "xaxis": "x",
         "y": [
          0.46,
          0.54
         ],
         "yaxis": "y"
        },
        {
         "customdata": [
          [
           "Jean-Clair Todibo"
          ],
          [
           "Joško Gvardiol"
          ],
          [
           "Ronald Araujo"
          ]
         ],
         "hovertemplate": "Position=CB<br>Possession won per 90=%{x}<br>Expected goal contributions per 90=%{y}<br>Minutes played=%{marker.size}<br>Name=%{customdata[0]}<extra></extra>",
         "legendgroup": "CB",
         "marker": {
          "color": "orangered",
          "size": [
           645,
           1484,
           1840
          ],
          "sizemode": "area",
          "sizeref": 4.6,
          "symbol": "circle"
         },
         "mode": "markers+text",
         "name": "CB",
         "orientation": "v",
         "showlegend": true,
         "text": [
          "Jean-Clair Todibo",
          "Joško Gvardiol",
          "Ronald Araujo"
         ],
         "textposition": "top center",
         "type": "scatter",
         "x": [
          3.35,
          3.58,
          4.7
         ],
         "xaxis": "x",
         "y": [
          0.27,
          0.04,
          0.25
         ],
         "yaxis": "y"
        },
        {
         "customdata": [
          [
           "Reece James"
          ],
          [
           "Brais Verdejo"
          ]
         ],
         "hovertemplate": "Position=RB<br>Possession won per 90=%{x}<br>Expected goal contributions per 90=%{y}<br>Minutes played=%{marker.size}<br>Name=%{customdata[0]}<extra></extra>",
         "legendgroup": "RB",
         "marker": {
          "color": "coral",
          "size": [
           1149,
           801
          ],
          "sizemode": "area",
          "sizeref": 4.6,
          "symbol": "circle"
         },
         "mode": "markers+text",
         "name": "RB",
         "orientation": "v",
         "showlegend": true,
         "text": [
          "Reece James",
          "Brais Verdejo"
         ],
         "textposition": "top center",
         "type": "scatter",
         "x": [
          2.9,
          4.04
         ],
         "xaxis": "x",
         "y": [
          0.76,
          0.67
         ],
         "yaxis": "y"
        },
        {
         "customdata": [
          [
           "Aurélien Tchouaméni"
          ],
          [
           "Nico González"
          ]
         ],
         "hovertemplate": "Position=CDM<br>Possession won per 90=%{x}<br>Expected goal contributions per 90=%{y}<br>Minutes played=%{marker.size}<br>Name=%{customdata[0]}<extra></extra>",
         "legendgroup": "CDM",
         "marker": {
          "color": "gold",
          "size": [
           1018,
           920
          ],
          "sizemode": "area",
          "sizeref": 4.6,
          "symbol": "circle"
         },
         "mode": "markers+text",
         "name": "CDM",
         "orientation": "v",
         "showlegend": true,
         "text": [
          "Aurélien Tchouaméni",
          "Nico González"
         ],
         "textposition": "top center",
         "type": "scatter",
         "x": [
          2.3,
          3.62
         ],
         "xaxis": "x",
         "y": [
          1.34,
          1.04
         ],
         "yaxis": "y"
        },
        {
         "customdata": [
          [
           "Luciano Couto"
          ],
          [
           "Pablo Gavi"
          ],
          [
           "Pedri"
          ],
          [
           "Frenkie de Jong"
          ]
         ],
         "hovertemplate": "Position=CM<br>Possession won per 90=%{x}<br>Expected goal contributions per 90=%{y}<br>Minutes played=%{marker.size}<br>Name=%{customdata[0]}<extra></extra>",
         "legendgroup": "CM",
         "marker": {
          "color": "yellow",
          "size": [
           582,
           930,
           1135,
           1191
          ],
          "sizemode": "area",
          "sizeref": 4.6,
          "symbol": "circle"
         },
         "mode": "markers+text",
         "name": "CM",
         "orientation": "v",
         "showlegend": true,
         "text": [
          "Luciano Couto",
          "Pablo Gavi",
          "Pedri",
          "Frenkie de Jong"
         ],
         "textposition": "top center",
         "type": "scatter",
         "x": [
          1.7,
          1.35,
          1.35,
          2.72
         ],
         "xaxis": "x",
         "y": [
          3.03,
          2.8,
          3.29,
          2.71
         ],
         "yaxis": "y"
        },
        {
         "customdata": [
          [
           "Felix Davey"
          ],
          [
           "Noni Madueke"
          ]
         ],
         "hovertemplate": "Position=LW<br>Possession won per 90=%{x}<br>Expected goal contributions per 90=%{y}<br>Minutes played=%{marker.size}<br>Name=%{customdata[0]}<extra></extra>",
         "legendgroup": "LW",
         "marker": {
          "color": "greenyellow",
          "size": [
           776,
           857
          ],
          "sizemode": "area",
          "sizeref": 4.6,
          "symbol": "circle"
         },
         "mode": "markers+text",
         "name": "LW",
         "orientation": "v",
         "showlegend": true,
         "text": [
          "Felix Davey",
          "Noni Madueke"
         ],
         "textposition": "top center",
         "type": "scatter",
         "x": [
          1.16,
          1.16
         ],
         "xaxis": "x",
         "y": [
          2.42,
          1.84
         ],
         "yaxis": "y"
        },
        {
         "customdata": [
          [
           "Ansu Fati"
          ],
          [
           "Ferran Torres"
          ]
         ],
         "hovertemplate": "Position=RW<br>Possession won per 90=%{x}<br>Expected goal contributions per 90=%{y}<br>Minutes played=%{marker.size}<br>Name=%{customdata[0]}<extra></extra>",
         "legendgroup": "RW",
         "marker": {
          "color": "limegreen",
          "size": [
           1009,
           904
          ],
          "sizemode": "area",
          "sizeref": 4.6,
          "symbol": "circle"
         },
         "mode": "markers+text",
         "name": "RW",
         "orientation": "v",
         "showlegend": true,
         "text": [
          "Ansu Fati",
          "Ferran Torres"
         ],
         "textposition": "top center",
         "type": "scatter",
         "x": [
          1.25,
          0.5
         ],
         "xaxis": "x",
         "y": [
          3.39,
          2.76
         ],
         "yaxis": "y"
        },
        {
         "customdata": [
          [
           "Muhamed Zukic"
          ],
          [
           "Karim Adeyemi"
          ],
          [
           "Victor Osimhen"
          ]
         ],
         "hovertemplate": "Position=ST<br>Possession won per 90=%{x}<br>Expected goal contributions per 90=%{y}<br>Minutes played=%{marker.size}<br>Name=%{customdata[0]}<extra></extra>",
         "legendgroup": "ST",
         "marker": {
          "color": "green",
          "size": [
           279,
           744,
           1237
          ],
          "sizemode": "area",
          "sizeref": 4.6,
          "symbol": "circle"
         },
         "mode": "markers+text",
         "name": "ST",
         "orientation": "v",
         "showlegend": true,
         "text": [
          "Muhamed Zukic",
          "Karim Adeyemi",
          "Victor Osimhen"
         ],
         "textposition": "top center",
         "type": "scatter",
         "x": [
          0,
          0.85,
          0.73
         ],
         "xaxis": "x",
         "y": [
          3.55,
          4.77,
          5.09
         ],
         "yaxis": "y"
        }
       ],
       "layout": {
        "annotations": [
         {
          "showarrow": false,
          "text": "Size of data point - Minutes played",
          "x": 1,
          "xanchor": "right",
          "xref": "paper",
          "xshift": 0,
          "y": -0.1,
          "yanchor": "auto",
          "yref": "paper",
          "yshift": 0
         }
        ],
        "height": 800,
        "legend": {
         "itemsizing": "constant",
         "title": {
          "text": "Position"
         },
         "tracegroupgap": 0
        },
        "margin": {
         "t": 60
        },
        "template": {
         "data": {
          "bar": [
           {
            "error_x": {
             "color": "#2a3f5f"
            },
            "error_y": {
             "color": "#2a3f5f"
            },
            "marker": {
             "line": {
              "color": "#E5ECF6",
              "width": 0.5
             },
             "pattern": {
              "fillmode": "overlay",
              "size": 10,
              "solidity": 0.2
             }
            },
            "type": "bar"
           }
          ],
          "barpolar": [
           {
            "marker": {
             "line": {
              "color": "#E5ECF6",
              "width": 0.5
             },
             "pattern": {
              "fillmode": "overlay",
              "size": 10,
              "solidity": 0.2
             }
            },
            "type": "barpolar"
           }
          ],
          "carpet": [
           {
            "aaxis": {
             "endlinecolor": "#2a3f5f",
             "gridcolor": "white",
             "linecolor": "white",
             "minorgridcolor": "white",
             "startlinecolor": "#2a3f5f"
            },
            "baxis": {
             "endlinecolor": "#2a3f5f",
             "gridcolor": "white",
             "linecolor": "white",
             "minorgridcolor": "white",
             "startlinecolor": "#2a3f5f"
            },
            "type": "carpet"
           }
          ],
          "choropleth": [
           {
            "colorbar": {
             "outlinewidth": 0,
             "ticks": ""
            },
            "type": "choropleth"
           }
          ],
          "contour": [
           {
            "colorbar": {
             "outlinewidth": 0,
             "ticks": ""
            },
            "colorscale": [
             [
              0,
              "#0d0887"
             ],
             [
              0.1111111111111111,
              "#46039f"
             ],
             [
              0.2222222222222222,
              "#7201a8"
             ],
             [
              0.3333333333333333,
              "#9c179e"
             ],
             [
              0.4444444444444444,
              "#bd3786"
             ],
             [
              0.5555555555555556,
              "#d8576b"
             ],
             [
              0.6666666666666666,
              "#ed7953"
             ],
             [
              0.7777777777777778,
              "#fb9f3a"
             ],
             [
              0.8888888888888888,
              "#fdca26"
             ],
             [
              1,
              "#f0f921"
             ]
            ],
            "type": "contour"
           }
          ],
          "contourcarpet": [
           {
            "colorbar": {
             "outlinewidth": 0,
             "ticks": ""
            },
            "type": "contourcarpet"
           }
          ],
          "heatmap": [
           {
            "colorbar": {
             "outlinewidth": 0,
             "ticks": ""
            },
            "colorscale": [
             [
              0,
              "#0d0887"
             ],
             [
              0.1111111111111111,
              "#46039f"
             ],
             [
              0.2222222222222222,
              "#7201a8"
             ],
             [
              0.3333333333333333,
              "#9c179e"
             ],
             [
              0.4444444444444444,
              "#bd3786"
             ],
             [
              0.5555555555555556,
              "#d8576b"
             ],
             [
              0.6666666666666666,
              "#ed7953"
             ],
             [
              0.7777777777777778,
              "#fb9f3a"
             ],
             [
              0.8888888888888888,
              "#fdca26"
             ],
             [
              1,
              "#f0f921"
             ]
            ],
            "type": "heatmap"
           }
          ],
          "heatmapgl": [
           {
            "colorbar": {
             "outlinewidth": 0,
             "ticks": ""
            },
            "colorscale": [
             [
              0,
              "#0d0887"
             ],
             [
              0.1111111111111111,
              "#46039f"
             ],
             [
              0.2222222222222222,
              "#7201a8"
             ],
             [
              0.3333333333333333,
              "#9c179e"
             ],
             [
              0.4444444444444444,
              "#bd3786"
             ],
             [
              0.5555555555555556,
              "#d8576b"
             ],
             [
              0.6666666666666666,
              "#ed7953"
             ],
             [
              0.7777777777777778,
              "#fb9f3a"
             ],
             [
              0.8888888888888888,
              "#fdca26"
             ],
             [
              1,
              "#f0f921"
             ]
            ],
            "type": "heatmapgl"
           }
          ],
          "histogram": [
           {
            "marker": {
             "pattern": {
              "fillmode": "overlay",
              "size": 10,
              "solidity": 0.2
             }
            },
            "type": "histogram"
           }
          ],
          "histogram2d": [
           {
            "colorbar": {
             "outlinewidth": 0,
             "ticks": ""
            },
            "colorscale": [
             [
              0,
              "#0d0887"
             ],
             [
              0.1111111111111111,
              "#46039f"
             ],
             [
              0.2222222222222222,
              "#7201a8"
             ],
             [
              0.3333333333333333,
              "#9c179e"
             ],
             [
              0.4444444444444444,
              "#bd3786"
             ],
             [
              0.5555555555555556,
              "#d8576b"
             ],
             [
              0.6666666666666666,
              "#ed7953"
             ],
             [
              0.7777777777777778,
              "#fb9f3a"
             ],
             [
              0.8888888888888888,
              "#fdca26"
             ],
             [
              1,
              "#f0f921"
             ]
            ],
            "type": "histogram2d"
           }
          ],
          "histogram2dcontour": [
           {
            "colorbar": {
             "outlinewidth": 0,
             "ticks": ""
            },
            "colorscale": [
             [
              0,
              "#0d0887"
             ],
             [
              0.1111111111111111,
              "#46039f"
             ],
             [
              0.2222222222222222,
              "#7201a8"
             ],
             [
              0.3333333333333333,
              "#9c179e"
             ],
             [
              0.4444444444444444,
              "#bd3786"
             ],
             [
              0.5555555555555556,
              "#d8576b"
             ],
             [
              0.6666666666666666,
              "#ed7953"
             ],
             [
              0.7777777777777778,
              "#fb9f3a"
             ],
             [
              0.8888888888888888,
              "#fdca26"
             ],
             [
              1,
              "#f0f921"
             ]
            ],
            "type": "histogram2dcontour"
           }
          ],
          "mesh3d": [
           {
            "colorbar": {
             "outlinewidth": 0,
             "ticks": ""
            },
            "type": "mesh3d"
           }
          ],
          "parcoords": [
           {
            "line": {
             "colorbar": {
              "outlinewidth": 0,
              "ticks": ""
             }
            },
            "type": "parcoords"
           }
          ],
          "pie": [
           {
            "automargin": true,
            "type": "pie"
           }
          ],
          "scatter": [
           {
            "fillpattern": {
             "fillmode": "overlay",
             "size": 10,
             "solidity": 0.2
            },
            "type": "scatter"
           }
          ],
          "scatter3d": [
           {
            "line": {
             "colorbar": {
              "outlinewidth": 0,
              "ticks": ""
             }
            },
            "marker": {
             "colorbar": {
              "outlinewidth": 0,
              "ticks": ""
             }
            },
            "type": "scatter3d"
           }
          ],
          "scattercarpet": [
           {
            "marker": {
             "colorbar": {
              "outlinewidth": 0,
              "ticks": ""
             }
            },
            "type": "scattercarpet"
           }
          ],
          "scattergeo": [
           {
            "marker": {
             "colorbar": {
              "outlinewidth": 0,
              "ticks": ""
             }
            },
            "type": "scattergeo"
           }
          ],
          "scattergl": [
           {
            "marker": {
             "colorbar": {
              "outlinewidth": 0,
              "ticks": ""
             }
            },
            "type": "scattergl"
           }
          ],
          "scattermapbox": [
           {
            "marker": {
             "colorbar": {
              "outlinewidth": 0,
              "ticks": ""
             }
            },
            "type": "scattermapbox"
           }
          ],
          "scatterpolar": [
           {
            "marker": {
             "colorbar": {
              "outlinewidth": 0,
              "ticks": ""
             }
            },
            "type": "scatterpolar"
           }
          ],
          "scatterpolargl": [
           {
            "marker": {
             "colorbar": {
              "outlinewidth": 0,
              "ticks": ""
             }
            },
            "type": "scatterpolargl"
           }
          ],
          "scatterternary": [
           {
            "marker": {
             "colorbar": {
              "outlinewidth": 0,
              "ticks": ""
             }
            },
            "type": "scatterternary"
           }
          ],
          "surface": [
           {
            "colorbar": {
             "outlinewidth": 0,
             "ticks": ""
            },
            "colorscale": [
             [
              0,
              "#0d0887"
             ],
             [
              0.1111111111111111,
              "#46039f"
             ],
             [
              0.2222222222222222,
              "#7201a8"
             ],
             [
              0.3333333333333333,
              "#9c179e"
             ],
             [
              0.4444444444444444,
              "#bd3786"
             ],
             [
              0.5555555555555556,
              "#d8576b"
             ],
             [
              0.6666666666666666,
              "#ed7953"
             ],
             [
              0.7777777777777778,
              "#fb9f3a"
             ],
             [
              0.8888888888888888,
              "#fdca26"
             ],
             [
              1,
              "#f0f921"
             ]
            ],
            "type": "surface"
           }
          ],
          "table": [
           {
            "cells": {
             "fill": {
              "color": "#EBF0F8"
             },
             "line": {
              "color": "white"
             }
            },
            "header": {
             "fill": {
              "color": "#C8D4E3"
             },
             "line": {
              "color": "white"
             }
            },
            "type": "table"
           }
          ]
         },
         "layout": {
          "annotationdefaults": {
           "arrowcolor": "#2a3f5f",
           "arrowhead": 0,
           "arrowwidth": 1
          },
          "autotypenumbers": "strict",
          "coloraxis": {
           "colorbar": {
            "outlinewidth": 0,
            "ticks": ""
           }
          },
          "colorscale": {
           "diverging": [
            [
             0,
             "#8e0152"
            ],
            [
             0.1,
             "#c51b7d"
            ],
            [
             0.2,
             "#de77ae"
            ],
            [
             0.3,
             "#f1b6da"
            ],
            [
             0.4,
             "#fde0ef"
            ],
            [
             0.5,
             "#f7f7f7"
            ],
            [
             0.6,
             "#e6f5d0"
            ],
            [
             0.7,
             "#b8e186"
            ],
            [
             0.8,
             "#7fbc41"
            ],
            [
             0.9,
             "#4d9221"
            ],
            [
             1,
             "#276419"
            ]
           ],
           "sequential": [
            [
             0,
             "#0d0887"
            ],
            [
             0.1111111111111111,
             "#46039f"
            ],
            [
             0.2222222222222222,
             "#7201a8"
            ],
            [
             0.3333333333333333,
             "#9c179e"
            ],
            [
             0.4444444444444444,
             "#bd3786"
            ],
            [
             0.5555555555555556,
             "#d8576b"
            ],
            [
             0.6666666666666666,
             "#ed7953"
            ],
            [
             0.7777777777777778,
             "#fb9f3a"
            ],
            [
             0.8888888888888888,
             "#fdca26"
            ],
            [
             1,
             "#f0f921"
            ]
           ],
           "sequentialminus": [
            [
             0,
             "#0d0887"
            ],
            [
             0.1111111111111111,
             "#46039f"
            ],
            [
             0.2222222222222222,
             "#7201a8"
            ],
            [
             0.3333333333333333,
             "#9c179e"
            ],
            [
             0.4444444444444444,
             "#bd3786"
            ],
            [
             0.5555555555555556,
             "#d8576b"
            ],
            [
             0.6666666666666666,
             "#ed7953"
            ],
            [
             0.7777777777777778,
             "#fb9f3a"
            ],
            [
             0.8888888888888888,
             "#fdca26"
            ],
            [
             1,
             "#f0f921"
            ]
           ]
          },
          "colorway": [
           "#636efa",
           "#EF553B",
           "#00cc96",
           "#ab63fa",
           "#FFA15A",
           "#19d3f3",
           "#FF6692",
           "#B6E880",
           "#FF97FF",
           "#FECB52"
          ],
          "font": {
           "color": "#2a3f5f"
          },
          "geo": {
           "bgcolor": "white",
           "lakecolor": "white",
           "landcolor": "#E5ECF6",
           "showlakes": true,
           "showland": true,
           "subunitcolor": "white"
          },
          "hoverlabel": {
           "align": "left"
          },
          "hovermode": "closest",
          "mapbox": {
           "style": "light"
          },
          "paper_bgcolor": "white",
          "plot_bgcolor": "#E5ECF6",
          "polar": {
           "angularaxis": {
            "gridcolor": "white",
            "linecolor": "white",
            "ticks": ""
           },
           "bgcolor": "#E5ECF6",
           "radialaxis": {
            "gridcolor": "white",
            "linecolor": "white",
            "ticks": ""
           }
          },
          "scene": {
           "xaxis": {
            "backgroundcolor": "#E5ECF6",
            "gridcolor": "white",
            "gridwidth": 2,
            "linecolor": "white",
            "showbackground": true,
            "ticks": "",
            "zerolinecolor": "white"
           },
           "yaxis": {
            "backgroundcolor": "#E5ECF6",
            "gridcolor": "white",
            "gridwidth": 2,
            "linecolor": "white",
            "showbackground": true,
            "ticks": "",
            "zerolinecolor": "white"
           },
           "zaxis": {
            "backgroundcolor": "#E5ECF6",
            "gridcolor": "white",
            "gridwidth": 2,
            "linecolor": "white",
            "showbackground": true,
            "ticks": "",
            "zerolinecolor": "white"
           }
          },
          "shapedefaults": {
           "line": {
            "color": "#2a3f5f"
           }
          },
          "ternary": {
           "aaxis": {
            "gridcolor": "white",
            "linecolor": "white",
            "ticks": ""
           },
           "baxis": {
            "gridcolor": "white",
            "linecolor": "white",
            "ticks": ""
           },
           "bgcolor": "#E5ECF6",
           "caxis": {
            "gridcolor": "white",
            "linecolor": "white",
            "ticks": ""
           }
          },
          "title": {
           "x": 0.05
          },
          "xaxis": {
           "automargin": true,
           "gridcolor": "white",
           "linecolor": "white",
           "ticks": "",
           "title": {
            "standoff": 15
           },
           "zerolinecolor": "white",
           "zerolinewidth": 2
          },
          "yaxis": {
           "automargin": true,
           "gridcolor": "white",
           "linecolor": "white",
           "ticks": "",
           "title": {
            "standoff": 15
           },
           "zerolinecolor": "white",
           "zerolinewidth": 2
          }
         }
        },
        "title": {
         "text": "Possession won per 90 vs Expected goal contributions per 90"
        },
        "width": 800,
        "xaxis": {
         "anchor": "y",
         "domain": [
          0,
          1
         ],
         "dtick": 0.5,
         "scaleanchor": "y",
         "scaleratio": 1,
         "tick0": 0,
         "ticklabelstep": 2,
         "title": {
          "text": "Possession won per 90"
         },
         "zeroline": true,
         "zerolinecolor": "Black",
         "zerolinewidth": 2
        },
        "yaxis": {
         "anchor": "x",
         "domain": [
          0,
          1
         ],
         "dtick": 0.5,
         "scaleanchor": "x",
         "scaleratio": 1,
         "tick0": 0,
         "ticklabelstep": 2,
         "title": {
          "text": "Expected goal contributions per 90"
         },
         "zeroline": true,
         "zerolinecolor": "Black",
         "zerolinewidth": 2
        }
       }
      }
     },
     "metadata": {},
     "output_type": "display_data"
    }
   ],
   "source": [
    "scatter_chart('xAp90', 'xGp90')\n",
    "scatter_chart('PossessionWonp90', 'PossessionLostp90')\n",
    "scatter_chart('PossessionWonp90', 'xGCp90')"
   ]
  },
  {
   "cell_type": "code",
   "execution_count": 12,
   "metadata": {},
   "outputs": [
    {
     "data": {
      "application/vnd.plotly.v1+json": {
       "config": {
        "plotlyServerURL": "https://plot.ly"
       },
       "data": [
        {
         "cliponaxis": false,
         "name": "Assistsp90",
         "text": [
          0,
          0,
          0,
          0.09,
          0.16,
          0.2,
          0.29,
          0.29,
          0.32,
          0.34,
          0.44,
          0.45,
          0.46,
          0.65,
          0.87,
          0.89,
          0.93,
          0.95,
          1.09
         ],
         "textfont": {
          "size": 10
         },
         "textposition": "outside",
         "type": "bar",
         "x": [
          "Henrik<br>Hahn",
          "Joško<br>Gvardiol",
          "Ronald<br>Araujo",
          "Álejandro<br>Balde",
          "Reece<br>James",
          "Ferran<br>Torres",
          "Nico<br>González",
          "Victor<br>Osimhen",
          "Noni<br>Madueke",
          "Brais<br>Verdejo",
          "Aurélien<br>Tchouaméni",
          "Frenkie<br>de<br>Jong",
          "Luciano<br>Couto",
          "Muhamed<br>Zukic",
          "Pablo<br>Gavi",
          "Ansu<br>Fati",
          "Felix<br>Davey",
          "Pedri",
          "Karim<br>Adeyemi"
         ],
         "y": [
          0,
          0,
          0,
          0.09,
          0.16,
          0.2,
          0.29,
          0.29,
          0.32,
          0.34,
          0.44,
          0.45,
          0.46,
          0.65,
          0.87,
          0.89,
          0.93,
          0.95,
          1.09
         ]
        },
        {
         "cliponaxis": false,
         "name": "xAp90",
         "text": [
          0.54,
          0.02,
          0.07,
          0.45,
          0.64,
          1.89,
          0.98,
          1.54,
          1.03,
          0.6,
          1.2,
          1.81,
          1.89,
          1.48,
          1.76,
          2.52,
          1.73,
          2.39,
          2.52
         ],
         "textfont": {
          "size": 10
         },
         "textposition": "outside",
         "type": "bar",
         "x": [
          "Henrik<br>Hahn",
          "Joško<br>Gvardiol",
          "Ronald<br>Araujo",
          "Álejandro<br>Balde",
          "Reece<br>James",
          "Ferran<br>Torres",
          "Nico<br>González",
          "Victor<br>Osimhen",
          "Noni<br>Madueke",
          "Brais<br>Verdejo",
          "Aurélien<br>Tchouaméni",
          "Frenkie<br>de<br>Jong",
          "Luciano<br>Couto",
          "Muhamed<br>Zukic",
          "Pablo<br>Gavi",
          "Ansu<br>Fati",
          "Felix<br>Davey",
          "Pedri",
          "Karim<br>Adeyemi"
         ],
         "y": [
          0.54,
          0.02,
          0.07,
          0.45,
          0.64,
          1.89,
          0.98,
          1.54,
          1.03,
          0.6,
          1.2,
          1.81,
          1.89,
          1.48,
          1.76,
          2.52,
          1.73,
          2.39,
          2.52
         ]
        }
       ],
       "layout": {
        "bargap": 0.15,
        "bargroupgap": 0.1,
        "barmode": "group",
        "height": 600,
        "template": {
         "data": {
          "bar": [
           {
            "error_x": {
             "color": "#2a3f5f"
            },
            "error_y": {
             "color": "#2a3f5f"
            },
            "marker": {
             "line": {
              "color": "#E5ECF6",
              "width": 0.5
             },
             "pattern": {
              "fillmode": "overlay",
              "size": 10,
              "solidity": 0.2
             }
            },
            "type": "bar"
           }
          ],
          "barpolar": [
           {
            "marker": {
             "line": {
              "color": "#E5ECF6",
              "width": 0.5
             },
             "pattern": {
              "fillmode": "overlay",
              "size": 10,
              "solidity": 0.2
             }
            },
            "type": "barpolar"
           }
          ],
          "carpet": [
           {
            "aaxis": {
             "endlinecolor": "#2a3f5f",
             "gridcolor": "white",
             "linecolor": "white",
             "minorgridcolor": "white",
             "startlinecolor": "#2a3f5f"
            },
            "baxis": {
             "endlinecolor": "#2a3f5f",
             "gridcolor": "white",
             "linecolor": "white",
             "minorgridcolor": "white",
             "startlinecolor": "#2a3f5f"
            },
            "type": "carpet"
           }
          ],
          "choropleth": [
           {
            "colorbar": {
             "outlinewidth": 0,
             "ticks": ""
            },
            "type": "choropleth"
           }
          ],
          "contour": [
           {
            "colorbar": {
             "outlinewidth": 0,
             "ticks": ""
            },
            "colorscale": [
             [
              0,
              "#0d0887"
             ],
             [
              0.1111111111111111,
              "#46039f"
             ],
             [
              0.2222222222222222,
              "#7201a8"
             ],
             [
              0.3333333333333333,
              "#9c179e"
             ],
             [
              0.4444444444444444,
              "#bd3786"
             ],
             [
              0.5555555555555556,
              "#d8576b"
             ],
             [
              0.6666666666666666,
              "#ed7953"
             ],
             [
              0.7777777777777778,
              "#fb9f3a"
             ],
             [
              0.8888888888888888,
              "#fdca26"
             ],
             [
              1,
              "#f0f921"
             ]
            ],
            "type": "contour"
           }
          ],
          "contourcarpet": [
           {
            "colorbar": {
             "outlinewidth": 0,
             "ticks": ""
            },
            "type": "contourcarpet"
           }
          ],
          "heatmap": [
           {
            "colorbar": {
             "outlinewidth": 0,
             "ticks": ""
            },
            "colorscale": [
             [
              0,
              "#0d0887"
             ],
             [
              0.1111111111111111,
              "#46039f"
             ],
             [
              0.2222222222222222,
              "#7201a8"
             ],
             [
              0.3333333333333333,
              "#9c179e"
             ],
             [
              0.4444444444444444,
              "#bd3786"
             ],
             [
              0.5555555555555556,
              "#d8576b"
             ],
             [
              0.6666666666666666,
              "#ed7953"
             ],
             [
              0.7777777777777778,
              "#fb9f3a"
             ],
             [
              0.8888888888888888,
              "#fdca26"
             ],
             [
              1,
              "#f0f921"
             ]
            ],
            "type": "heatmap"
           }
          ],
          "heatmapgl": [
           {
            "colorbar": {
             "outlinewidth": 0,
             "ticks": ""
            },
            "colorscale": [
             [
              0,
              "#0d0887"
             ],
             [
              0.1111111111111111,
              "#46039f"
             ],
             [
              0.2222222222222222,
              "#7201a8"
             ],
             [
              0.3333333333333333,
              "#9c179e"
             ],
             [
              0.4444444444444444,
              "#bd3786"
             ],
             [
              0.5555555555555556,
              "#d8576b"
             ],
             [
              0.6666666666666666,
              "#ed7953"
             ],
             [
              0.7777777777777778,
              "#fb9f3a"
             ],
             [
              0.8888888888888888,
              "#fdca26"
             ],
             [
              1,
              "#f0f921"
             ]
            ],
            "type": "heatmapgl"
           }
          ],
          "histogram": [
           {
            "marker": {
             "pattern": {
              "fillmode": "overlay",
              "size": 10,
              "solidity": 0.2
             }
            },
            "type": "histogram"
           }
          ],
          "histogram2d": [
           {
            "colorbar": {
             "outlinewidth": 0,
             "ticks": ""
            },
            "colorscale": [
             [
              0,
              "#0d0887"
             ],
             [
              0.1111111111111111,
              "#46039f"
             ],
             [
              0.2222222222222222,
              "#7201a8"
             ],
             [
              0.3333333333333333,
              "#9c179e"
             ],
             [
              0.4444444444444444,
              "#bd3786"
             ],
             [
              0.5555555555555556,
              "#d8576b"
             ],
             [
              0.6666666666666666,
              "#ed7953"
             ],
             [
              0.7777777777777778,
              "#fb9f3a"
             ],
             [
              0.8888888888888888,
              "#fdca26"
             ],
             [
              1,
              "#f0f921"
             ]
            ],
            "type": "histogram2d"
           }
          ],
          "histogram2dcontour": [
           {
            "colorbar": {
             "outlinewidth": 0,
             "ticks": ""
            },
            "colorscale": [
             [
              0,
              "#0d0887"
             ],
             [
              0.1111111111111111,
              "#46039f"
             ],
             [
              0.2222222222222222,
              "#7201a8"
             ],
             [
              0.3333333333333333,
              "#9c179e"
             ],
             [
              0.4444444444444444,
              "#bd3786"
             ],
             [
              0.5555555555555556,
              "#d8576b"
             ],
             [
              0.6666666666666666,
              "#ed7953"
             ],
             [
              0.7777777777777778,
              "#fb9f3a"
             ],
             [
              0.8888888888888888,
              "#fdca26"
             ],
             [
              1,
              "#f0f921"
             ]
            ],
            "type": "histogram2dcontour"
           }
          ],
          "mesh3d": [
           {
            "colorbar": {
             "outlinewidth": 0,
             "ticks": ""
            },
            "type": "mesh3d"
           }
          ],
          "parcoords": [
           {
            "line": {
             "colorbar": {
              "outlinewidth": 0,
              "ticks": ""
             }
            },
            "type": "parcoords"
           }
          ],
          "pie": [
           {
            "automargin": true,
            "type": "pie"
           }
          ],
          "scatter": [
           {
            "fillpattern": {
             "fillmode": "overlay",
             "size": 10,
             "solidity": 0.2
            },
            "type": "scatter"
           }
          ],
          "scatter3d": [
           {
            "line": {
             "colorbar": {
              "outlinewidth": 0,
              "ticks": ""
             }
            },
            "marker": {
             "colorbar": {
              "outlinewidth": 0,
              "ticks": ""
             }
            },
            "type": "scatter3d"
           }
          ],
          "scattercarpet": [
           {
            "marker": {
             "colorbar": {
              "outlinewidth": 0,
              "ticks": ""
             }
            },
            "type": "scattercarpet"
           }
          ],
          "scattergeo": [
           {
            "marker": {
             "colorbar": {
              "outlinewidth": 0,
              "ticks": ""
             }
            },
            "type": "scattergeo"
           }
          ],
          "scattergl": [
           {
            "marker": {
             "colorbar": {
              "outlinewidth": 0,
              "ticks": ""
             }
            },
            "type": "scattergl"
           }
          ],
          "scattermapbox": [
           {
            "marker": {
             "colorbar": {
              "outlinewidth": 0,
              "ticks": ""
             }
            },
            "type": "scattermapbox"
           }
          ],
          "scatterpolar": [
           {
            "marker": {
             "colorbar": {
              "outlinewidth": 0,
              "ticks": ""
             }
            },
            "type": "scatterpolar"
           }
          ],
          "scatterpolargl": [
           {
            "marker": {
             "colorbar": {
              "outlinewidth": 0,
              "ticks": ""
             }
            },
            "type": "scatterpolargl"
           }
          ],
          "scatterternary": [
           {
            "marker": {
             "colorbar": {
              "outlinewidth": 0,
              "ticks": ""
             }
            },
            "type": "scatterternary"
           }
          ],
          "surface": [
           {
            "colorbar": {
             "outlinewidth": 0,
             "ticks": ""
            },
            "colorscale": [
             [
              0,
              "#0d0887"
             ],
             [
              0.1111111111111111,
              "#46039f"
             ],
             [
              0.2222222222222222,
              "#7201a8"
             ],
             [
              0.3333333333333333,
              "#9c179e"
             ],
             [
              0.4444444444444444,
              "#bd3786"
             ],
             [
              0.5555555555555556,
              "#d8576b"
             ],
             [
              0.6666666666666666,
              "#ed7953"
             ],
             [
              0.7777777777777778,
              "#fb9f3a"
             ],
             [
              0.8888888888888888,
              "#fdca26"
             ],
             [
              1,
              "#f0f921"
             ]
            ],
            "type": "surface"
           }
          ],
          "table": [
           {
            "cells": {
             "fill": {
              "color": "#EBF0F8"
             },
             "line": {
              "color": "white"
             }
            },
            "header": {
             "fill": {
              "color": "#C8D4E3"
             },
             "line": {
              "color": "white"
             }
            },
            "type": "table"
           }
          ]
         },
         "layout": {
          "annotationdefaults": {
           "arrowcolor": "#2a3f5f",
           "arrowhead": 0,
           "arrowwidth": 1
          },
          "autotypenumbers": "strict",
          "coloraxis": {
           "colorbar": {
            "outlinewidth": 0,
            "ticks": ""
           }
          },
          "colorscale": {
           "diverging": [
            [
             0,
             "#8e0152"
            ],
            [
             0.1,
             "#c51b7d"
            ],
            [
             0.2,
             "#de77ae"
            ],
            [
             0.3,
             "#f1b6da"
            ],
            [
             0.4,
             "#fde0ef"
            ],
            [
             0.5,
             "#f7f7f7"
            ],
            [
             0.6,
             "#e6f5d0"
            ],
            [
             0.7,
             "#b8e186"
            ],
            [
             0.8,
             "#7fbc41"
            ],
            [
             0.9,
             "#4d9221"
            ],
            [
             1,
             "#276419"
            ]
           ],
           "sequential": [
            [
             0,
             "#0d0887"
            ],
            [
             0.1111111111111111,
             "#46039f"
            ],
            [
             0.2222222222222222,
             "#7201a8"
            ],
            [
             0.3333333333333333,
             "#9c179e"
            ],
            [
             0.4444444444444444,
             "#bd3786"
            ],
            [
             0.5555555555555556,
             "#d8576b"
            ],
            [
             0.6666666666666666,
             "#ed7953"
            ],
            [
             0.7777777777777778,
             "#fb9f3a"
            ],
            [
             0.8888888888888888,
             "#fdca26"
            ],
            [
             1,
             "#f0f921"
            ]
           ],
           "sequentialminus": [
            [
             0,
             "#0d0887"
            ],
            [
             0.1111111111111111,
             "#46039f"
            ],
            [
             0.2222222222222222,
             "#7201a8"
            ],
            [
             0.3333333333333333,
             "#9c179e"
            ],
            [
             0.4444444444444444,
             "#bd3786"
            ],
            [
             0.5555555555555556,
             "#d8576b"
            ],
            [
             0.6666666666666666,
             "#ed7953"
            ],
            [
             0.7777777777777778,
             "#fb9f3a"
            ],
            [
             0.8888888888888888,
             "#fdca26"
            ],
            [
             1,
             "#f0f921"
            ]
           ]
          },
          "colorway": [
           "#636efa",
           "#EF553B",
           "#00cc96",
           "#ab63fa",
           "#FFA15A",
           "#19d3f3",
           "#FF6692",
           "#B6E880",
           "#FF97FF",
           "#FECB52"
          ],
          "font": {
           "color": "#2a3f5f"
          },
          "geo": {
           "bgcolor": "white",
           "lakecolor": "white",
           "landcolor": "#E5ECF6",
           "showlakes": true,
           "showland": true,
           "subunitcolor": "white"
          },
          "hoverlabel": {
           "align": "left"
          },
          "hovermode": "closest",
          "mapbox": {
           "style": "light"
          },
          "paper_bgcolor": "white",
          "plot_bgcolor": "#E5ECF6",
          "polar": {
           "angularaxis": {
            "gridcolor": "white",
            "linecolor": "white",
            "ticks": ""
           },
           "bgcolor": "#E5ECF6",
           "radialaxis": {
            "gridcolor": "white",
            "linecolor": "white",
            "ticks": ""
           }
          },
          "scene": {
           "xaxis": {
            "backgroundcolor": "#E5ECF6",
            "gridcolor": "white",
            "gridwidth": 2,
            "linecolor": "white",
            "showbackground": true,
            "ticks": "",
            "zerolinecolor": "white"
           },
           "yaxis": {
            "backgroundcolor": "#E5ECF6",
            "gridcolor": "white",
            "gridwidth": 2,
            "linecolor": "white",
            "showbackground": true,
            "ticks": "",
            "zerolinecolor": "white"
           },
           "zaxis": {
            "backgroundcolor": "#E5ECF6",
            "gridcolor": "white",
            "gridwidth": 2,
            "linecolor": "white",
            "showbackground": true,
            "ticks": "",
            "zerolinecolor": "white"
           }
          },
          "shapedefaults": {
           "line": {
            "color": "#2a3f5f"
           }
          },
          "ternary": {
           "aaxis": {
            "gridcolor": "white",
            "linecolor": "white",
            "ticks": ""
           },
           "baxis": {
            "gridcolor": "white",
            "linecolor": "white",
            "ticks": ""
           },
           "bgcolor": "#E5ECF6",
           "caxis": {
            "gridcolor": "white",
            "linecolor": "white",
            "ticks": ""
           }
          },
          "title": {
           "x": 0.05
          },
          "xaxis": {
           "automargin": true,
           "gridcolor": "white",
           "linecolor": "white",
           "ticks": "",
           "title": {
            "standoff": 15
           },
           "zerolinecolor": "white",
           "zerolinewidth": 2
          },
          "yaxis": {
           "automargin": true,
           "gridcolor": "white",
           "linecolor": "white",
           "ticks": "",
           "title": {
            "standoff": 15
           },
           "zerolinecolor": "white",
           "zerolinewidth": 2
          }
         }
        },
        "title": {
         "text": "Assists per 90 vs Expected assists per 90"
        },
        "width": 1600,
        "xaxis": {
         "categoryorder": "min descending",
         "title": {
          "text": "Players"
         }
        },
        "yaxis": {
         "title": {
          "text": "Assists per 90 & Expected assists per 90"
         }
        }
       }
      }
     },
     "metadata": {},
     "output_type": "display_data"
    }
   ],
   "source": [
    "grouped_bar('Assistsp90', 'xAp90')"
   ]
  }
 ],
 "metadata": {
  "kernelspec": {
   "display_name": "Python 3.9.9 64-bit",
   "language": "python",
   "name": "python3"
  },
  "language_info": {
   "codemirror_mode": {
    "name": "ipython",
    "version": 3
   },
   "file_extension": ".py",
   "mimetype": "text/x-python",
   "name": "python",
   "nbconvert_exporter": "python",
   "pygments_lexer": "ipython3",
   "version": "3.9.9"
  },
  "orig_nbformat": 4,
  "vscode": {
   "interpreter": {
    "hash": "11938c6bc6919ae2720b4d5011047913343b08a43b18698fd82dedb0d4417594"
   }
  }
 },
 "nbformat": 4,
 "nbformat_minor": 2
}

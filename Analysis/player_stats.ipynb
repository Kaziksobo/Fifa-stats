{
 "cells": [
  {
   "cell_type": "code",
   "execution_count": 28,
   "metadata": {},
   "outputs": [],
   "source": [
    "import json, os\n",
    "from pathlib import Path\n",
    "from matplotlib import pyplot as plt"
   ]
  },
  {
   "cell_type": "code",
   "execution_count": 50,
   "metadata": {},
   "outputs": [],
   "source": [
    "def season_adder(current: str) -> str:\n",
    "    end_year = current.split('_')[1]\n",
    "    return f'{end_year}_{str(int(end_year) + 1)}'\n",
    "\n",
    "def version_adder(season: str, version: str) -> str:\n",
    "    versions = ['start', 'summer_end', 'winter_end', 'end']\n",
    "    next_version_num = versions.index(version) + 1\n",
    "    if next_version_num > 3:\n",
    "        next_version_num = 0\n",
    "        season = season_adder(season)\n",
    "    next_version = versions[next_version_num]\n",
    "    return season, next_version\n",
    "\n",
    "def best_version(season: str) -> str:\n",
    "    \n",
    "\n",
    "def players_path_generator(season: str, version: str) -> str:\n",
    "    folder = Path(f'C:/Users/kazik/OneDrive/Desktop/Stuff/fifa/Data/{season}/')\n",
    "    return folder / f'players/{version}.json'\n",
    "\n",
    "def matches_path_generator(season: str, comp: str) -> str:\n",
    "    folder = Path(f'C:/Users/kazik/OneDrive/Desktop/Stuff/fifa/Data/{season}/')\n",
    "    return folder / f'matches/{comp}.json'\n",
    "\n",
    "def loader(version: str, season: str) -> tuple:\n",
    "    players_path = players_path_generator(season, version)\n",
    "    players = json.load(open(players_path, encoding='utf-8'))\n",
    "    matches = {}\n",
    "    for comp in ['LaLiga', 'UCL', 'Copa']:\n",
    "        file_path = matches_path_generator(season, comp)\n",
    "        try:\n",
    "            match = json.load(open(file_path, encoding='utf-8'))\n",
    "            matches[comp] = match\n",
    "        except json.JSONDecodeError:\n",
    "            continue\n",
    "    return players, matches"
   ]
  },
  {
   "cell_type": "code",
   "execution_count": 53,
   "metadata": {},
   "outputs": [],
   "source": [
    "version = 'summer_end'\n",
    "season = '25_26'\n",
    "\n",
    "players, matches = loader(version, season)"
   ]
  },
  {
   "cell_type": "code",
   "execution_count": 32,
   "metadata": {},
   "outputs": [],
   "source": [
    "def remove_sold(players: list) -> list:\n",
    "    for player in players:\n",
    "        if player['Status'] == 'Sold':\n",
    "            players.remove(player)\n",
    "    \n",
    "    return players\n",
    "\n",
    "def remove_loan(players: list) -> list:\n",
    "    for player in players:\n",
    "        if player['Status'] == 'On Loan':\n",
    "            players.remove(player)\n",
    "    return players"
   ]
  }
 ],
 "metadata": {
  "kernelspec": {
   "display_name": "Python 3.9.9 64-bit",
   "language": "python",
   "name": "python3"
  },
  "language_info": {
   "codemirror_mode": {
    "name": "ipython",
    "version": 3
   },
   "file_extension": ".py",
   "mimetype": "text/x-python",
   "name": "python",
   "nbconvert_exporter": "python",
   "pygments_lexer": "ipython3",
   "version": "3.9.9 (tags/v3.9.9:ccb0e6a, Nov 15 2021, 18:08:50) [MSC v.1929 64 bit (AMD64)]"
  },
  "orig_nbformat": 4,
  "vscode": {
   "interpreter": {
    "hash": "11938c6bc6919ae2720b4d5011047913343b08a43b18698fd82dedb0d4417594"
   }
  }
 },
 "nbformat": 4,
 "nbformat_minor": 2
}
